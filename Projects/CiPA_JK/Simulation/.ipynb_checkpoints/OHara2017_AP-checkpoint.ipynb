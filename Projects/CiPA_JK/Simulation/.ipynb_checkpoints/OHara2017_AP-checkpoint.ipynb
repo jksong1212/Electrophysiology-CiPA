{
 "cells": [
  {
   "cell_type": "code",
   "execution_count": 1,
   "id": "f5cbbdbe-d96c-40ab-93be-16b854518cec",
   "metadata": {},
   "outputs": [],
   "source": [
    "import os, sys, time, copy\n",
    "import numpy as np\n",
    "import matplotlib.pyplot as plt\n",
    "\n",
    "import myokit\n",
    "sys.path.append('../../../')\n",
    "sys.path.append('../../../Protocols')\n",
    "sys.path.append('../../../Models')\n",
    "sys.path.append('../../../Lib')\n",
    "import protocol_lib\n",
    "import mod_trace\n",
    "from ord2017 import ORD2017"
   ]
  },
  {
   "cell_type": "code",
   "execution_count": 2,
   "id": "97b5f97f-7121-45d9-ac21-eb037b6b5d40",
   "metadata": {},
   "outputs": [],
   "source": [
    "def create_folder(path):\n",
    "    if not os.path.exists(path):\n",
    "        os.makedirs(path)\n",
    "        print('\"%s\" has been created.'%(path))\n",
    "    else:\n",
    "        print(\"The folder already exists.\")"
   ]
  },
  {
   "cell_type": "code",
   "execution_count": 3,
   "id": "ddf54034-ba78-4e6c-9dfd-bf56bd1530ce",
   "metadata": {},
   "outputs": [
    {
     "name": "stdout",
     "output_type": "stream",
     "text": [
      "The folder already exists.\n"
     ]
    }
   ],
   "source": [
    "result_dir = './Results'\n",
    "create_folder(result_dir)"
   ]
  },
  {
   "cell_type": "code",
   "execution_count": 4,
   "id": "762cf3e8-add6-4f29-a92e-58f0e48ddbef",
   "metadata": {},
   "outputs": [],
   "source": [
    "'''\n",
    "O'Hara CiPA v1.0 2017\n",
    "'''\n",
    "cell_types = {\n",
    "    'Endocardial' : 0,\n",
    "    'Epicardial' : 1,\n",
    "    'Mid-myocardial' : 2,\n",
    "}\n",
    "end_time = 500\n",
    "bcl = 1000\n",
    "duration = 0.5\n",
    "offset = 20\n",
    "\n",
    "t_span = (0, end_time)\n",
    "# t_eval = np.linspace(0, t_span[1], 5000)  "
   ]
  },
  {
   "cell_type": "code",
   "execution_count": 5,
   "id": "323655ce-ff4f-44e4-b9a6-e64f9b45078b",
   "metadata": {},
   "outputs": [
    {
     "name": "stdout",
     "output_type": "stream",
     "text": [
      "--- 13.411072015762329 seconds ---\n"
     ]
    }
   ],
   "source": [
    "import simulator_myokit\n",
    "'''\n",
    "Simulation with Myokit\n",
    "'''\n",
    "start_time = time.time()\n",
    "\n",
    "model_myokit, protocol_myokit, script = myokit.load(\"../../../mmt-model-files/ohara-cipa-v1-2017.mmt\" )\n",
    "protocol_myokit = myokit.pacing.blocktrain(bcl*100, duration, offset=offset) # period, duration, offset=0, level=1.0, limit=0\n",
    "sim_myokit = simulator_myokit.Simulator(model_myokit, protocol_myokit, max_step=1.0, abs_tol=1e-08, rel_tol=1e-10, vhold=0)  # 1e-12, 1e-14  # 1e-08, 1e-10\n",
    "\n",
    "print(\"--- %s seconds ---\"%(time.time()-start_time))"
   ]
  },
  {
   "cell_type": "code",
   "execution_count": 6,
   "id": "e37c2186-d744-4445-922f-1fda7b83b46c",
   "metadata": {},
   "outputs": [
    {
     "name": "stdout",
     "output_type": "stream",
     "text": [
      "--- 0.050863027572631836 seconds ---\n",
      "--- 0.04687380790710449 seconds ---\n",
      "--- 0.05385780334472656 seconds ---\n"
     ]
    }
   ],
   "source": [
    "y0_li = []\n",
    "simulated_models_myokit = []\n",
    "for name, mode in cell_types.items():    \n",
    "    start_time = time.time()\n",
    "    \n",
    "    params = {         \n",
    "        'cell.mode': mode,    \n",
    "    }\n",
    "    sim_myokit.set_simulation_params(params)\n",
    "    y0_myokit = sim_myokit.pre_simulate(bcl*100, sim_type=0)\n",
    "    y0_li.append(y0_myokit)\n",
    "    d = sim_myokit.simulate(end_time, log_times=None)\n",
    "    simulated_models_myokit.append(d)\n",
    "    \n",
    "    print(\"--- %s seconds ---\"%(time.time()-start_time))"
   ]
  },
  {
   "cell_type": "code",
   "execution_count": 7,
   "id": "9c8879bc-8aa6-471f-9f56-9a2a8878fe27",
   "metadata": {},
   "outputs": [
    {
     "ename": "FileNotFoundError",
     "evalue": "Could not find module 'C:\\Users\\User\\AppData\\Roaming\\Python\\Python39\\site-packages\\numbalsoda\\liblsoda.dll' (or one of its dependencies). Try using the full path with constructor syntax.",
     "output_type": "error",
     "traceback": [
      "\u001b[1;31m---------------------------------------------------------------------------\u001b[0m",
      "\u001b[1;31mFileNotFoundError\u001b[0m                         Traceback (most recent call last)",
      "\u001b[1;32m~\\AppData\\Local\\Temp\\ipykernel_94844\\2045946468.py\u001b[0m in \u001b[0;36m<module>\u001b[1;34m\u001b[0m\n\u001b[1;32m----> 1\u001b[1;33m \u001b[1;32mimport\u001b[0m \u001b[0msimulator_scipy\u001b[0m\u001b[1;33m\u001b[0m\u001b[1;33m\u001b[0m\u001b[0m\n\u001b[0m\u001b[0;32m      2\u001b[0m '''\n\u001b[0;32m      3\u001b[0m \u001b[0mSimulation\u001b[0m \u001b[1;32mwith\u001b[0m \u001b[0mBDF\u001b[0m\u001b[1;33m\u001b[0m\u001b[1;33m\u001b[0m\u001b[0m\n\u001b[0;32m      4\u001b[0m '''\n\u001b[0;32m      5\u001b[0m \u001b[0mprotocol\u001b[0m \u001b[1;33m=\u001b[0m \u001b[0mprotocol_lib\u001b[0m\u001b[1;33m.\u001b[0m\u001b[0mPacingProtocol\u001b[0m\u001b[1;33m(\u001b[0m\u001b[0mlevel\u001b[0m\u001b[1;33m=\u001b[0m\u001b[1;36m1\u001b[0m\u001b[1;33m,\u001b[0m \u001b[0mstart\u001b[0m\u001b[1;33m=\u001b[0m\u001b[0moffset\u001b[0m\u001b[1;33m,\u001b[0m \u001b[0mlength\u001b[0m\u001b[1;33m=\u001b[0m\u001b[0mduration\u001b[0m\u001b[1;33m,\u001b[0m \u001b[0mperiod\u001b[0m\u001b[1;33m=\u001b[0m\u001b[0mbcl\u001b[0m\u001b[1;33m,\u001b[0m \u001b[0mmultiplier\u001b[0m\u001b[1;33m=\u001b[0m\u001b[1;36m0\u001b[0m\u001b[1;33m,\u001b[0m \u001b[0mdefault_time_unit\u001b[0m\u001b[1;33m=\u001b[0m\u001b[1;34m'ms'\u001b[0m\u001b[1;33m)\u001b[0m\u001b[1;33m\u001b[0m\u001b[1;33m\u001b[0m\u001b[0m\n",
      "\u001b[1;32mD:\\drsong\\Electrophysiology_CiPA\\Projects\\CiPA_JK\\Simulation\\../../..\\simulator_scipy.py\u001b[0m in \u001b[0;36m<module>\u001b[1;34m\u001b[0m\n\u001b[0;32m      4\u001b[0m \u001b[1;33m\u001b[0m\u001b[0m\n\u001b[0;32m      5\u001b[0m \u001b[1;32mimport\u001b[0m \u001b[0mrandom\u001b[0m\u001b[1;33m\u001b[0m\u001b[1;33m\u001b[0m\u001b[0m\n\u001b[1;32m----> 6\u001b[1;33m \u001b[1;32mfrom\u001b[0m \u001b[0mnumbalsoda\u001b[0m \u001b[1;32mimport\u001b[0m \u001b[0mlsoda_sig\u001b[0m\u001b[1;33m,\u001b[0m \u001b[0mlsoda\u001b[0m\u001b[1;33m\u001b[0m\u001b[1;33m\u001b[0m\u001b[0m\n\u001b[0m\u001b[0;32m      7\u001b[0m \u001b[1;32mfrom\u001b[0m \u001b[0mnumba\u001b[0m \u001b[1;32mimport\u001b[0m \u001b[0mnjit\u001b[0m\u001b[1;33m,\u001b[0m \u001b[0mcfunc\u001b[0m\u001b[1;33m\u001b[0m\u001b[1;33m\u001b[0m\u001b[0m\n\u001b[0;32m      8\u001b[0m \u001b[1;32mimport\u001b[0m \u001b[0mnumpy\u001b[0m \u001b[1;32mas\u001b[0m \u001b[0mnp\u001b[0m\u001b[1;33m\u001b[0m\u001b[1;33m\u001b[0m\u001b[0m\n",
      "\u001b[1;32m~\\AppData\\Roaming\\Python\\Python39\\site-packages\\numbalsoda\\__init__.py\u001b[0m in \u001b[0;36m<module>\u001b[1;34m\u001b[0m\n\u001b[1;32m----> 1\u001b[1;33m \u001b[1;32mfrom\u001b[0m \u001b[1;33m.\u001b[0m\u001b[0mdriver\u001b[0m \u001b[1;32mimport\u001b[0m \u001b[0mlsoda_sig\u001b[0m\u001b[1;33m,\u001b[0m \u001b[0mlsoda\u001b[0m\u001b[1;33m,\u001b[0m \u001b[0maddress_as_void_pointer\u001b[0m\u001b[1;33m\u001b[0m\u001b[1;33m\u001b[0m\u001b[0m\n\u001b[0m\u001b[0;32m      2\u001b[0m \u001b[1;32mfrom\u001b[0m \u001b[1;33m.\u001b[0m\u001b[0mdriver_dop853\u001b[0m \u001b[1;32mimport\u001b[0m \u001b[0mdop853\u001b[0m\u001b[1;33m\u001b[0m\u001b[1;33m\u001b[0m\u001b[0m\n\u001b[0;32m      3\u001b[0m \u001b[1;32mfrom\u001b[0m \u001b[1;33m.\u001b[0m\u001b[0mdriver_solve_ivp\u001b[0m \u001b[1;32mimport\u001b[0m \u001b[0msolve_ivp\u001b[0m\u001b[1;33m,\u001b[0m \u001b[0mODEResult\u001b[0m\u001b[1;33m\u001b[0m\u001b[1;33m\u001b[0m\u001b[0m\n",
      "\u001b[1;32m~\\AppData\\Roaming\\Python\\Python39\\site-packages\\numbalsoda\\driver.py\u001b[0m in \u001b[0;36m<module>\u001b[1;34m\u001b[0m\n\u001b[0;32m     19\u001b[0m \u001b[1;32melse\u001b[0m\u001b[1;33m:\u001b[0m\u001b[1;33m\u001b[0m\u001b[1;33m\u001b[0m\u001b[0m\n\u001b[0;32m     20\u001b[0m     \u001b[0mname\u001b[0m \u001b[1;33m=\u001b[0m \u001b[1;34m\"liblsoda.dylib\"\u001b[0m\u001b[1;33m\u001b[0m\u001b[1;33m\u001b[0m\u001b[0m\n\u001b[1;32m---> 21\u001b[1;33m \u001b[0mliblsoda\u001b[0m \u001b[1;33m=\u001b[0m \u001b[0mct\u001b[0m\u001b[1;33m.\u001b[0m\u001b[0mCDLL\u001b[0m\u001b[1;33m(\u001b[0m\u001b[0mrootdir\u001b[0m\u001b[1;33m+\u001b[0m\u001b[0mname\u001b[0m\u001b[1;33m)\u001b[0m\u001b[1;33m\u001b[0m\u001b[1;33m\u001b[0m\u001b[0m\n\u001b[0m\u001b[0;32m     22\u001b[0m \u001b[0mlsoda_wrapper\u001b[0m \u001b[1;33m=\u001b[0m \u001b[0mliblsoda\u001b[0m\u001b[1;33m.\u001b[0m\u001b[0mlsoda_wrapper\u001b[0m\u001b[1;33m\u001b[0m\u001b[1;33m\u001b[0m\u001b[0m\n\u001b[0;32m     23\u001b[0m lsoda_wrapper.argtypes = [ct.c_void_p, ct.c_int, ct.c_void_p, ct.c_void_p,\\\n",
      "\u001b[1;32mC:\\Anaconda3\\lib\\ctypes\\__init__.py\u001b[0m in \u001b[0;36m__init__\u001b[1;34m(self, name, mode, handle, use_errno, use_last_error, winmode)\u001b[0m\n\u001b[0;32m    380\u001b[0m \u001b[1;33m\u001b[0m\u001b[0m\n\u001b[0;32m    381\u001b[0m         \u001b[1;32mif\u001b[0m \u001b[0mhandle\u001b[0m \u001b[1;32mis\u001b[0m \u001b[1;32mNone\u001b[0m\u001b[1;33m:\u001b[0m\u001b[1;33m\u001b[0m\u001b[1;33m\u001b[0m\u001b[0m\n\u001b[1;32m--> 382\u001b[1;33m             \u001b[0mself\u001b[0m\u001b[1;33m.\u001b[0m\u001b[0m_handle\u001b[0m \u001b[1;33m=\u001b[0m \u001b[0m_dlopen\u001b[0m\u001b[1;33m(\u001b[0m\u001b[0mself\u001b[0m\u001b[1;33m.\u001b[0m\u001b[0m_name\u001b[0m\u001b[1;33m,\u001b[0m \u001b[0mmode\u001b[0m\u001b[1;33m)\u001b[0m\u001b[1;33m\u001b[0m\u001b[1;33m\u001b[0m\u001b[0m\n\u001b[0m\u001b[0;32m    383\u001b[0m         \u001b[1;32melse\u001b[0m\u001b[1;33m:\u001b[0m\u001b[1;33m\u001b[0m\u001b[1;33m\u001b[0m\u001b[0m\n\u001b[0;32m    384\u001b[0m             \u001b[0mself\u001b[0m\u001b[1;33m.\u001b[0m\u001b[0m_handle\u001b[0m \u001b[1;33m=\u001b[0m \u001b[0mhandle\u001b[0m\u001b[1;33m\u001b[0m\u001b[1;33m\u001b[0m\u001b[0m\n",
      "\u001b[1;31mFileNotFoundError\u001b[0m: Could not find module 'C:\\Users\\User\\AppData\\Roaming\\Python\\Python39\\site-packages\\numbalsoda\\liblsoda.dll' (or one of its dependencies). Try using the full path with constructor syntax."
     ]
    }
   ],
   "source": [
    "import simulator_scipy\n",
    "'''\n",
    "Simulation with BDF\n",
    "'''\n",
    "protocol = protocol_lib.PacingProtocol(level=1, start=offset, length=duration, period=bcl, multiplier=0, default_time_unit='ms')\n",
    "\n",
    "model = ORD2017(protocol)\n",
    "    \n",
    "sim = simulator_scipy.Simulator(model)\n",
    "\n",
    "simulated_models_BDF = []\n",
    "for name, mode in cell_types.items(): \n",
    "    start_time = time.time()\n",
    "\n",
    "    sim.model.change_cell(mode)        \n",
    "    sim.model.y0[:-1] = y0_li[mode]    \n",
    "    # y0 = sim.pre_simulate( pre_step=bcl*100, protocol='constant', v0=-8.80019046500000002e1)   \n",
    "    # y0 = sim.pre_simulate( pre_step=bcl*100, protocol='pacing', v0=-8.80019046500000002e1)   \n",
    "    sol = sim.simulate(t_span=t_span, t_eval=None, method='BDF', max_step=0.5, atol=1e-08, rtol=1e-10) # 1e-12, 1e-14  # 1e-08, 1e-10\n",
    "    simulated_models_BDF.append(copy.copy(model))\n",
    "\n",
    "    print(\"--- %s seconds ---\"%(time.time()-start_time))"
   ]
  },
  {
   "cell_type": "code",
   "execution_count": null,
   "id": "93636d3d-f00e-4295-bea3-31c02777be8e",
   "metadata": {},
   "outputs": [],
   "source": [
    "# import simulator_euler\n",
    "# '''\n",
    "# Simulation with Euler\n",
    "# '''\n",
    "# protocol = protocol_lib.PacingProtocol(level=1, start=20, length=0.5, period=1000, multiplier=0, default_time_unit='ms')\n",
    "# model = ORD2017(protocol, is_exp_artefact=False)\n",
    "# sim = simulator_euler.Simulator(model)\n",
    "\n",
    "# simulated_models_Euler = []\n",
    "# for i, (name, mode) in enumerate(cells.items()): \n",
    "#     start_time = time.time()\n",
    "    \n",
    "#     sim.model.change_cell(mode)       \n",
    "#     sim.model.y0[:-1] = y0_li[i]\n",
    "#     sim.dt = 0.02\n",
    "#     sim.simulate(end_time=end_time)      \n",
    "#     simulated_models_Euler.append(copy.copy(model))\n",
    "    \n",
    "#     print(\"--- %s seconds ---\"%(time.time()-start_time))"
   ]
  },
  {
   "cell_type": "code",
   "execution_count": null,
   "id": "accf9b24-9475-489c-9137-8175e3bff59f",
   "metadata": {},
   "outputs": [],
   "source": [
    "'''\n",
    "Plot\n",
    "'''\n",
    "fig, axes = plt.subplots(1,3, figsize=(18,4))    \n",
    "fig.suptitle(model.name, fontsize=14)\n",
    "for name, mode in cell_types.items(): \n",
    "    myokit_m = simulated_models_myokit[mode]\n",
    "    bdf_m = simulated_models_BDF[mode]      \n",
    "    # euler_m = simulated_models_Euler[mode]\n",
    "    \n",
    "    axes[mode].set_title(name)\n",
    "    axes[mode].set_xlim(bdf_m.times.min(), bdf_m.times.max())\n",
    "    # ax.set_ylim(ylim[0], ylim[1])\n",
    "    axes[mode].set_ylabel('Membrane Potential (mV)')  \n",
    "    axes[mode].set_xlabel('Time (ms)')       \n",
    "    axes[mode].plot( myokit_m['engine.time'], myokit_m['membrane.V'], label='Myokit', linewidth=8, color='y') \n",
    "    axes[mode].plot(bdf_m.times, bdf_m.V, label='Scipy', linewidth=2, color='r')   \n",
    "    # axes[mode].plot(euler_m.times, euler_m.V, label='Euler', linewidth=2, color='k')   \n",
    "        \n",
    "    # textstr = \"GNa : %1.4f\\nGNaL : %1.4f\\nGto : %1.4f\\nPCa : %1.4f\\nGKr : %1.4f\\nGKs : %1.4f\\nGK1 : %1.4f\\nGf : %1.4f\"%(GNa/g_fc[0], \\\n",
    "    #             GNaL/g_fc[1], Gto/g_fc[2], PCa/g_fc[3], GKr/g_fc[4], GKs/g_fc[5], GK1/g_fc[6], Gf/g_fc[7])\n",
    "    # props = dict(boxstyle='round', facecolor='wheat', alpha=0.5)\n",
    "    # place a text box in upper left in axes coords\n",
    "    #     ax.text(0.67, 0.60, textstr, transform=ax.transAxes, fontsize=14, verticalalignment='top', bbox=props)    \n",
    "    #     fig1 = plt.gcf()\n",
    "    axes[mode].legend()\n",
    "    axes[mode].grid()\n",
    "    \n",
    "#     print(bdf.V)\n",
    "#     print(euler.V)\n",
    "#     print(\"-\"*100)\n",
    "    \n",
    "plt.show()\n",
    "fig.savefig(os.path.join(result_dir, \"OHara2017_AP.jpg\"), dpi=100)"
   ]
  },
  {
   "cell_type": "code",
   "execution_count": null,
   "id": "74d52664-ca4a-4e27-8a7c-5108ca6e41e0",
   "metadata": {},
   "outputs": [],
   "source": [
    "print(\"Complete\")"
   ]
  },
  {
   "cell_type": "code",
   "execution_count": null,
   "id": "7c650e89-1db0-46bb-b233-b704d769dc72",
   "metadata": {},
   "outputs": [],
   "source": []
  },
  {
   "cell_type": "code",
   "execution_count": null,
   "id": "56d1e5c0-eecf-4824-ab6c-3158a9cbb046",
   "metadata": {},
   "outputs": [],
   "source": []
  },
  {
   "cell_type": "code",
   "execution_count": null,
   "id": "09381dca-393a-4d10-a7a6-e96744bd51c9",
   "metadata": {},
   "outputs": [],
   "source": []
  }
 ],
 "metadata": {
  "kernelspec": {
   "display_name": "Python 3 (ipykernel)",
   "language": "python",
   "name": "python3"
  },
  "language_info": {
   "codemirror_mode": {
    "name": "ipython",
    "version": 3
   },
   "file_extension": ".py",
   "mimetype": "text/x-python",
   "name": "python",
   "nbconvert_exporter": "python",
   "pygments_lexer": "ipython3",
   "version": "3.9.13"
  }
 },
 "nbformat": 4,
 "nbformat_minor": 5
}
