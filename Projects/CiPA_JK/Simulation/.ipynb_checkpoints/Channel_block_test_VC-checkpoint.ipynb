{
 "cells": [
  {
   "cell_type": "code",
   "execution_count": 2,
   "id": "c797b0f5-b635-44ed-8047-735d4a931ef5",
   "metadata": {},
   "outputs": [],
   "source": [
    "import os, sys, time, copy\n",
    "import random\n",
    "import numpy as np\n",
    "import matplotlib.pyplot as plt\n",
    "\n",
    "import myokit\n",
    "sys.path.append('../')\n",
    "sys.path.append('../../../')\n",
    "sys.path.append('../../../Protocols')\n",
    "sys.path.append('../../../Models')\n",
    "sys.path.append('../../../Lib')\n",
    "import protocol_lib\n",
    "import mod_trace\n",
    "\n",
    "import simulator_myokit\n",
    "import simulator_scipy\n",
    "\n",
    "from agetdata import get_currents_with_constant_dt"
   ]
  },
  {
   "cell_type": "code",
   "execution_count": 3,
   "id": "1b017732-4fd9-4e50-8b35-b19b7f020d8d",
   "metadata": {},
   "outputs": [
    {
     "name": "stdout",
     "output_type": "stream",
     "text": [
      "The folder already exsits\n"
     ]
    }
   ],
   "source": [
    "result_dir = \"./Results\"\n",
    "try:\n",
    "    if not os.path.exists(result_dir):\n",
    "        os.makedirs(result_dir)\n",
    "    else:\n",
    "        print(\"The folder already exsits\")\n",
    "except OSError:\n",
    "    print(f\"Error: {result_dir} has not been created.\")"
   ]
  },
  {
   "cell_type": "code",
   "execution_count": 4,
   "id": "695c9ef3-b4a1-4493-a9b0-b1533f61b64b",
   "metadata": {},
   "outputs": [
    {
     "name": "stdout",
     "output_type": "stream",
     "text": [
      "The protocol is 1320 ms\n"
     ]
    }
   ],
   "source": [
    "import vc_protocols\n",
    "# VC_protocol = vc_protocols.hERG_CiPA()\n",
    "# VC_protocol = vc_protocols.cav12_CiPA()\n",
    "# VC_protocol = vc_protocols.lateNav15_CiPA()\n",
    "VC_protocol = vc_protocols.leemV1_CiPA()\n",
    "\n",
    "vhold = -80 # VC_protocol.steps[0].voltage\n",
    "\n",
    "print(f'The protocol is {VC_protocol.get_voltage_change_endpoints()[-1]} ms')"
   ]
  },
  {
   "cell_type": "code",
   "execution_count": 5,
   "id": "cd132d0b-4ac5-4c13-b696-5a2671d8d92e",
   "metadata": {},
   "outputs": [
    {
     "data": {
      "image/png": "[encoded data removed]",
      "text/plain": [
       "<Figure size 1080x360 with 1 Axes>"
      ]
     },
     "metadata": {
      "needs_background": "light"
     },
     "output_type": "display_data"
    }
   ],
   "source": [
    "times = np.arange(0, VC_protocol.get_voltage_change_endpoints()[-1], 2) \n",
    "VC_protocol.plot_voltage_clamp_protocol(times)"
   ]
  },
  {
   "cell_type": "code",
   "execution_count": 6,
   "id": "e4dfd59c-c7fb-49c3-b20e-cd8d56ac2712",
   "metadata": {},
   "outputs": [],
   "source": [
    "cell_types = {\n",
    "    'Endocardial' : 0,\n",
    "    'Epicardial' : 1,\n",
    "    'Mid-myocardial' : 2,\n",
    "}\n",
    "\n",
    "cell_type = 'Endocardial'\n",
    "\n",
    "ds_params = {\n",
    "    'window' : 20,\n",
    "    'step_size' : 10,   \n",
    "    'window_type' : 'amax',\n",
    "    'noise_sigma' : 0\n",
    "}  \n",
    "\n",
    "extra_log=['ina.INa', 'inal.INaL', 'ito.Ito', 'ical.ICaL_total', 'ikr.IKr', 'iks.IKs', 'ik1.IK1', 'inaca.INaCa', 'inacass.INaCa_ss', 'inak.INaK', 'ikb.IKb', 'inab.INab', 'icab.ICab', 'ipca.IpCa']\n",
    "end_time = VC_protocol.get_voltage_change_endpoints()[-1]\n",
    "# t_eval = np.linspace(0, end_time, 10000)  "
   ]
  },
  {
   "cell_type": "code",
   "execution_count": null,
   "id": "a09c2d06-b83d-4cd6-810d-e50c4a949a23",
   "metadata": {},
   "outputs": [],
   "source": [
    "start_time = time.time()\n",
    "\n",
    "model, p, s = myokit.load(\"../../../mmt-model-files/newordherg_qNet_vc_fixedconc-v1.mmt\")    \n",
    "sim = simulator_myokit.Simulator(model, VC_protocol, max_step=1.0, abs_tol=1e-06, rel_tol=1e-6, vhold=0)  # 1e-12, 1e-14  # 1e-08, 1e-10\n",
    "\n",
    "model_params = {         \n",
    "    'cell.mode': 0,\n",
    "    'setting.simType': 1,   # 0: AP   |  1: VC      \n",
    "}\n",
    "sim.set_simulation_params(model_params)\n",
    "\n",
    "print(\"--- %s seconds ---\"%(time.time()-start_time))"
   ]
  },
  {
   "cell_type": "code",
   "execution_count": null,
   "id": "fdfb7d41-515e-4487-86f0-c55297131eeb",
   "metadata": {},
   "outputs": [],
   "source": [
    "start_time = time.time()\n",
    "\n",
    "model_params = {         \n",
    "    'ina.GNafc' : 1,  \n",
    "    'inal.GNaLfc' : 1,\n",
    "    'ito.Gtofc' : 1,\n",
    "    'ical.PCafc' : 1,\n",
    "    'ikr.GKrfc' : 1,\n",
    "    'iks.GKsfc' : 1,\n",
    "    'ik1.GK1fc' : 1,    \n",
    "}\n",
    "sim.set_simulation_params(model_params)  \n",
    "\n",
    "y0 = sim.pre_simulate(5000, sim_type=1)\n",
    "d = sim.simulate(end_time, log_times=None, extra_log=['membrane.i_ion'] + extra_log)\n",
    "\n",
    "sol1 = {}\n",
    "times1 = d['engine.time']\n",
    "sol1[\"Voltage\"] = VC_protocol.get_voltage_clamp_protocol(d['engine.time'])\n",
    "sol1[\"I_total\"] = d['membrane.i_ion']\n",
    "sol1[\"window_avg\"] = get_currents_with_constant_dt(ds_params, [ d['engine.time'], d['membrane.i_ion'] ] )\n",
    "sol1[\"window_amax\"] = get_currents_with_constant_dt(ds_params, [ d['engine.time'], d['membrane.i_ion'] ] )\n",
    "sol1[\"window_min\"] = get_currents_with_constant_dt(ds_params, [ d['engine.time'], d['membrane.i_ion'] ] )\n",
    "sol1[\"window_max\"] = get_currents_with_constant_dt(ds_params, [ d['engine.time'], d['membrane.i_ion'] ] )\n",
    "sol1[\"INa\"] = d['ina.INa']\n",
    "sol1[\"INaL\"] = d['inal.INaL']\n",
    "sol1[\"Ito\"] = d['ito.Ito']\n",
    "sol1[\"ICaL\"] = d['ical.ICaL_total']\n",
    "sol1[\"IKr\"] = d['ikr.IKr']\n",
    "sol1[\"IKs\"] = d['iks.IKs']\n",
    "sol1[\"IK1\"] = d['ik1.IK1']\n",
    "\n",
    "tr = mod_trace.Trace(VC_protocol,\n",
    "                     cell_params=None,\n",
    "                     t=times1,\n",
    "                     y=sol1[\"Voltage\"],  # simulator.model.V,\n",
    "                     command_voltages=sol1[\"Voltage\"],\n",
    "                     current_response_info=sim.current_response_info,\n",
    "                     default_unit=None)   \n",
    "max_contributions1 = tr.current_response_info.get_max_current_contributions(time=times1, window=ds_params['window'], step_size=ds_params['step_size'])\n",
    "\n",
    "print(len(sol1[\"window_min\"]))\n",
    "\n",
    "print(\"--- %s seconds ---\"%(time.time()-start_time))"
   ]
  },
  {
   "cell_type": "code",
   "execution_count": null,
   "id": "0a05e8c5-e54a-4e4d-9c40-8b40df0edc3b",
   "metadata": {},
   "outputs": [],
   "source": [
    "max_contributions1"
   ]
  },
  {
   "cell_type": "code",
   "execution_count": null,
   "id": "8fd319fd-54f5-4b1f-b20b-6e55a4cb38d1",
   "metadata": {},
   "outputs": [],
   "source": [
    "plot_li = [\"I_total\", \"window_avg\", \"window_amax\", \"window_min\", \"window_max\" ]\n",
    "check_current = \"INa\"\n",
    "nShow = 5\n",
    "dy = 20.0/(nShow)\n",
    "\n",
    "\n",
    "fig, ax = plt.subplots(6,1, figsize=(18,18))    \n",
    "ax[0].set_title(f\"{check_current}-w{ds_params['window']}-s{ds_params['window']}\", fontsize=20)\n",
    "for i, name in enumerate( [\"Voltage\"] + plot_li ):    \n",
    "    ax[i].set_ylabel(f'{name}')  \n",
    "    if name=='window_avg' or name=='window_amax' or name=='window_min' or name=='window_max':            \n",
    "        ax[i].plot( sol1[name], label='control', color='k', linewidth=2)     \n",
    "    else:\n",
    "        ax[i].plot( times1, sol1[name], label='control', color='k', linewidth=2)         \n",
    "    \n",
    "        contribution = max_contributions1[max_contributions1[\"Current\"]==check_current]['Contribution'].values[0]\n",
    "        start = max_contributions1[max_contributions1[\"Current\"]==check_current]['Time Start'].values[0]\n",
    "        end = max_contributions1[max_contributions1[\"Current\"]==check_current]['Time End'].values[0]         \n",
    "        ax[i].axvspan(start, end, color='g', alpha=0.3)  \n",
    "        \n",
    "    ax[i].legend()\n",
    "    ax[i].grid()\n",
    "\n",
    "\n",
    "for j in range(1, nShow+1):\n",
    "        \n",
    "    # g_adj = random.random()\n",
    "    # if i==0: g_adj = 1.0\n",
    "        \n",
    "    model_params = {         \n",
    "        'ina.GNafc' : 1 , \n",
    "        'inal.GNaLfc' : 1,\n",
    "        'ito.Gtofc' : 1,\n",
    "        'ical.PCafc' : 1,\n",
    "        'ikr.GKrfc' : 1+ dy*j,\n",
    "        'iks.GKsfc' : 1,\n",
    "        'ik1.GK1fc' : 1,    \n",
    "    }\n",
    "    sim.set_simulation_params(model_params)  \n",
    "\n",
    "    # sim.set_initial_values([-88] + y0)\n",
    "    sim.pre_simulate(5000, sim_type=1)\n",
    "    d = sim.simulate(end_time, log_times=None , extra_log=['membrane.VC', 'membrane.i_ion'] + extra_log)\n",
    "    \n",
    "    sol2 = {}\n",
    "    times2 = d['engine.time']\n",
    "    sol2[\"Voltage\"] = d['membrane.VC']\n",
    "    sol2[\"I_total\"] = d['membrane.i_ion']\n",
    "    sol2[\"window_avg\"] = get_currents_with_constant_dt( ds_params, [ d['engine.time'], d['membrane.i_ion'] ] )\n",
    "    sol2[\"window_amax\"] = get_currents_with_constant_dt(ds_params, [ d['engine.time'], d['membrane.i_ion'] ] )\n",
    "    sol2[\"window_min\"] = get_currents_with_constant_dt( ds_params, [ d['engine.time'], d['membrane.i_ion'] ] )\n",
    "    sol2[\"window_max\"] = get_currents_with_constant_dt( ds_params, [ d['engine.time'], d['membrane.i_ion'] ] )    \n",
    "    # sol2[\"INa\"] = sim.current_response_info.get_current(['INa'])\n",
    "    # sol2[\"INaL\"] = sim.current_response_info.get_current(['INaL'])\n",
    "    # sol2[\"Ito\"] = sim.current_response_info.get_current(['Ito'])\n",
    "    # sol2[\"ICaL\"] = sim.current_response_info.get_current(['ICaL'])\n",
    "    # sol2[\"IKr\"] = sim.current_response_info.get_current(['IKr'])\n",
    "    # sol2[\"IKs\"] = sim.current_response_info.get_current(['IKs'])\n",
    "    # sol2[\"IK1\"] = sim.current_response_info.get_current(['IK1'])\n",
    "    \n",
    "    tr = mod_trace.Trace(VC_protocol,\n",
    "                         cell_params=None,\n",
    "                         t=times2,\n",
    "                         y=sol2[\"Voltage\"],  # simulator.model.V,\n",
    "                         command_voltages=sol2[\"Voltage\"],\n",
    "                         current_response_info=sim.current_response_info,\n",
    "                         default_unit=None)   \n",
    "    max_contributions2 = tr.current_response_info.get_max_current_contributions(time=times2,\n",
    "                                                                                window=ds_params['window'],\n",
    "                                                                                step_size=ds_params['step_size'])\n",
    "    \n",
    "    \n",
    "    '''\n",
    "    Plot\n",
    "    '''\n",
    "    # current_name = 'IKr'\n",
    "    \n",
    "    # fig.suptitle(sim.name, fontsize=14)\n",
    "    for i, name in enumerate(plot_li):            \n",
    "        # ax.set_title('Simulation %d'%(simulationNo))\n",
    "        # axes[i].set_xlim(model_scipy.times.min(), model_scipy.times.max())            \n",
    "        # ax[i].plot( times1, sol1[name], label='control', color='k', linewidth=5)     \n",
    "        if name=='window_avg' or name=='window_amax' or name=='window_min' or name=='window_max':            \n",
    "            # ax[i].set_xlabel('Time (ms)')                   \n",
    "            ax[i+1].plot( sol2[name], label='treatment', linewidth=2)    \n",
    "        else:            \n",
    "            ax[i+1].set_xlabel('Time (ms)')       \n",
    "            ax[i+1].plot( times2, sol2[name], label='treatment', linewidth=2)    \n",
    "\n",
    "        # if i!=0 and i!=1:\n",
    "        #     contribution = max_contributions1[max_contributions1[\"Current\"]==name]['Contribution'].values[0]\n",
    "        #     start = max_contributions1[max_contributions1[\"Current\"]==name]['Time Start'].values[0]\n",
    "        #     end = max_contributions1[max_contributions1[\"Current\"]==name]['Time End'].values[0]         \n",
    "        #     ax[i].axvspan(start, end, color='g', alpha=0.3)  \n",
    "\n",
    "    # ax[-1].set_ylim(-5, 5)\n",
    "\n",
    "y_min = -50\n",
    "y_max = 5\n",
    "# ax[1].set_ylim(y_min, y_max)        \n",
    "# ax[2].set_ylim(y_min, y_max)            \n",
    "\n",
    "fig.savefig(os.path.join(result_dir, f\"{check_current}_w{ds_params['window']}_s{ds_params['step_size']}.jpg\"), dpi=100)\n",
    "plt.subplots_adjust(left=0.07, bottom=0.05, right=0.95, top=0.95, wspace=0.5, hspace=0.15)\n",
    "plt.show()"
   ]
  },
  {
   "cell_type": "code",
   "execution_count": null,
   "id": "e65daf8a-68d9-4b18-821c-f2123bdf861e",
   "metadata": {},
   "outputs": [],
   "source": []
  },
  {
   "cell_type": "code",
   "execution_count": null,
   "id": "8ebbf465-7ae4-4813-9454-983d19f2d958",
   "metadata": {},
   "outputs": [],
   "source": []
  },
  {
   "cell_type": "code",
   "execution_count": null,
   "id": "3328a282-d530-4822-ae94-22bb85215838",
   "metadata": {},
   "outputs": [],
   "source": []
  }
 ],
 "metadata": {
  "kernelspec": {
   "display_name": "Python 3",
   "language": "python",
   "name": "python3"
  },
  "language_info": {
   "codemirror_mode": {
    "name": "ipython",
    "version": 3
   },
   "file_extension": ".py",
   "mimetype": "text/x-python",
   "name": "python",
   "nbconvert_exporter": "python",
   "pygments_lexer": "ipython3",
   "version": "3.8.10"
  }
 },
 "nbformat": 4,
 "nbformat_minor": 5
}
