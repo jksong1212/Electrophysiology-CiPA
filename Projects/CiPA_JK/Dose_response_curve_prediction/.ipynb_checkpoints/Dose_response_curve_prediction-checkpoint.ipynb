{
 "cells": [
  {
   "cell_type": "code",
   "execution_count": 2,
   "id": "db5fa8d3-e1b5-438c-a6ad-9e3ca8c59895",
   "metadata": {},
   "outputs": [
    {
     "name": "stdout",
     "output_type": "stream",
     "text": [
      "1.10.2+cu113\n"
     ]
    }
   ],
   "source": [
    "import copy, os, sys\n",
    "import time\n",
    "import random\n",
    "import numpy as np\n",
    "import pandas as pd\n",
    "import scipy.optimize as opt\n",
    "import matplotlib.pyplot as plt\n",
    "import seaborn as sns\n",
    "\n",
    "import torch\n",
    "\n",
    "import myokit\n",
    "\n",
    "sys.path.append('../')\n",
    "sys.path.append('../../../')\n",
    "sys.path.append('../../../Protocols')\n",
    "sys.path.append('../../../Models')\n",
    "sys.path.append('../../../Lib')\n",
    "\n",
    "import protocol_lib\n",
    "import mod_trace\n",
    "import simulator_myokit\n",
    "import simulator_scipy\n",
    "\n",
    "from agetdata import get_currents_with_constant_dt\n",
    "# %matplotlib inline\n",
    "\n",
    "\n",
    "# seed 값 생성\n",
    "random.seed(3)\n",
    "np.random.seed(3)\n",
    "torch.manual_seed(3)\n",
    "\n",
    "print(torch.__version__)"
   ]
  },
  {
   "cell_type": "code",
   "execution_count": 3,
   "id": "8962cb28-0bc8-4a6c-a391-d91699220a77",
   "metadata": {},
   "outputs": [
    {
     "name": "stdout",
     "output_type": "stream",
     "text": [
      "Multi GPU activate\n"
     ]
    },
    {
     "data": {
      "text/plain": [
       "device(type='cuda')"
      ]
     },
     "execution_count": 3,
     "metadata": {},
     "output_type": "execute_result"
    }
   ],
   "source": [
    "device = torch.device(\"cuda\" if torch.cuda.is_available() else 'cpu')\n",
    "if (device.type == 'cuda') and (torch.cuda.device_count() >1):\n",
    "    print(\"Multi GPU activate\")\n",
    "device"
   ]
  },
  {
   "cell_type": "code",
   "execution_count": 4,
   "id": "dd446ba5-7027-481d-8413-3d8733ab6e9d",
   "metadata": {},
   "outputs": [],
   "source": [
    "def get_Gfc(conc, IC50, h):\n",
    "    '''This function is basically a copy of the LL.4 function from the R drc package with\n",
    "    - h: hill slope\n",
    "    - IC50: IC50'''  \n",
    "    return 1.0+(conc/10**np.log10(IC50))**h\n",
    "\n",
    "def get_block_rate(conc, IC50, h):\n",
    "    Gfc = get_Gfc(conc, IC50, h)\n",
    "    return 100 - 100.0/Gfc\n",
    "\n",
    "def get_block_rate2(Gfc):    \n",
    "    return 100 - 100/Gfc"
   ]
  },
  {
   "cell_type": "code",
   "execution_count": 5,
   "id": "cc987fe9-4f54-4427-8350-127f99653ef2",
   "metadata": {},
   "outputs": [
    {
     "name": "stdout",
     "output_type": "stream",
     "text": [
      "The folder already exists.\n",
      "The folder already exists.\n"
     ]
    }
   ],
   "source": [
    "ions = ['INa', 'INaL', 'Ito', 'ICaL', 'hERG', 'IKs', 'IK1']\n",
    "\n",
    "drug = \"chlorpromazine\"\n",
    "ion_channel = \"hERG\"\n",
    "\n",
    "dose_response_curves_dir = \"Dose_response_curves\"\n",
    "if not os.path.exists(dose_response_curves_dir):\n",
    "    os.makedirs(dose_response_curves_dir)\n",
    "    print('\"%s\" has been created.'%(dose_response_curves_dir))\n",
    "else:\n",
    "    print(\"The folder already exists.\")    \n",
    "    \n",
    "results_dir = \"Results\"\n",
    "if not os.path.exists(results_dir):\n",
    "    os.makedirs(results_dir)\n",
    "    print('\"%s\" has been created.'%(results_dir))\n",
    "else:\n",
    "    print(\"The folder already exists.\")  "
   ]
  },
  {
   "cell_type": "code",
   "execution_count": 6,
   "id": "c33accf6-9208-4e9c-bbe7-3d462bd27707",
   "metadata": {},
   "outputs": [
    {
     "data": {
      "text/html": [
       "<div>\n",
       "<style scoped>\n",
       "    .dataframe tbody tr th:only-of-type {\n",
       "        vertical-align: middle;\n",
       "    }\n",
       "\n",
       "    .dataframe tbody tr th {\n",
       "        vertical-align: top;\n",
       "    }\n",
       "\n",
       "    .dataframe thead th {\n",
       "        text-align: right;\n",
       "    }\n",
       "</style>\n",
       "<table border=\"1\" class=\"dataframe\">\n",
       "  <thead>\n",
       "    <tr style=\"text-align: right;\">\n",
       "      <th></th>\n",
       "      <th>drug</th>\n",
       "      <th>conc</th>\n",
       "      <th>units</th>\n",
       "      <th>channel</th>\n",
       "      <th>block</th>\n",
       "      <th>pacing</th>\n",
       "    </tr>\n",
       "  </thead>\n",
       "  <tbody>\n",
       "    <tr>\n",
       "      <th>0</th>\n",
       "      <td>amiodarone</td>\n",
       "      <td>0.8</td>\n",
       "      <td>nM</td>\n",
       "      <td>ICaL</td>\n",
       "      <td>0.0</td>\n",
       "      <td>0.1</td>\n",
       "    </tr>\n",
       "    <tr>\n",
       "      <th>1</th>\n",
       "      <td>amiodarone</td>\n",
       "      <td>0.8</td>\n",
       "      <td>nM</td>\n",
       "      <td>ICaL</td>\n",
       "      <td>1.9</td>\n",
       "      <td>0.1</td>\n",
       "    </tr>\n",
       "    <tr>\n",
       "      <th>2</th>\n",
       "      <td>amiodarone</td>\n",
       "      <td>0.8</td>\n",
       "      <td>nM</td>\n",
       "      <td>ICaL</td>\n",
       "      <td>0.3</td>\n",
       "      <td>0.1</td>\n",
       "    </tr>\n",
       "    <tr>\n",
       "      <th>3</th>\n",
       "      <td>amiodarone</td>\n",
       "      <td>80.0</td>\n",
       "      <td>nM</td>\n",
       "      <td>ICaL</td>\n",
       "      <td>17.4</td>\n",
       "      <td>0.1</td>\n",
       "    </tr>\n",
       "    <tr>\n",
       "      <th>4</th>\n",
       "      <td>amiodarone</td>\n",
       "      <td>80.0</td>\n",
       "      <td>nM</td>\n",
       "      <td>ICaL</td>\n",
       "      <td>12.9</td>\n",
       "      <td>0.1</td>\n",
       "    </tr>\n",
       "  </tbody>\n",
       "</table>\n",
       "</div>"
      ],
      "text/plain": [
       "         drug  conc units channel  block  pacing\n",
       "0  amiodarone   0.8    nM    ICaL    0.0     0.1\n",
       "1  amiodarone   0.8    nM    ICaL    1.9     0.1\n",
       "2  amiodarone   0.8    nM    ICaL    0.3     0.1\n",
       "3  amiodarone  80.0    nM    ICaL   17.4     0.1\n",
       "4  amiodarone  80.0    nM    ICaL   12.9     0.1"
      ]
     },
     "execution_count": 6,
     "metadata": {},
     "output_type": "execute_result"
    }
   ],
   "source": [
    "drug_block_df = pd.read_csv( \"../CiPA/Hill_fitting/data/drug_block.csv\") \n",
    "drug_block_df.head()"
   ]
  },
  {
   "cell_type": "code",
   "execution_count": 7,
   "id": "4f24d280-02c6-4255-ad0e-39ae836feac5",
   "metadata": {},
   "outputs": [
    {
     "data": {
      "text/html": [
       "<div>\n",
       "<style scoped>\n",
       "    .dataframe tbody tr th:only-of-type {\n",
       "        vertical-align: middle;\n",
       "    }\n",
       "\n",
       "    .dataframe tbody tr th {\n",
       "        vertical-align: top;\n",
       "    }\n",
       "\n",
       "    .dataframe thead th {\n",
       "        text-align: right;\n",
       "    }\n",
       "</style>\n",
       "<table border=\"1\" class=\"dataframe\">\n",
       "  <thead>\n",
       "    <tr style=\"text-align: right;\">\n",
       "      <th></th>\n",
       "      <th>drug</th>\n",
       "      <th>conc</th>\n",
       "      <th>units</th>\n",
       "      <th>channel</th>\n",
       "      <th>block</th>\n",
       "      <th>pacing</th>\n",
       "    </tr>\n",
       "  </thead>\n",
       "  <tbody>\n",
       "    <tr>\n",
       "      <th>2474</th>\n",
       "      <td>chlorpromazine</td>\n",
       "      <td>1000.0</td>\n",
       "      <td>nM</td>\n",
       "      <td>hERG</td>\n",
       "      <td>45.595963</td>\n",
       "      <td>NaN</td>\n",
       "    </tr>\n",
       "    <tr>\n",
       "      <th>2475</th>\n",
       "      <td>chlorpromazine</td>\n",
       "      <td>1000.0</td>\n",
       "      <td>nM</td>\n",
       "      <td>hERG</td>\n",
       "      <td>46.912695</td>\n",
       "      <td>NaN</td>\n",
       "    </tr>\n",
       "    <tr>\n",
       "      <th>2476</th>\n",
       "      <td>chlorpromazine</td>\n",
       "      <td>1000.0</td>\n",
       "      <td>nM</td>\n",
       "      <td>hERG</td>\n",
       "      <td>50.214996</td>\n",
       "      <td>NaN</td>\n",
       "    </tr>\n",
       "    <tr>\n",
       "      <th>2477</th>\n",
       "      <td>chlorpromazine</td>\n",
       "      <td>1000.0</td>\n",
       "      <td>nM</td>\n",
       "      <td>hERG</td>\n",
       "      <td>44.111658</td>\n",
       "      <td>NaN</td>\n",
       "    </tr>\n",
       "    <tr>\n",
       "      <th>2478</th>\n",
       "      <td>chlorpromazine</td>\n",
       "      <td>1000.0</td>\n",
       "      <td>nM</td>\n",
       "      <td>hERG</td>\n",
       "      <td>45.500605</td>\n",
       "      <td>NaN</td>\n",
       "    </tr>\n",
       "  </tbody>\n",
       "</table>\n",
       "</div>"
      ],
      "text/plain": [
       "                drug    conc units channel      block  pacing\n",
       "2474  chlorpromazine  1000.0    nM    hERG  45.595963     NaN\n",
       "2475  chlorpromazine  1000.0    nM    hERG  46.912695     NaN\n",
       "2476  chlorpromazine  1000.0    nM    hERG  50.214996     NaN\n",
       "2477  chlorpromazine  1000.0    nM    hERG  44.111658     NaN\n",
       "2478  chlorpromazine  1000.0    nM    hERG  45.500605     NaN"
      ]
     },
     "execution_count": 7,
     "metadata": {},
     "output_type": "execute_result"
    }
   ],
   "source": [
    "drug_ion_df = drug_block_df[(drug_block_df['drug']==drug) & (drug_block_df['channel']==ion_channel)]\n",
    "drug_ion_df.head()"
   ]
  },
  {
   "cell_type": "code",
   "execution_count": 8,
   "id": "dca8e83a-ee59-4d6c-bfca-2c3c1f62fddf",
   "metadata": {},
   "outputs": [
    {
     "name": "stdout",
     "output_type": "stream",
     "text": [
      "975.2 0.8281\n"
     ]
    },
    {
     "data": {
      "text/plain": [
       "array([13.17040917, 13.49917856, 13.83484728, 14.17749467, 14.52719763,\n",
       "       14.88403043, 15.24806451, 15.61936828, 15.99800692, 16.38404213,\n",
       "       16.77753197, 17.17853059, 17.58708805, 18.00325007, 18.42705784,\n",
       "       18.85854775, 19.29775121, 19.7446944 , 20.19939807, 20.66187728,\n",
       "       21.13214124, 21.61019306, 22.09602952, 22.58964094, 23.09101089,\n",
       "       23.60011607, 24.11692609, 24.64140331, 25.17350265, 25.71317148,\n",
       "       26.26034944, 26.8149683 , 27.37695189, 27.94621594, 28.52266802,\n",
       "       29.10620748, 29.69672536, 30.29410435, 30.89821881, 31.50893472,\n",
       "       32.12610973, 32.74959317, 33.37922613, 34.01484151, 34.65626415,\n",
       "       35.30331092, 35.95579088, 36.61350543, 37.27624852, 37.94380682,\n",
       "       38.61595997, 39.29248083, 39.97313573, 40.65768479, 41.34588218,\n",
       "       42.0374765 , 42.7322111 , 43.42982441, 44.1300504 , 44.83261888,\n",
       "       45.53725597, 46.24368449, 46.95162439, 47.6607932 , 48.37090649,\n",
       "       49.08167827, 49.79282152, 50.5040486 , 51.21507174, 51.9256035 ,\n",
       "       52.63535724, 53.34404757, 54.05139081, 54.75710545, 55.46091259,\n",
       "       56.16253637, 56.8617044 , 57.55814819, 58.25160351, 58.94181081,\n",
       "       59.62851558, 60.3114687 , 60.9904268 , 61.66515255, 62.33541497,\n",
       "       63.00098971, 63.66165933, 64.3172135 , 64.96744926, 65.61217119,\n",
       "       66.2511916 , 66.88433065, 67.51141654, 68.13228559, 68.74678231,\n",
       "       69.35475949, 69.95607826, 70.5506081 , 71.13822685, 71.71882069])"
      ]
     },
     "execution_count": 8,
     "metadata": {},
     "output_type": "execute_result"
    }
   ],
   "source": [
    "# xvals = np.array([5, 50, 150, 500, 1000]) # concentration\n",
    "# xvals = np.array([xvals.min(), xvals.max(), plot_IC50/10, plot_IC50*10])\n",
    "concs = np.linspace( np.log10(drug_ion_df['conc']).min(), np.log10(drug_ion_df['conc']).max(),  100)\n",
    "concs = 10**concs\n",
    "\n",
    "hill_df = pd.read_csv( f\"../CiPA/Hill_fitting/results/{drug}/IC50_optimal.csv\" )\n",
    "IC50 = hill_df[f\"{ion_channel}_IC50\"].item()\n",
    "h =  hill_df[f\"{ion_channel}_h\"].item()\n",
    "print(IC50, h)\n",
    "block_exact = get_block_rate(concs, IC50, h)\n",
    "block_exact"
   ]
  },
  {
   "cell_type": "code",
   "execution_count": 9,
   "id": "f242bb7a-365f-493d-81cc-e5b558704977",
   "metadata": {},
   "outputs": [
    {
     "data": {
      "image/png": "[encoded data removed]",
      "text/plain": [
       "<Figure size 864x576 with 1 Axes>"
      ]
     },
     "metadata": {
      "needs_background": "light"
     },
     "output_type": "display_data"
    }
   ],
   "source": [
    "fig, ax = plt.subplots(1,1, figsize=(12,8))    \n",
    "ax.set_title(f\"{drug} ({ion_channel})\", fontsize=20)\n",
    "ax.set_xlabel(f'Concentration (nM)')  \n",
    "ax.set_ylabel(f'Block (%)')  \n",
    "ax.set_ylim(0, 100)    \n",
    "ax.plot( concs, block_exact, label=f\"{drug} ({ion_channel})\", color='k', linewidth=2)         \n",
    "ax.scatter(drug_ion_df['conc'], drug_ion_df['block'], s=64, color='g')\n",
    "ax.legend()\n",
    "ax.grid()\n",
    "plt.plot\n",
    "fig.savefig(os.path.join(dose_response_curves_dir, f\"{drug}-{ion_channel}.jpg\"), dpi=100)"
   ]
  },
  {
   "cell_type": "markdown",
   "id": "ab532fde-b3a0-414f-9ba8-0eadaa8e585e",
   "metadata": {},
   "source": [
    "### Current generation by simulation"
   ]
  },
  {
   "cell_type": "code",
   "execution_count": 10,
   "id": "41f9ef6a-8b86-495c-93df-78ef6357517a",
   "metadata": {},
   "outputs": [
    {
     "name": "stdout",
     "output_type": "stream",
     "text": [
      "The protocol is 1320 ms\n"
     ]
    }
   ],
   "source": [
    "import vc_protocols\n",
    "# VC_protocol = vc_protocols.hERG_CiPA()\n",
    "# VC_protocol = vc_protocols.cav12_CiPA()\n",
    "# VC_protocol = vc_protocols.lateNav15_CiPA()\n",
    "VC_protocol = vc_protocols.leemV1_CiPA()\n",
    "\n",
    "vhold = -80 # VC_protocol.steps[0].voltage\n",
    "\n",
    "print(f'The protocol is {VC_protocol.get_voltage_change_endpoints()[-1]} ms')"
   ]
  },
  {
   "cell_type": "code",
   "execution_count": 11,
   "id": "94f66190-882e-4bbf-8cf1-e7d2a37cd345",
   "metadata": {},
   "outputs": [
    {
     "data": {
      "image/png": "[encoded data removed]",
      "text/plain": [
       "<Figure size 1080x360 with 1 Axes>"
      ]
     },
     "metadata": {
      "needs_background": "light"
     },
     "output_type": "display_data"
    }
   ],
   "source": [
    "times = np.arange(0, VC_protocol.get_voltage_change_endpoints()[-1], 2) \n",
    "VC_protocol.plot_voltage_clamp_protocol(times)"
   ]
  },
  {
   "cell_type": "code",
   "execution_count": 12,
   "id": "88a6eae0-6f27-4b35-b304-2567d18db8c1",
   "metadata": {},
   "outputs": [],
   "source": [
    "cell_types = {\n",
    "    'Endocardial' : 0,\n",
    "    'Epicardial' : 1,\n",
    "    'Mid-myocardial' : 2,\n",
    "}\n",
    "\n",
    "cell_type = 'Endocardial'\n",
    "\n",
    "ds_params = {\n",
    "    'window' : 20,\n",
    "    'step_size' : 10,   \n",
    "    'window_type' : 'avg',\n",
    "    'noise_sigma' : 0\n",
    "}  \n",
    "\n",
    "extra_log=['ina.INa', 'inal.INaL', 'ito.Ito', 'ical.ICaL_total', 'ikr.IKr', 'iks.IKs', 'ik1.IK1', 'inaca.INaCa', 'inacass.INaCa_ss', 'inak.INaK', 'ikb.IKb', 'inab.INab', 'icab.ICab', 'ipca.IpCa']\n",
    "end_time = VC_protocol.get_voltage_change_endpoints()[-1]\n",
    "# t_eval = np.linspace(0, end_time, 10000)  "
   ]
  },
  {
   "cell_type": "code",
   "execution_count": 13,
   "id": "6122d132-9df5-4f02-ad98-e78a32c512a4",
   "metadata": {},
   "outputs": [
    {
     "name": "stdout",
     "output_type": "stream",
     "text": [
      "--- 9.22725796699524 seconds ---\n"
     ]
    }
   ],
   "source": [
    "start_time = time.time()\n",
    "\n",
    "model, p, s = myokit.load(\"../../../mmt-model-files/newordherg_qNet_vc_fixedconc-v1.mmt\")    \n",
    "sim = simulator_myokit.Simulator(model, VC_protocol, max_step=1.0, abs_tol=1e-06, rel_tol=1e-6, vhold=0)  # 1e-12, 1e-14  # 1e-08, 1e-10\n",
    "\n",
    "model_params = {         \n",
    "    'cell.mode': 0,\n",
    "    'setting.simType': 1,   # 0: AP   |  1: VC  \n",
    "   \n",
    "    # 'ikr.D' : 0,\n",
    "    'ikr.Kt' : 3.5e-05,\n",
    "    'ikr.Kmax' : 0,\n",
    "    'ikr.Ku' : 0,\n",
    "    'ikr.n' : 1,\n",
    "    'ikr.halfmax' : 1,    \n",
    "    'ikr.Vhalf' : 1,  \n",
    "        \n",
    "    'ina.GNafc' : 1.0,  \n",
    "    'inal.GNaLfc' : 1.0/2.661,\n",
    "    'ito.Gtofc' : 1.0,\n",
    "    'ical.PCafc' : 1.0/1.007,\n",
    "    'ikr.GKrfc' : 1.1/1.114,\n",
    "    'iks.GKsfc' : 1.0/1.870,\n",
    "    'ik1.GK1fc' : 1.0/1.698,    \n",
    "            \n",
    "    # 'ina.Gmax_adj'  : 1.0,  \n",
    "    # 'inal.Gmax_adj' : 1.0,\n",
    "    # 'ito.Gmax_adj'  : 1.0,\n",
    "    # 'ical.Gmax_adj' : 1.0,\n",
    "    # 'ikr.Gmax_adj'  : 1.0,\n",
    "    # 'iks.Gmax_adj'  : 1.0,\n",
    "    # 'ik1.Gmax_adj'  : 1.0,  \n",
    "}\n",
    "sim.set_simulation_params(model_params)\n",
    "\n",
    "print(\"--- %s seconds ---\"%(time.time()-start_time))"
   ]
  },
  {
   "cell_type": "code",
   "execution_count": 14,
   "id": "98a77e1a-f21e-4810-b51a-cc3d52ac2b8d",
   "metadata": {},
   "outputs": [],
   "source": [
    "gfcs = get_Gfc(concs, IC50, h)"
   ]
  },
  {
   "cell_type": "code",
   "execution_count": 15,
   "id": "40ece15a-d27a-4645-8c23-41ef42622b43",
   "metadata": {},
   "outputs": [
    {
     "name": "stdout",
     "output_type": "stream",
     "text": [
      "--- 42.78876495361328 seconds ---\n"
     ]
    }
   ],
   "source": [
    "start_time = time.time()\n",
    "\n",
    "x_test = []\n",
    "for gfc in gfcs:\n",
    "    model_params = {      \n",
    "        'ina.Gmax_adj'  : 1.0,  \n",
    "        'inal.Gmax_adj' : 1.0,\n",
    "        'ito.Gmax_adj'  : 1.0,\n",
    "        'ical.Gmax_adj' : 1.0,\n",
    "        'ikr.Gmax_adj'  : 1.0/gfc,\n",
    "        'iks.Gmax_adj'  : 1.0,\n",
    "        'ik1.Gmax_adj'  : 1.0,    \n",
    "    }\n",
    "    sim.set_simulation_params(model_params)  \n",
    "\n",
    "    y0 = sim.pre_simulate(5000, sim_type=1)\n",
    "    d = sim.simulate(end_time, log_times=None, extra_log=['membrane.i_ion'] + extra_log)\n",
    "\n",
    "    sol1 = {}\n",
    "    times1 = d['engine.time']\n",
    "    sol1[\"Voltage\"] = VC_protocol.get_voltage_clamp_protocol(d['engine.time'])\n",
    "    sol1[\"I_total\"] = d['membrane.i_ion']\n",
    "    sol1[\"window_avg\"] = get_currents_with_constant_dt(ds_params, [ d['engine.time'], d['membrane.i_ion'] ] )\n",
    "    sol1[\"window_amax\"] = get_currents_with_constant_dt(ds_params, [ d['engine.time'], d['membrane.i_ion'] ] )\n",
    "    sol1[\"window_min\"] = get_currents_with_constant_dt(ds_params, [ d['engine.time'], d['membrane.i_ion'] ] )\n",
    "    sol1[\"window_max\"] = get_currents_with_constant_dt(ds_params, [ d['engine.time'], d['membrane.i_ion'] ] )\n",
    "        \n",
    "    x_test.append( sol1[\"window_avg\"]) \n",
    "\n",
    "print(\"--- %s seconds ---\"%(time.time()-start_time))"
   ]
  },
  {
   "cell_type": "markdown",
   "id": "27974cf9-0a69-421a-a6e4-b387c6fe3be3",
   "metadata": {},
   "source": [
    "### Prediction"
   ]
  },
  {
   "cell_type": "code",
   "execution_count": null,
   "id": "f6060626-594e-4d9d-b31c-b82b1a3fc249",
   "metadata": {},
   "outputs": [],
   "source": [
    "x_test = torch.tensor(np.array(x_test)).type(torch.float)\n",
    "x_test = x_test.view(-1, x_test.shape[1], 1) "
   ]
  },
  {
   "cell_type": "code",
   "execution_count": 16,
   "id": "20905801-a955-403b-ac64-1a951e66823e",
   "metadata": {},
   "outputs": [
    {
     "ename": "ModuleNotFoundError",
     "evalue": "No module named 'model3'",
     "output_type": "error",
     "traceback": [
      "\u001b[0;31m---------------------------------------------------------------------------\u001b[0m",
      "\u001b[0;31mModuleNotFoundError\u001b[0m                       Traceback (most recent call last)",
      "\u001b[0;32m/tmp/ipykernel_2331839/4096483175.py\u001b[0m in \u001b[0;36m<module>\u001b[0;34m\u001b[0m\n\u001b[0;32m----> 1\u001b[0;31m \u001b[0;32mfrom\u001b[0m \u001b[0mmodel3\u001b[0m \u001b[0;32mimport\u001b[0m \u001b[0mIonNet\u001b[0m\u001b[0;34m\u001b[0m\u001b[0;34m\u001b[0m\u001b[0m\n\u001b[0m\u001b[1;32m      2\u001b[0m \u001b[0mmodel_file_path\u001b[0m \u001b[0;34m=\u001b[0m \u001b[0;34m'./AImodel/params-500.pk'\u001b[0m\u001b[0;34m\u001b[0m\u001b[0;34m\u001b[0m\u001b[0m\n\u001b[1;32m      3\u001b[0m ai_model = IonNet(seq_len = x_test.shape[1], \n\u001b[1;32m      4\u001b[0m                \u001b[0min_channels\u001b[0m \u001b[0;34m=\u001b[0m \u001b[0mx_test\u001b[0m\u001b[0;34m.\u001b[0m\u001b[0mshape\u001b[0m\u001b[0;34m[\u001b[0m\u001b[0;36m2\u001b[0m\u001b[0;34m]\u001b[0m\u001b[0;34m,\u001b[0m\u001b[0;34m\u001b[0m\u001b[0;34m\u001b[0m\u001b[0m\n\u001b[1;32m      5\u001b[0m                \u001b[0mn_parameters\u001b[0m \u001b[0;34m=\u001b[0m \u001b[0;36m7\u001b[0m\u001b[0;34m,\u001b[0m\u001b[0;34m\u001b[0m\u001b[0;34m\u001b[0m\u001b[0m\n",
      "\u001b[0;31mModuleNotFoundError\u001b[0m: No module named 'model3'"
     ]
    }
   ],
   "source": [
    "from model3 import IonNet\n",
    "model_file_path = './Trained_AI/params-500.pk'\n",
    "ai_model = IonNet(seq_len = x_test.shape[1], \n",
    "               in_channels = x_test.shape[2], \n",
    "               n_parameters = 7,\n",
    "               emb_size = 512,\n",
    "               d_model = 512,)\n",
    "\n",
    "checkpoint = torch.load(model_file_path) \n",
    "ai_model.load_state_dict(checkpoint['model_state_dict'])\n",
    "ai_model.to(device)\n",
    "ai_model.eval() "
   ]
  },
  {
   "cell_type": "code",
   "execution_count": null,
   "id": "83e8ea22-217f-44c6-9d51-367980a3d6c5",
   "metadata": {},
   "outputs": [],
   "source": [
    "# Gmax_adj_pred, _, _ = ai_model(x_test.to(device))\n",
    "# block_pred =  get_block_rate2(Gfc=1.0/Gmax_adj_pred)    \n",
    "block_pred =  get_block_rate2(Gfc=gfcs)    "
   ]
  },
  {
   "cell_type": "code",
   "execution_count": null,
   "id": "41a1df30-3ddc-4dff-b69f-80d72276463e",
   "metadata": {},
   "outputs": [],
   "source": [
    "fig, ax = plt.subplots(1,1, figsize=(12,8))    \n",
    "ax.set_title(f\"{drug} ({ion_channel})\", fontsize=20)\n",
    "ax.set_xlabel(f'Concentration (nM)')  \n",
    "ax.set_ylabel(f'Block (%)')  \n",
    "ax.set_ylim(0, 100)    \n",
    "ax.scatter(drug_ion_df['conc'], drug_ion_df['block'], s=64, color='g')\n",
    "ax.plot( concs, block_exact, label=f\"{drug} ({ion_channel})\", color='k', linewidth=5)     \n",
    "ax.plot( concs, block_pred, label=f\"{drug} ({ion_channel})\", color='r', linewidth=2) \n",
    "ax.legend()\n",
    "ax.grid()\n",
    "plt.plot\n",
    "fig.savefig(os.path.join(dose_response_curves_dir, f\"{drug}-{ion_channel}.jpg\"), dpi=100)"
   ]
  },
  {
   "cell_type": "code",
   "execution_count": null,
   "id": "3fb1ac7a-8916-4010-bd82-ea832c2ab79b",
   "metadata": {},
   "outputs": [],
   "source": []
  },
  {
   "cell_type": "code",
   "execution_count": null,
   "id": "80aad2c0-1210-46c4-8d11-577dfa761a99",
   "metadata": {},
   "outputs": [],
   "source": []
  },
  {
   "cell_type": "code",
   "execution_count": null,
   "id": "66dbfb11-ea2e-4256-9789-864c544023ab",
   "metadata": {},
   "outputs": [],
   "source": []
  },
  {
   "cell_type": "code",
   "execution_count": null,
   "id": "4e41da5a-c139-4213-864a-1968ea124d0a",
   "metadata": {},
   "outputs": [],
   "source": []
  },
  {
   "cell_type": "code",
   "execution_count": null,
   "id": "899f3352-59a5-4934-bc69-a24f3c2cf571",
   "metadata": {},
   "outputs": [],
   "source": []
  }
 ],
 "metadata": {
  "kernelspec": {
   "display_name": "Python 3 (ipykernel)",
   "language": "python",
   "name": "python3"
  },
  "language_info": {
   "codemirror_mode": {
    "name": "ipython",
    "version": 3
   },
   "file_extension": ".py",
   "mimetype": "text/x-python",
   "name": "python",
   "nbconvert_exporter": "python",
   "pygments_lexer": "ipython3",
   "version": "3.7.11"
  }
 },
 "nbformat": 4,
 "nbformat_minor": 5
}
