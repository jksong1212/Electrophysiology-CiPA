{
 "cells": [
  {
   "cell_type": "code",
   "execution_count": 1,
   "id": "db5fa8d3-e1b5-438c-a6ad-9e3ca8c59895",
   "metadata": {},
   "outputs": [
    {
     "name": "stderr",
     "output_type": "stream",
     "text": [
      "C:\\Anaconda3\\envs\\ml\\lib\\site-packages\\numpy\\_distributor_init.py:30: UserWarning: loaded more than 1 DLL from .libs:\n",
      "C:\\Anaconda3\\envs\\ml\\lib\\site-packages\\numpy\\.libs\\libopenblas.NOIJJG62EMASZI6NYURL6JBKM4EVBGM7.gfortran-win_amd64.dll\n",
      "C:\\Anaconda3\\envs\\ml\\lib\\site-packages\\numpy\\.libs\\libopenblas.WCDJNK7YVMPZQ2ME2ZZHJJRJ3JIKNDB7.gfortran-win_amd64.dll\n",
      "  warnings.warn(\"loaded more than 1 DLL from .libs:\\n%s\" %\n"
     ]
    },
    {
     "name": "stdout",
     "output_type": "stream",
     "text": [
      "1.9.0\n"
     ]
    }
   ],
   "source": [
    "import copy, os, sys\n",
    "import time\n",
    "import random\n",
    "import numpy as np\n",
    "import pandas as pd\n",
    "import scipy.optimize as opt\n",
    "import matplotlib.pyplot as plt\n",
    "import seaborn as sns\n",
    "\n",
    "import torch\n",
    "\n",
    "import myokit\n",
    "\n",
    "sys.path.append('../')\n",
    "sys.path.append('../../../')\n",
    "sys.path.append('../../../Protocols')\n",
    "sys.path.append('../../../Models')\n",
    "sys.path.append('../../../Lib')\n",
    "\n",
    "import protocol_lib\n",
    "import mod_trace\n",
    "import simulator_myokit\n",
    "import simulator_scipy\n",
    "\n",
    "from agetdata import get_currents_with_constant_dt\n",
    "# %matplotlib inline\n",
    "\n",
    "\n",
    "# seed 값 생성\n",
    "random.seed(3)\n",
    "np.random.seed(3)\n",
    "torch.manual_seed(3)\n",
    "\n",
    "print(torch.__version__)"
   ]
  },
  {
   "cell_type": "code",
   "execution_count": 2,
   "id": "8962cb28-0bc8-4a6c-a391-d91699220a77",
   "metadata": {},
   "outputs": [
    {
     "data": {
      "text/plain": [
       "device(type='cuda')"
      ]
     },
     "execution_count": 2,
     "metadata": {},
     "output_type": "execute_result"
    }
   ],
   "source": [
    "device = torch.device(\"cuda\" if torch.cuda.is_available() else 'cpu')\n",
    "if (device.type == 'cuda') and (torch.cuda.device_count() >1):\n",
    "    print(\"Multi GPU activate\")\n",
    "device"
   ]
  },
  {
   "cell_type": "code",
   "execution_count": 3,
   "id": "dd446ba5-7027-481d-8413-3d8733ab6e9d",
   "metadata": {},
   "outputs": [],
   "source": [
    "def get_Gfc(conc, IC50, h):\n",
    "    '''This function is basically a copy of the LL.4 function from the R drc package with\n",
    "    - h: hill slope\n",
    "    - IC50: IC50'''  \n",
    "    return 1.0+(conc/10**np.log10(IC50))**h\n",
    "\n",
    "def get_block_rate(conc, IC50, h):\n",
    "    Gfc = get_Gfc(conc, IC50, h)\n",
    "    return 100 - 100.0/Gfc\n",
    "\n",
    "def get_block_rate2(Gfc):    \n",
    "    return 100 - 100/Gfc"
   ]
  },
  {
   "cell_type": "code",
   "execution_count": null,
   "id": "2e0ea40a-54bd-4751-9ac5-693ff98ec289",
   "metadata": {},
   "outputs": [],
   "source": [
    "dose_response_curves_dir = \"Dose_response_curves\"\n",
    "if not os.path.exists(dose_response_curves_dir):\n",
    "    os.makedirs(dose_response_curves_dir)\n",
    "    print('\"%s\" has been created.'%(dose_response_curves_dir))\n",
    "else:\n",
    "    print(\"The folder already exists.\")    \n",
    "    \n",
    "results_dir = \"Results\"\n",
    "if not os.path.exists(results_dir):\n",
    "    os.makedirs(results_dir)\n",
    "    print('\"%s\" has been created.'%(results_dir))\n",
    "else:\n",
    "    print(\"The folder already exists.\")"
   ]
  },
  {
   "cell_type": "code",
   "execution_count": 126,
   "id": "cc987fe9-4f54-4427-8350-127f99653ef2",
   "metadata": {},
   "outputs": [],
   "source": [
    "ions = {\n",
    "    'INa' : 0, \n",
    "    'INaL' : 1, \n",
    "    'Ito' : 2, \n",
    "    'ICaL' : 3,\n",
    "    'hERG' : 4,\n",
    "    'IKs' : 5,\n",
    "    'IK1' : 6\n",
    "}\n",
    "\n",
    "drug = \"bepridil\"\n",
    "ion_channel = \"hERG\"\n",
    " "
   ]
  },
  {
   "cell_type": "code",
   "execution_count": 127,
   "id": "c33accf6-9208-4e9c-bbe7-3d462bd27707",
   "metadata": {},
   "outputs": [
    {
     "data": {
      "text/html": [
       "<div>\n",
       "<style scoped>\n",
       "    .dataframe tbody tr th:only-of-type {\n",
       "        vertical-align: middle;\n",
       "    }\n",
       "\n",
       "    .dataframe tbody tr th {\n",
       "        vertical-align: top;\n",
       "    }\n",
       "\n",
       "    .dataframe thead th {\n",
       "        text-align: right;\n",
       "    }\n",
       "</style>\n",
       "<table border=\"1\" class=\"dataframe\">\n",
       "  <thead>\n",
       "    <tr style=\"text-align: right;\">\n",
       "      <th></th>\n",
       "      <th>drug</th>\n",
       "      <th>conc</th>\n",
       "      <th>units</th>\n",
       "      <th>channel</th>\n",
       "      <th>block</th>\n",
       "      <th>pacing</th>\n",
       "    </tr>\n",
       "  </thead>\n",
       "  <tbody>\n",
       "    <tr>\n",
       "      <th>0</th>\n",
       "      <td>amiodarone</td>\n",
       "      <td>0.8</td>\n",
       "      <td>nM</td>\n",
       "      <td>ICaL</td>\n",
       "      <td>0.0</td>\n",
       "      <td>0.1</td>\n",
       "    </tr>\n",
       "    <tr>\n",
       "      <th>1</th>\n",
       "      <td>amiodarone</td>\n",
       "      <td>0.8</td>\n",
       "      <td>nM</td>\n",
       "      <td>ICaL</td>\n",
       "      <td>1.9</td>\n",
       "      <td>0.1</td>\n",
       "    </tr>\n",
       "    <tr>\n",
       "      <th>2</th>\n",
       "      <td>amiodarone</td>\n",
       "      <td>0.8</td>\n",
       "      <td>nM</td>\n",
       "      <td>ICaL</td>\n",
       "      <td>0.3</td>\n",
       "      <td>0.1</td>\n",
       "    </tr>\n",
       "    <tr>\n",
       "      <th>3</th>\n",
       "      <td>amiodarone</td>\n",
       "      <td>80.0</td>\n",
       "      <td>nM</td>\n",
       "      <td>ICaL</td>\n",
       "      <td>17.4</td>\n",
       "      <td>0.1</td>\n",
       "    </tr>\n",
       "    <tr>\n",
       "      <th>4</th>\n",
       "      <td>amiodarone</td>\n",
       "      <td>80.0</td>\n",
       "      <td>nM</td>\n",
       "      <td>ICaL</td>\n",
       "      <td>12.9</td>\n",
       "      <td>0.1</td>\n",
       "    </tr>\n",
       "  </tbody>\n",
       "</table>\n",
       "</div>"
      ],
      "text/plain": [
       "         drug  conc units channel  block  pacing\n",
       "0  amiodarone   0.8    nM    ICaL    0.0     0.1\n",
       "1  amiodarone   0.8    nM    ICaL    1.9     0.1\n",
       "2  amiodarone   0.8    nM    ICaL    0.3     0.1\n",
       "3  amiodarone  80.0    nM    ICaL   17.4     0.1\n",
       "4  amiodarone  80.0    nM    ICaL   12.9     0.1"
      ]
     },
     "execution_count": 127,
     "metadata": {},
     "output_type": "execute_result"
    }
   ],
   "source": [
    "drug_block_df = pd.read_csv( \"../CiPA/Hill_fitting/data/drug_block.csv\") \n",
    "drug_block_df.head()"
   ]
  },
  {
   "cell_type": "code",
   "execution_count": 128,
   "id": "4f24d280-02c6-4255-ad0e-39ae836feac5",
   "metadata": {},
   "outputs": [
    {
     "data": {
      "text/html": [
       "<div>\n",
       "<style scoped>\n",
       "    .dataframe tbody tr th:only-of-type {\n",
       "        vertical-align: middle;\n",
       "    }\n",
       "\n",
       "    .dataframe tbody tr th {\n",
       "        vertical-align: top;\n",
       "    }\n",
       "\n",
       "    .dataframe thead th {\n",
       "        text-align: right;\n",
       "    }\n",
       "</style>\n",
       "<table border=\"1\" class=\"dataframe\">\n",
       "  <thead>\n",
       "    <tr style=\"text-align: right;\">\n",
       "      <th></th>\n",
       "      <th>drug</th>\n",
       "      <th>conc</th>\n",
       "      <th>units</th>\n",
       "      <th>channel</th>\n",
       "      <th>block</th>\n",
       "      <th>pacing</th>\n",
       "    </tr>\n",
       "  </thead>\n",
       "  <tbody>\n",
       "    <tr>\n",
       "      <th>2276</th>\n",
       "      <td>bepridil</td>\n",
       "      <td>100.0</td>\n",
       "      <td>nM</td>\n",
       "      <td>hERG</td>\n",
       "      <td>58.806308</td>\n",
       "      <td>NaN</td>\n",
       "    </tr>\n",
       "    <tr>\n",
       "      <th>2277</th>\n",
       "      <td>bepridil</td>\n",
       "      <td>100.0</td>\n",
       "      <td>nM</td>\n",
       "      <td>hERG</td>\n",
       "      <td>55.926796</td>\n",
       "      <td>NaN</td>\n",
       "    </tr>\n",
       "    <tr>\n",
       "      <th>2278</th>\n",
       "      <td>bepridil</td>\n",
       "      <td>100.0</td>\n",
       "      <td>nM</td>\n",
       "      <td>hERG</td>\n",
       "      <td>59.611578</td>\n",
       "      <td>NaN</td>\n",
       "    </tr>\n",
       "    <tr>\n",
       "      <th>2279</th>\n",
       "      <td>bepridil</td>\n",
       "      <td>100.0</td>\n",
       "      <td>nM</td>\n",
       "      <td>hERG</td>\n",
       "      <td>65.603821</td>\n",
       "      <td>NaN</td>\n",
       "    </tr>\n",
       "    <tr>\n",
       "      <th>2280</th>\n",
       "      <td>bepridil</td>\n",
       "      <td>100.0</td>\n",
       "      <td>nM</td>\n",
       "      <td>hERG</td>\n",
       "      <td>70.778340</td>\n",
       "      <td>NaN</td>\n",
       "    </tr>\n",
       "  </tbody>\n",
       "</table>\n",
       "</div>"
      ],
      "text/plain": [
       "          drug   conc units channel      block  pacing\n",
       "2276  bepridil  100.0    nM    hERG  58.806308     NaN\n",
       "2277  bepridil  100.0    nM    hERG  55.926796     NaN\n",
       "2278  bepridil  100.0    nM    hERG  59.611578     NaN\n",
       "2279  bepridil  100.0    nM    hERG  65.603821     NaN\n",
       "2280  bepridil  100.0    nM    hERG  70.778340     NaN"
      ]
     },
     "execution_count": 128,
     "metadata": {},
     "output_type": "execute_result"
    }
   ],
   "source": [
    "drug_ion_df = drug_block_df[(drug_block_df['drug']==drug) & (drug_block_df['channel']==ion_channel)]\n",
    "drug_ion_df.head()"
   ]
  },
  {
   "cell_type": "code",
   "execution_count": 129,
   "id": "dca8e83a-ee59-4d6c-bfca-2c3c1f62fddf",
   "metadata": {},
   "outputs": [
    {
     "name": "stdout",
     "output_type": "stream",
     "text": [
      "51.34 0.9293\n"
     ]
    },
    {
     "data": {
      "text/plain": [
       "array([17.94279467, 18.91223135, 19.92133002, 20.97034676, 22.0593858 ,\n",
       "       23.18838677, 24.35711261, 25.56513839, 26.81184132, 28.09639227,\n",
       "       29.41774898, 30.77465135, 32.16561897, 33.58895114, 35.04272958,\n",
       "       36.52482393, 38.03290023, 39.56443219, 41.11671546, 42.68688462,\n",
       "       44.27193274, 45.86873333, 47.47406421, 49.08463308, 50.69710436,\n",
       "       52.30812665, 53.91436059, 55.51250643, 57.09933099, 58.67169336,\n",
       "       60.22656911, 61.76107246, 63.27247619, 64.75822903, 66.21597022,\n",
       "       67.64354131, 69.0389949 , 70.40060063, 71.7268482 , 73.01644778,\n",
       "       74.26832784, 75.48163075, 76.65570625, 77.79010318, 78.88455968,\n",
       "       79.93899213, 80.95348324, 81.92826928, 82.863727  , 83.7603603 ])"
      ]
     },
     "execution_count": 129,
     "metadata": {},
     "output_type": "execute_result"
    }
   ],
   "source": [
    "# xvals = np.array([5, 50, 150, 500, 1000]) # concentration\n",
    "# xvals = np.array([xvals.min(), xvals.max(), plot_IC50/10, plot_IC50*10])\n",
    "concs = np.linspace( np.log10(drug_ion_df['conc']).min(), np.log10(drug_ion_df['conc']).max(),  50)\n",
    "concs = 10**concs\n",
    "\n",
    "hill_df = pd.read_csv( f\"../CiPA/Hill_fitting/results/{drug}/IC50_optimal.csv\" )\n",
    "IC50 = hill_df[f\"{ion_channel}_IC50\"].item()\n",
    "h =  hill_df[f\"{ion_channel}_h\"].item()\n",
    "print(IC50, h)\n",
    "block_exact = get_block_rate(concs, IC50, h)\n",
    "block_exact"
   ]
  },
  {
   "cell_type": "code",
   "execution_count": 130,
   "id": "f242bb7a-365f-493d-81cc-e5b558704977",
   "metadata": {},
   "outputs": [
    {
     "data": {
      "image/png": "[encoded data removed]",
      "text/plain": [
       "<Figure size 864x576 with 1 Axes>"
      ]
     },
     "metadata": {
      "needs_background": "light"
     },
     "output_type": "display_data"
    }
   ],
   "source": [
    "fig, ax = plt.subplots(1,1, figsize=(12,8))    \n",
    "ax.set_title(f\"{drug} ({ion_channel})\", fontsize=20)\n",
    "ax.set_xlabel(f'Concentration (nM)')  \n",
    "ax.set_ylabel(f'Block (%)')  \n",
    "ax.set_ylim(0, 100)    \n",
    "ax.plot( concs, block_exact, label=f\"{drug} ({ion_channel})\", color='k', linewidth=2)         \n",
    "ax.scatter(drug_ion_df['conc'], drug_ion_df['block'], s=64, color='g')\n",
    "ax.legend()\n",
    "ax.grid()\n",
    "plt.plot\n",
    "fig.savefig(os.path.join(dose_response_curves_dir, f\"{drug}-{ion_channel}.jpg\"), dpi=100)"
   ]
  },
  {
   "cell_type": "markdown",
   "id": "ab532fde-b3a0-414f-9ba8-0eadaa8e585e",
   "metadata": {},
   "source": [
    "### Current generation by simulation"
   ]
  },
  {
   "cell_type": "code",
   "execution_count": 131,
   "id": "41f9ef6a-8b86-495c-93df-78ef6357517a",
   "metadata": {},
   "outputs": [
    {
     "data": {
      "image/png": "[encoded data removed]",
      "text/plain": [
       "<Figure size 1080x360 with 1 Axes>"
      ]
     },
     "metadata": {
      "needs_background": "light"
     },
     "output_type": "display_data"
    },
    {
     "name": "stdout",
     "output_type": "stream",
     "text": [
      "The protocol is 1320 ms\n"
     ]
    }
   ],
   "source": [
    "import vc_protocols\n",
    "# VC_protocol = vc_protocols.hERG_CiPA()\n",
    "# VC_protocol = vc_protocols.cav12_CiPA()\n",
    "# VC_protocol = vc_protocols.lateNav15_CiPA()\n",
    "VC_protocol = vc_protocols.leemV1_CiPA()\n",
    "\n",
    "vhold = -80 # VC_protocol.steps[0].voltage\n",
    "\n",
    "times = np.arange(0, VC_protocol.get_voltage_change_endpoints()[-1], 2) \n",
    "VC_protocol.plot_voltage_clamp_protocol(times)\n",
    "print(f'The protocol is {VC_protocol.get_voltage_change_endpoints()[-1]} ms')"
   ]
  },
  {
   "cell_type": "code",
   "execution_count": 132,
   "id": "88a6eae0-6f27-4b35-b304-2567d18db8c1",
   "metadata": {},
   "outputs": [],
   "source": [
    "cell_types = {\n",
    "    'Endocardial' : 0,\n",
    "    'Epicardial' : 1,\n",
    "    'Mid-myocardial' : 2,\n",
    "}\n",
    "\n",
    "ds_params = {\n",
    "    'window' : 20,\n",
    "    'step_size' : 10,   \n",
    "    'window_type' : 'amax',\n",
    "    'noise_sigma' : 0\n",
    "}  \n",
    "\n",
    "extra_log=['ina.INa', 'inal.INaL', 'ito.Ito', 'ical.ICaL_total', 'ikr.IKr', 'iks.IKs', 'ik1.IK1']\n",
    "end_time = VC_protocol.get_voltage_change_endpoints()[-1]\n",
    "# t_eval = np.linspace(0, end_time, 10000)  "
   ]
  },
  {
   "cell_type": "code",
   "execution_count": 133,
   "id": "6122d132-9df5-4f02-ad98-e78a32c512a4",
   "metadata": {},
   "outputs": [
    {
     "name": "stdout",
     "output_type": "stream",
     "text": [
      "--- 9.99837875366211 seconds ---\n"
     ]
    }
   ],
   "source": [
    "start_time = time.time()\n",
    "\n",
    "model, p, s = myokit.load(\"../../../mmt-model-files/ohara-cipa-v1-2017_fixedconc-v1.mmt\")    \n",
    "sim = simulator_myokit.Simulator(model, VC_protocol, max_step=1.0, abs_tol=1e-06, rel_tol=1e-6, vhold=vhold)  # 1e-12, 1e-14  # 1e-08, 1e-10\n",
    "\n",
    "f = 1.5\n",
    "model_params = {         \n",
    "    'cell.mode': cell_types['Mid-myocardial'],\n",
    "    'setting.simType': 1,   # 0: AP   |  1: VC  \n",
    "   \n",
    "    # 'ikr.D' : 0,\n",
    "#     'ikr.Kt' : 0,\n",
    "#     'ikr.Kmax' : 0,\n",
    "#     'ikr.Ku' : 0,\n",
    "#     'ikr.n' : 1,\n",
    "#     'ikr.halfmax' : 1,    \n",
    "#     'ikr.Vhalf' : 1,  \n",
    "        \n",
    "#     'ina.GNafc' : 1.0,  \n",
    "#     'inal.GNaLfc' : 1.0/2.661,\n",
    "#     'ito.Gtofc' : 1.0,\n",
    "#     'ical.PCafc' : 1.0/1.007,\n",
    "#     'ikr.GKrfc' : 1.1/1.114,\n",
    "#     'iks.GKsfc' : 1.0/1.870,\n",
    "#     'ik1.GK1fc' : 1.0/1.698,    \n",
    "            \n",
    "    # 'ina.Gmax_adj'  : 1.0,  \n",
    "    # 'inal.Gmax_adj' : 1.0,\n",
    "    # 'ito.Gmax_adj'  : 1.0,\n",
    "    # 'ical.Gmax_adj' : 1.0,\n",
    "    # 'ikr.Gmax_adj'  : 1.0,\n",
    "    # 'iks.Gmax_adj'  : 1.0,\n",
    "    # 'ik1.Gmax_adj'  : 1.0,  \n",
    "    \n",
    "    'ina.gNa' : 75.0 * f,   \n",
    "    'inal.gNaL' : 0.0075 * 2.661 * f,  \n",
    "    'ito.gto' : 0.02 * 4 * f,\n",
    "    'ical.PCa' : 0.0001 * 1.007 * 2.5 * f,\n",
    "    'ikr.gKr' : 4.65854545454545618e-2 * 1.3 * f, # [mS/uF]\n",
    "    'iks.gKs' : 0.0034 * 1.87 * 1.4 * f,\n",
    "    'ik1.gK1' : 0.1908 * 1.698 * 1.3 * f,\n",
    "    'inaca.gNaCa' : 0.0008 * 1.4,\n",
    "    'inak.PNaK' : 30 * 0.7,\n",
    "    'ikb.gKb' : 0.003,\n",
    "    'inab.PNab' : 3.75e-10,\n",
    "    'icab.PCab' : 2.5e-8,\n",
    "    'ipca.GpCa' : 0.0005,\n",
    "}\n",
    "sim.set_simulation_params(model_params)\n",
    "\n",
    "print(\"--- %s seconds ---\"%(time.time()-start_time))"
   ]
  },
  {
   "cell_type": "code",
   "execution_count": 134,
   "id": "40ece15a-d27a-4645-8c23-41ef42622b43",
   "metadata": {},
   "outputs": [
    {
     "name": "stdout",
     "output_type": "stream",
     "text": [
      "--- 4.889171123504639 seconds ---\n"
     ]
    }
   ],
   "source": [
    "start_time = time.time()\n",
    "\n",
    "x_test = []\n",
    "\n",
    "for block in block_exact:\n",
    "    model_params = {      \n",
    "#         'ina.Gmax_adj'  : 1.0,  \n",
    "#         'inal.Gmax_adj' : 1.0,\n",
    "#         'ito.Gmax_adj'  : 1.0,\n",
    "#         'ical.Gmax_adj' : 1.0,\n",
    "#         'ikr.Gmax_adj'  : 1.0/gfc,\n",
    "#         'iks.Gmax_adj'  : 1.0,\n",
    "#         'ik1.Gmax_adj'  : 1.0, \n",
    "        \n",
    "        'ina.g_adj'  : (100-block)/100,  \n",
    "        'inal.g_adj' : (100-block)/100,\n",
    "        'ito.g_adj'  : (100-block)/100,\n",
    "        'ical.g_adj' : (100-block)/100,\n",
    "        'ikr.g_adj'  : (100-block)/100,\n",
    "        'iks.g_adj'  : (100-block)/100,\n",
    "        'ik1.g_adj'  : (100-block)/100,  \n",
    "    }\n",
    "    sim.set_simulation_params(model_params)  \n",
    "\n",
    "    y0 = sim.pre_simulate(5000, sim_type=1)\n",
    "    d = sim.simulate(end_time, log_times=None, extra_log=['membrane.i_ion'] + extra_log)\n",
    "\n",
    "    sol1 = {}\n",
    "    times1 = d['engine.time']\n",
    "    sol1[\"Voltage\"] = VC_protocol.get_voltage_clamp_protocol(d['engine.time'])\n",
    "    sol1[\"I_total\"] = d['membrane.i_ion']\n",
    "    sol1[\"window\"] = get_currents_with_constant_dt(ds_params, [ d['engine.time'], d['membrane.i_ion'] ] )\n",
    "        \n",
    "    x_test.append( sol1[\"window\"]) \n",
    "\n",
    "print(\"--- %s seconds ---\"%(time.time()-start_time))"
   ]
  },
  {
   "cell_type": "code",
   "execution_count": 135,
   "id": "27a1a107-b6c1-4b38-8f4a-8c10311a7487",
   "metadata": {},
   "outputs": [],
   "source": [
    "# for i in range(50):\n",
    "#     plt.plot(x_test[i])\n",
    "# plt.show()"
   ]
  },
  {
   "cell_type": "markdown",
   "id": "27974cf9-0a69-421a-a6e4-b387c6fe3be3",
   "metadata": {},
   "source": [
    "### Prediction"
   ]
  },
  {
   "cell_type": "code",
   "execution_count": 136,
   "id": "f6060626-594e-4d9d-b31c-b82b1a3fc249",
   "metadata": {},
   "outputs": [
    {
     "data": {
      "text/plain": [
       "torch.Size([50, 131, 1])"
      ]
     },
     "execution_count": 136,
     "metadata": {},
     "output_type": "execute_result"
    }
   ],
   "source": [
    "x_test = torch.tensor(np.array(x_test)).type(torch.float)\n",
    "x_test = x_test.view(-1, x_test.shape[1], 1) \n",
    "x_test.shape"
   ]
  },
  {
   "cell_type": "code",
   "execution_count": 137,
   "id": "20905801-a955-403b-ac64-1a951e66823e",
   "metadata": {},
   "outputs": [
    {
     "name": "stdout",
     "output_type": "stream",
     "text": [
      "Loaded pretrained weights for efficientnet-b4\n",
      "Go\n"
     ]
    }
   ],
   "source": [
    "from model3 import IonNet\n",
    "model_file_path = './Trained_AI/params-495.pk'\n",
    "ai_model = IonNet(seq_len = x_test.shape[1], \n",
    "               in_channels = x_test.shape[2], \n",
    "               n_parameters = 7,\n",
    "               emb_size = 512,\n",
    "               d_model = 512)\n",
    "\n",
    "checkpoint = torch.load(model_file_path) \n",
    "ai_model.load_state_dict(checkpoint['model_state_dict'])\n",
    "ai_model.to(device)\n",
    "ai_model.eval() \n",
    "print(\"Go\")"
   ]
  },
  {
   "cell_type": "code",
   "execution_count": 138,
   "id": "83e8ea22-217f-44c6-9d51-367980a3d6c5",
   "metadata": {},
   "outputs": [],
   "source": [
    "Gmax_adj_pred, _, _ = ai_model(x_test.to(device))\n",
    "Gmax_adj_pred = Gmax_adj_pred.cpu().detach().numpy()[:, ions[ion_channel]]\n",
    "# block_pred =  get_block_rate2(Gfc=1.0/Gmax_adj_pred)    \n",
    "# block_pred =  get_block_rate2(Gfc=gfcs) \n",
    "# block_pred = block_pred\n",
    "block_pred = (1.0 - Gmax_adj_pred) * 100\n",
    "block_pred\n",
    "for i in range(len(block_pred)):\n",
    "    if block_pred[i]<0:\n",
    "        block_pred[i] = 0\n",
    "    elif block_pred[i]>100:\n",
    "        block_pred[i] = 100"
   ]
  },
  {
   "cell_type": "code",
   "execution_count": 139,
   "id": "41a1df30-3ddc-4dff-b69f-80d72276463e",
   "metadata": {},
   "outputs": [
    {
     "data": {
      "image/png": "[encoded data removed]",
      "text/plain": [
       "<Figure size 864x576 with 1 Axes>"
      ]
     },
     "metadata": {
      "needs_background": "light"
     },
     "output_type": "display_data"
    }
   ],
   "source": [
    "fig, ax = plt.subplots(1,1, figsize=(12,8))    \n",
    "ax.set_title(f\"{drug} ({ion_channel})\", fontsize=20)\n",
    "ax.set_xlabel(f'Concentration (nM)')  \n",
    "ax.set_ylabel(f'Block (%)')  \n",
    "ax.set_ylim(0, 100)    \n",
    "ax.scatter(drug_ion_df['conc'], drug_ion_df['block'], s=64, color='g')\n",
    "ax.plot( concs, block_exact, label=f\"{drug} ({ion_channel})\", color='k', linewidth=5)     \n",
    "ax.plot( concs, block_pred, label=f\"{drug} ({ion_channel})\", color='r', linewidth=2) \n",
    "ax.legend()\n",
    "ax.grid()\n",
    "plt.plot\n",
    "fig.savefig(os.path.join(dose_response_curves_dir, f\"{drug}-{ion_channel}.jpg\"), dpi=100)"
   ]
  },
  {
   "cell_type": "code",
   "execution_count": 140,
   "id": "3fb1ac7a-8916-4010-bd82-ea832c2ab79b",
   "metadata": {},
   "outputs": [
    {
     "name": "stdout",
     "output_type": "stream",
     "text": [
      "Finish.\n"
     ]
    }
   ],
   "source": [
    "print(\"Finish.\")"
   ]
  },
  {
   "cell_type": "code",
   "execution_count": null,
   "id": "80aad2c0-1210-46c4-8d11-577dfa761a99",
   "metadata": {},
   "outputs": [],
   "source": []
  },
  {
   "cell_type": "code",
   "execution_count": null,
   "id": "66dbfb11-ea2e-4256-9789-864c544023ab",
   "metadata": {},
   "outputs": [],
   "source": []
  },
  {
   "cell_type": "code",
   "execution_count": null,
   "id": "4e41da5a-c139-4213-864a-1968ea124d0a",
   "metadata": {},
   "outputs": [],
   "source": []
  },
  {
   "cell_type": "code",
   "execution_count": null,
   "id": "899f3352-59a5-4934-bc69-a24f3c2cf571",
   "metadata": {},
   "outputs": [],
   "source": []
  }
 ],
 "metadata": {
  "kernelspec": {
   "display_name": "Python 3",
   "language": "python",
   "name": "python3"
  },
  "language_info": {
   "codemirror_mode": {
    "name": "ipython",
    "version": 3
   },
   "file_extension": ".py",
   "mimetype": "text/x-python",
   "name": "python",
   "nbconvert_exporter": "python",
   "pygments_lexer": "ipython3",
   "version": "3.8.10"
  }
 },
 "nbformat": 4,
 "nbformat_minor": 5
}
