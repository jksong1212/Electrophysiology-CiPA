{
 "cells": [
  {
   "cell_type": "code",
   "execution_count": 1,
   "id": "db5fa8d3-e1b5-438c-a6ad-9e3ca8c59895",
   "metadata": {},
   "outputs": [],
   "source": [
    "import copy, os, sys\n",
    "import time\n",
    "import numpy as np\n",
    "import pandas as pd\n",
    "import scipy.optimize as opt\n",
    "import matplotlib.pyplot as plt\n",
    "import seaborn as sns"
   ]
  },
  {
   "cell_type": "code",
   "execution_count": 2,
   "id": "dd446ba5-7027-481d-8413-3d8733ab6e9d",
   "metadata": {},
   "outputs": [],
   "source": [
    "def get_Gfc(conc, IC50, h):\n",
    "    '''This function is basically a copy of the LL.4 function from the R drc package with\n",
    "    - h: hill slope\n",
    "    - IC50: IC50'''  \n",
    "    return 1.0+(conc/10**np.log10(IC50))**h\n",
    "\n",
    "def get_block_rate(conc, IC50, h):\n",
    "    Gfc = get_Gfc(conc, IC50, h)\n",
    "    return 100 - 100.0/Gfc\n",
    "\n",
    "def get_block_rate2(Gfc):    \n",
    "    return 100 - 100/Gfc"
   ]
  },
  {
   "cell_type": "code",
   "execution_count": 5,
   "id": "cc987fe9-4f54-4427-8350-127f99653ef2",
   "metadata": {},
   "outputs": [
    {
     "name": "stdout",
     "output_type": "stream",
     "text": [
      "The folder already exists.\n",
      "The folder already exists.\n"
     ]
    }
   ],
   "source": [
    "ions = ['INa', 'INaL', 'Ito', 'ICaL', 'hERG', 'IKs', 'IK1']\n",
    "\n",
    "drug = \"chlorpromazine\"\n",
    "ion_channel = \"hERG\"\n",
    "\n",
    "dose_response_curves_dir = \"Dose_response_curves\"\n",
    "if not os.path.exists(dose_response_curves_dir):\n",
    "    os.makedirs(dose_response_curves_dir)\n",
    "    print('\"%s\" has been created.'%(dose_response_curves_dir))\n",
    "else:\n",
    "    print(\"The folder already exists.\")    \n",
    "    \n",
    "results_dir = \"Results\"\n",
    "if not os.path.exists(results_dir):\n",
    "    os.makedirs(results_dir)\n",
    "    print('\"%s\" has been created.'%(results_dir))\n",
    "else:\n",
    "    print(\"The folder already exists.\")  "
   ]
  },
  {
   "cell_type": "code",
   "execution_count": 7,
   "id": "c33accf6-9208-4e9c-bbe7-3d462bd27707",
   "metadata": {},
   "outputs": [
    {
     "data": {
      "text/html": [
       "<div>\n",
       "<style scoped>\n",
       "    .dataframe tbody tr th:only-of-type {\n",
       "        vertical-align: middle;\n",
       "    }\n",
       "\n",
       "    .dataframe tbody tr th {\n",
       "        vertical-align: top;\n",
       "    }\n",
       "\n",
       "    .dataframe thead th {\n",
       "        text-align: right;\n",
       "    }\n",
       "</style>\n",
       "<table border=\"1\" class=\"dataframe\">\n",
       "  <thead>\n",
       "    <tr style=\"text-align: right;\">\n",
       "      <th></th>\n",
       "      <th>drug</th>\n",
       "      <th>conc</th>\n",
       "      <th>units</th>\n",
       "      <th>channel</th>\n",
       "      <th>block</th>\n",
       "      <th>pacing</th>\n",
       "    </tr>\n",
       "  </thead>\n",
       "  <tbody>\n",
       "    <tr>\n",
       "      <th>0</th>\n",
       "      <td>amiodarone</td>\n",
       "      <td>0.8</td>\n",
       "      <td>nM</td>\n",
       "      <td>ICaL</td>\n",
       "      <td>0.0</td>\n",
       "      <td>0.1</td>\n",
       "    </tr>\n",
       "    <tr>\n",
       "      <th>1</th>\n",
       "      <td>amiodarone</td>\n",
       "      <td>0.8</td>\n",
       "      <td>nM</td>\n",
       "      <td>ICaL</td>\n",
       "      <td>1.9</td>\n",
       "      <td>0.1</td>\n",
       "    </tr>\n",
       "    <tr>\n",
       "      <th>2</th>\n",
       "      <td>amiodarone</td>\n",
       "      <td>0.8</td>\n",
       "      <td>nM</td>\n",
       "      <td>ICaL</td>\n",
       "      <td>0.3</td>\n",
       "      <td>0.1</td>\n",
       "    </tr>\n",
       "    <tr>\n",
       "      <th>3</th>\n",
       "      <td>amiodarone</td>\n",
       "      <td>80.0</td>\n",
       "      <td>nM</td>\n",
       "      <td>ICaL</td>\n",
       "      <td>17.4</td>\n",
       "      <td>0.1</td>\n",
       "    </tr>\n",
       "    <tr>\n",
       "      <th>4</th>\n",
       "      <td>amiodarone</td>\n",
       "      <td>80.0</td>\n",
       "      <td>nM</td>\n",
       "      <td>ICaL</td>\n",
       "      <td>12.9</td>\n",
       "      <td>0.1</td>\n",
       "    </tr>\n",
       "  </tbody>\n",
       "</table>\n",
       "</div>"
      ],
      "text/plain": [
       "         drug  conc units channel  block  pacing\n",
       "0  amiodarone   0.8    nM    ICaL    0.0     0.1\n",
       "1  amiodarone   0.8    nM    ICaL    1.9     0.1\n",
       "2  amiodarone   0.8    nM    ICaL    0.3     0.1\n",
       "3  amiodarone  80.0    nM    ICaL   17.4     0.1\n",
       "4  amiodarone  80.0    nM    ICaL   12.9     0.1"
      ]
     },
     "execution_count": 7,
     "metadata": {},
     "output_type": "execute_result"
    }
   ],
   "source": [
    "drug_block_df = pd.read_csv( \"../CiPA/Hill_fitting/data/drug_block.csv\" )\n",
    "drug_block_df.head()"
   ]
  },
  {
   "cell_type": "code",
   "execution_count": 8,
   "id": "4f24d280-02c6-4255-ad0e-39ae836feac5",
   "metadata": {},
   "outputs": [
    {
     "data": {
      "text/html": [
       "<div>\n",
       "<style scoped>\n",
       "    .dataframe tbody tr th:only-of-type {\n",
       "        vertical-align: middle;\n",
       "    }\n",
       "\n",
       "    .dataframe tbody tr th {\n",
       "        vertical-align: top;\n",
       "    }\n",
       "\n",
       "    .dataframe thead th {\n",
       "        text-align: right;\n",
       "    }\n",
       "</style>\n",
       "<table border=\"1\" class=\"dataframe\">\n",
       "  <thead>\n",
       "    <tr style=\"text-align: right;\">\n",
       "      <th></th>\n",
       "      <th>drug</th>\n",
       "      <th>conc</th>\n",
       "      <th>units</th>\n",
       "      <th>channel</th>\n",
       "      <th>block</th>\n",
       "      <th>pacing</th>\n",
       "    </tr>\n",
       "  </thead>\n",
       "  <tbody>\n",
       "    <tr>\n",
       "      <th>2474</th>\n",
       "      <td>chlorpromazine</td>\n",
       "      <td>1000.0</td>\n",
       "      <td>nM</td>\n",
       "      <td>hERG</td>\n",
       "      <td>45.595963</td>\n",
       "      <td>NaN</td>\n",
       "    </tr>\n",
       "    <tr>\n",
       "      <th>2475</th>\n",
       "      <td>chlorpromazine</td>\n",
       "      <td>1000.0</td>\n",
       "      <td>nM</td>\n",
       "      <td>hERG</td>\n",
       "      <td>46.912695</td>\n",
       "      <td>NaN</td>\n",
       "    </tr>\n",
       "    <tr>\n",
       "      <th>2476</th>\n",
       "      <td>chlorpromazine</td>\n",
       "      <td>1000.0</td>\n",
       "      <td>nM</td>\n",
       "      <td>hERG</td>\n",
       "      <td>50.214996</td>\n",
       "      <td>NaN</td>\n",
       "    </tr>\n",
       "    <tr>\n",
       "      <th>2477</th>\n",
       "      <td>chlorpromazine</td>\n",
       "      <td>1000.0</td>\n",
       "      <td>nM</td>\n",
       "      <td>hERG</td>\n",
       "      <td>44.111658</td>\n",
       "      <td>NaN</td>\n",
       "    </tr>\n",
       "    <tr>\n",
       "      <th>2478</th>\n",
       "      <td>chlorpromazine</td>\n",
       "      <td>1000.0</td>\n",
       "      <td>nM</td>\n",
       "      <td>hERG</td>\n",
       "      <td>45.500605</td>\n",
       "      <td>NaN</td>\n",
       "    </tr>\n",
       "  </tbody>\n",
       "</table>\n",
       "</div>"
      ],
      "text/plain": [
       "                drug    conc units channel      block  pacing\n",
       "2474  chlorpromazine  1000.0    nM    hERG  45.595963     NaN\n",
       "2475  chlorpromazine  1000.0    nM    hERG  46.912695     NaN\n",
       "2476  chlorpromazine  1000.0    nM    hERG  50.214996     NaN\n",
       "2477  chlorpromazine  1000.0    nM    hERG  44.111658     NaN\n",
       "2478  chlorpromazine  1000.0    nM    hERG  45.500605     NaN"
      ]
     },
     "execution_count": 8,
     "metadata": {},
     "output_type": "execute_result"
    }
   ],
   "source": [
    "drug_ion_df = drug_block_df[(drug_block_df['drug']==drug) & (drug_block_df['channel']==ion_channel)]\n",
    "drug_ion_df.head()"
   ]
  },
  {
   "cell_type": "code",
   "execution_count": 11,
   "id": "dca8e83a-ee59-4d6c-bfca-2c3c1f62fddf",
   "metadata": {},
   "outputs": [
    {
     "name": "stdout",
     "output_type": "stream",
     "text": [
      "975.2 0.8281\n"
     ]
    },
    {
     "data": {
      "text/plain": [
       "array([13.17040917, 13.49917856, 13.83484728, 14.17749467, 14.52719763,\n",
       "       14.88403043, 15.24806451, 15.61936828, 15.99800692, 16.38404213,\n",
       "       16.77753197, 17.17853059, 17.58708805, 18.00325007, 18.42705784,\n",
       "       18.85854775, 19.29775121, 19.7446944 , 20.19939807, 20.66187728,\n",
       "       21.13214124, 21.61019306, 22.09602952, 22.58964094, 23.09101089,\n",
       "       23.60011607, 24.11692609, 24.64140331, 25.17350265, 25.71317148,\n",
       "       26.26034944, 26.8149683 , 27.37695189, 27.94621594, 28.52266802,\n",
       "       29.10620748, 29.69672536, 30.29410435, 30.89821881, 31.50893472,\n",
       "       32.12610973, 32.74959317, 33.37922613, 34.01484151, 34.65626415,\n",
       "       35.30331092, 35.95579088, 36.61350543, 37.27624852, 37.94380682,\n",
       "       38.61595997, 39.29248083, 39.97313573, 40.65768479, 41.34588218,\n",
       "       42.0374765 , 42.7322111 , 43.42982441, 44.1300504 , 44.83261888,\n",
       "       45.53725597, 46.24368449, 46.95162439, 47.6607932 , 48.37090649,\n",
       "       49.08167827, 49.79282152, 50.5040486 , 51.21507174, 51.9256035 ,\n",
       "       52.63535724, 53.34404757, 54.05139081, 54.75710545, 55.46091259,\n",
       "       56.16253637, 56.8617044 , 57.55814819, 58.25160351, 58.94181081,\n",
       "       59.62851558, 60.3114687 , 60.9904268 , 61.66515255, 62.33541497,\n",
       "       63.00098971, 63.66165933, 64.3172135 , 64.96744926, 65.61217119,\n",
       "       66.2511916 , 66.88433065, 67.51141654, 68.13228559, 68.74678231,\n",
       "       69.35475949, 69.95607826, 70.5506081 , 71.13822685, 71.71882069])"
      ]
     },
     "execution_count": 11,
     "metadata": {},
     "output_type": "execute_result"
    }
   ],
   "source": [
    "# xvals = np.array([5, 50, 150, 500, 1000]) # concentration\n",
    "# xvals = np.array([xvals.min(), xvals.max(), plot_IC50/10, plot_IC50*10])\n",
    "concs = np.linspace( np.log10(drug_ion_df['conc']).min(), np.log10(drug_ion_df['conc']).max(),  100)\n",
    "concs = 10**concs\n",
    "\n",
    "hill_df = pd.read_csv( f\"../CiPA/Hill_fitting/results/{drug}/IC50_optimal.csv\")\n",
    "IC50 = hill_df[f\"{ion_channel}_IC50\"].item()\n",
    "h =  hill_df[f\"{ion_channel}_h\"].item()\n",
    "print(IC50, h)\n",
    "block_exact = get_block_rate(concs, IC50, h)\n",
    "block_exact"
   ]
  },
  {
   "cell_type": "code",
   "execution_count": 12,
   "id": "f242bb7a-365f-493d-81cc-e5b558704977",
   "metadata": {},
   "outputs": [
    {
     "data": {
      "image/png": "[encoded data removed]",
      "text/plain": [
       "<Figure size 864x576 with 1 Axes>"
      ]
     },
     "metadata": {
      "needs_background": "light"
     },
     "output_type": "display_data"
    }
   ],
   "source": [
    "fig, ax = plt.subplots(1,1, figsize=(12,8))    \n",
    "ax.set_title(f\"{drug} ({ion_channel})\", fontsize=20)\n",
    "ax.set_xlabel(f'Concentration (nM)')  \n",
    "ax.set_ylabel(f'Block (%)')  \n",
    "ax.set_ylim(0, 100)    \n",
    "ax.plot( concs, block_exact, label=f\"{drug} ({ion_channel})\", color='k', linewidth=2)         \n",
    "ax.scatter(drug_ion_df['conc'], drug_ion_df['block'], s=64, color='g')\n",
    "ax.legend()\n",
    "ax.grid()\n",
    "plt.plot\n",
    "fig.savefig(os.path.join(dose_response_curves_dir, f\"{drug}-{ion_channel}.jpg\"), dpi=100)"
   ]
  },
  {
   "cell_type": "code",
   "execution_count": null,
   "id": "3fb1ac7a-8916-4010-bd82-ea832c2ab79b",
   "metadata": {},
   "outputs": [],
   "source": []
  },
  {
   "cell_type": "code",
   "execution_count": null,
   "id": "80aad2c0-1210-46c4-8d11-577dfa761a99",
   "metadata": {},
   "outputs": [],
   "source": []
  },
  {
   "cell_type": "code",
   "execution_count": null,
   "id": "66dbfb11-ea2e-4256-9789-864c544023ab",
   "metadata": {},
   "outputs": [],
   "source": []
  },
  {
   "cell_type": "code",
   "execution_count": null,
   "id": "4e41da5a-c139-4213-864a-1968ea124d0a",
   "metadata": {},
   "outputs": [],
   "source": []
  },
  {
   "cell_type": "code",
   "execution_count": null,
   "id": "899f3352-59a5-4934-bc69-a24f3c2cf571",
   "metadata": {},
   "outputs": [],
   "source": []
  }
 ],
 "metadata": {
  "kernelspec": {
   "display_name": "Python 3 (ipykernel)",
   "language": "python",
   "name": "python3"
  },
  "language_info": {
   "codemirror_mode": {
    "name": "ipython",
    "version": 3
   },
   "file_extension": ".py",
   "mimetype": "text/x-python",
   "name": "python",
   "nbconvert_exporter": "python",
   "pygments_lexer": "ipython3",
   "version": "3.7.11"
  }
 },
 "nbformat": 4,
 "nbformat_minor": 5
}
