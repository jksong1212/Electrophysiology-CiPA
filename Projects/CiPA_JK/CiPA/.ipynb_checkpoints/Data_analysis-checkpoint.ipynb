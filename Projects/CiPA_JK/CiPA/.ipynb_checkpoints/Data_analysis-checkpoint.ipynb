{
 "cells": [
  {
   "cell_type": "code",
   "execution_count": 1,
   "id": "ee72abc0-c285-4e2b-a3b2-f9554f082ca9",
   "metadata": {},
   "outputs": [],
   "source": [
    "import copy, os\n",
    "import math\n",
    "import numpy as np\n",
    "import pandas as pd\n",
    "import scipy.optimize as opt\n",
    "import matplotlib.pyplot as plt\n",
    "import seaborn as sns\n",
    "# %matplotlib inline"
   ]
  },
  {
   "cell_type": "markdown",
   "id": "35cb8d0c-fb66-4ccb-9718-4d1b8cdeda12",
   "metadata": {},
   "source": [
    "### Data for Hill fitting"
   ]
  },
  {
   "cell_type": "code",
   "execution_count": 2,
   "id": "36c26321-0d49-455c-81fc-dc90073954d9",
   "metadata": {},
   "outputs": [
    {
     "data": {
      "text/html": [
       "<div>\n",
       "<style scoped>\n",
       "    .dataframe tbody tr th:only-of-type {\n",
       "        vertical-align: middle;\n",
       "    }\n",
       "\n",
       "    .dataframe tbody tr th {\n",
       "        vertical-align: top;\n",
       "    }\n",
       "\n",
       "    .dataframe thead th {\n",
       "        text-align: right;\n",
       "    }\n",
       "</style>\n",
       "<table border=\"1\" class=\"dataframe\">\n",
       "  <thead>\n",
       "    <tr style=\"text-align: right;\">\n",
       "      <th></th>\n",
       "      <th>drug</th>\n",
       "      <th>conc</th>\n",
       "      <th>units</th>\n",
       "      <th>channel</th>\n",
       "      <th>block</th>\n",
       "      <th>pacing</th>\n",
       "    </tr>\n",
       "  </thead>\n",
       "  <tbody>\n",
       "    <tr>\n",
       "      <th>0</th>\n",
       "      <td>amiodarone</td>\n",
       "      <td>0.8</td>\n",
       "      <td>nM</td>\n",
       "      <td>ICaL</td>\n",
       "      <td>0.0</td>\n",
       "      <td>0.1</td>\n",
       "    </tr>\n",
       "    <tr>\n",
       "      <th>1</th>\n",
       "      <td>amiodarone</td>\n",
       "      <td>0.8</td>\n",
       "      <td>nM</td>\n",
       "      <td>ICaL</td>\n",
       "      <td>1.9</td>\n",
       "      <td>0.1</td>\n",
       "    </tr>\n",
       "    <tr>\n",
       "      <th>2</th>\n",
       "      <td>amiodarone</td>\n",
       "      <td>0.8</td>\n",
       "      <td>nM</td>\n",
       "      <td>ICaL</td>\n",
       "      <td>0.3</td>\n",
       "      <td>0.1</td>\n",
       "    </tr>\n",
       "    <tr>\n",
       "      <th>3</th>\n",
       "      <td>amiodarone</td>\n",
       "      <td>80.0</td>\n",
       "      <td>nM</td>\n",
       "      <td>ICaL</td>\n",
       "      <td>17.4</td>\n",
       "      <td>0.1</td>\n",
       "    </tr>\n",
       "    <tr>\n",
       "      <th>4</th>\n",
       "      <td>amiodarone</td>\n",
       "      <td>80.0</td>\n",
       "      <td>nM</td>\n",
       "      <td>ICaL</td>\n",
       "      <td>12.9</td>\n",
       "      <td>0.1</td>\n",
       "    </tr>\n",
       "  </tbody>\n",
       "</table>\n",
       "</div>"
      ],
      "text/plain": [
       "         drug  conc units channel  block  pacing\n",
       "0  amiodarone   0.8    nM    ICaL    0.0     0.1\n",
       "1  amiodarone   0.8    nM    ICaL    1.9     0.1\n",
       "2  amiodarone   0.8    nM    ICaL    0.3     0.1\n",
       "3  amiodarone  80.0    nM    ICaL   17.4     0.1\n",
       "4  amiodarone  80.0    nM    ICaL   12.9     0.1"
      ]
     },
     "execution_count": 2,
     "metadata": {},
     "output_type": "execute_result"
    }
   ],
   "source": [
    "drug_block_df = pd.read_csv( \"./Hill_fitting/data/drug_block.csv\")\n",
    "drug_block_df.head()"
   ]
  },
  {
   "cell_type": "code",
   "execution_count": 3,
   "id": "426970b8-9f0c-4b09-8be5-a3de5a29ceb1",
   "metadata": {},
   "outputs": [
    {
     "data": {
      "text/plain": [
       "['bepridil',\n",
       " 'chlorpromazine',\n",
       " 'cisapride',\n",
       " 'diltiazem',\n",
       " 'dofetilide',\n",
       " 'mexiletine',\n",
       " 'ondansetron',\n",
       " 'quinidine',\n",
       " 'ranolazine',\n",
       " 'sotalol',\n",
       " 'terfenadine',\n",
       " 'verapamil']"
      ]
     },
     "execution_count": 3,
     "metadata": {},
     "output_type": "execute_result"
    }
   ],
   "source": [
    "hill_result_dir = \"./Hill_fitting/results\"\n",
    "drug_li = os.listdir(hill_result_dir)\n",
    "drug_li               "
   ]
  },
  {
   "cell_type": "code",
   "execution_count": 4,
   "id": "68ab6ebe-5862-4d49-90bc-028058f4c873",
   "metadata": {},
   "outputs": [],
   "source": [
    "def get_Gfc(conc, IC50, h):\n",
    "    return 1.0+(conc/10**np.log10(IC50))**h"
   ]
  },
  {
   "cell_type": "code",
   "execution_count": 5,
   "id": "3f812b13-bc9e-4006-a5b0-b13435bce3a5",
   "metadata": {},
   "outputs": [
    {
     "name": "stdout",
     "output_type": "stream",
     "text": [
      "Gfc of INa - min: 1.0000610032568693  |  max: 6.335927561138344\n",
      "Gfc of INaL - min: 0.37665083057147214  |  max: 1.4094220816010146\n",
      "Gfc of Ito - min: 1.0000000019929693  |  max: 2.7518842312791723\n",
      "Gfc of ICaL - min: 0.9945895580245948  |  max: 29.777326113370542\n",
      "Gfc of IKs - min: 0.5351896228942729  |  max: 1.1454125735490408\n",
      "Gfc of IK1 - min: 1.0015305275392006  |  max: 2.0894732182411744\n",
      "Gfc of hERG - min: 0.9874326750448833  |  max: 0.9874326750448833\n"
     ]
    }
   ],
   "source": [
    "ions = [\"INa\", \"INaL\", \"Ito\", \"ICaL\", \"IKs\", \"IK1\", 'hERG',]\n",
    "optimized = True\n",
    "\n",
    "for ion in ions :\n",
    "    \n",
    "    gfc_li = []    \n",
    "    \n",
    "    for drug in drug_li : \n",
    "        \n",
    "        drug_ion_df = drug_block_df[(drug_block_df['drug']==drug) & (drug_block_df['channel']==ion)]        \n",
    "                 \n",
    "        IC50_df = pd.read_csv(f\"{hill_result_dir}/{drug}/IC50_optimal.csv\")    \n",
    "        IC50 = IC50_df[f\"{ion}_IC50\"].item()\n",
    "        h =  IC50_df[f\"{ion}_h\"].item()    \n",
    "        if math.isnan(IC50) or math.isnan(h):        \n",
    "            continue        \n",
    "        gfcs = get_Gfc(drug_ion_df['conc'], IC50, h)                                        \n",
    "                \n",
    "        if optimized :\n",
    "            if ion==\"INaL\":            \n",
    "                gfcs = gfcs/2.661\n",
    "            elif ion==\"ICaL\":\n",
    "                gfcs = gfcs/1.007\n",
    "            elif ion==\"hERG\":\n",
    "                gfcs = np.full(gfcs.shape, 1.1)                \n",
    "                gfcs = gfcs/1.114\n",
    "            elif ion==\"IKs\":\n",
    "                gfcs = gfcs/1.870\n",
    "            elif ion==\"Ik1\":\n",
    "                gfcs = gfcs/1.698\n",
    "                       \n",
    "        \n",
    "        gfc_li.append(gfcs.min())\n",
    "        gfc_li.append(gfcs.max())\n",
    "        \n",
    "    gfc_li = np.array(gfc_li)    \n",
    "    print(f\"Gfc of {ion} - min: {gfc_li.min()}  |  max: {gfc_li.max()}\")"
   ]
  },
  {
   "cell_type": "code",
   "execution_count": null,
   "id": "e1cf61dd-115c-4fd2-933c-8a8dd74d20b1",
   "metadata": {},
   "outputs": [],
   "source": []
  },
  {
   "cell_type": "markdown",
   "id": "f684a918-9d0e-4293-9006-d6cc24807d04",
   "metadata": {},
   "source": [
    "### Data for hERG fitting "
   ]
  },
  {
   "cell_type": "code",
   "execution_count": 6,
   "id": "518b67a2-d4b0-4ea8-aa3e-af4684d9b894",
   "metadata": {},
   "outputs": [
    {
     "data": {
      "text/plain": [
       "['bepridil',\n",
       " 'chlorpromazine',\n",
       " 'cisapride',\n",
       " 'diltiazem',\n",
       " 'dofetilide',\n",
       " 'mexiletine',\n",
       " 'ondansetron',\n",
       " 'quinidine',\n",
       " 'ranolazine',\n",
       " 'sotalol',\n",
       " 'terfenadine',\n",
       " 'verapamil']"
      ]
     },
     "execution_count": 6,
     "metadata": {},
     "output_type": "execute_result"
    }
   ],
   "source": [
    "hERG_results_dir = \"./hERG_fitting/results\"\n",
    "hERG_results_drug_list = os.listdir(hERG_results_dir)\n",
    "hERG_results_drug_list\n",
    "# drug_block_df = pd.read_csv( \"./hERG_fitting/results/drug_block.csv\")\n",
    "# drug_block_df.head()"
   ]
  },
  {
   "cell_type": "code",
   "execution_count": 84,
   "id": "cf4c3452-bbf0-4f24-bbbc-ec01d95751ff",
   "metadata": {},
   "outputs": [
    {
     "data": {
      "text/html": [
       "<div>\n",
       "<style scoped>\n",
       "    .dataframe tbody tr th:only-of-type {\n",
       "        vertical-align: middle;\n",
       "    }\n",
       "\n",
       "    .dataframe tbody tr th {\n",
       "        vertical-align: top;\n",
       "    }\n",
       "\n",
       "    .dataframe thead th {\n",
       "        text-align: right;\n",
       "    }\n",
       "</style>\n",
       "<table border=\"1\" class=\"dataframe\">\n",
       "  <thead>\n",
       "    <tr style=\"text-align: right;\">\n",
       "      <th></th>\n",
       "      <th>Kmax</th>\n",
       "      <th>Ku</th>\n",
       "      <th>n</th>\n",
       "      <th>halfmax</th>\n",
       "      <th>Vhalf</th>\n",
       "      <th>slope</th>\n",
       "    </tr>\n",
       "  </thead>\n",
       "  <tbody>\n",
       "    <tr>\n",
       "      <th>0</th>\n",
       "      <td>712100.0</td>\n",
       "      <td>0.000179</td>\n",
       "      <td>0.9343</td>\n",
       "      <td>24420000.0</td>\n",
       "      <td>-14.66</td>\n",
       "      <td>0.02916</td>\n",
       "    </tr>\n",
       "    <tr>\n",
       "      <th>1</th>\n",
       "      <td>26750000.0</td>\n",
       "      <td>0.000148</td>\n",
       "      <td>0.8436</td>\n",
       "      <td>413000000.0</td>\n",
       "      <td>-67.50</td>\n",
       "      <td>0.06477</td>\n",
       "    </tr>\n",
       "    <tr>\n",
       "      <th>2</th>\n",
       "      <td>801300.0</td>\n",
       "      <td>0.000171</td>\n",
       "      <td>1.0160</td>\n",
       "      <td>24850000.0</td>\n",
       "      <td>-72.57</td>\n",
       "      <td>0.03225</td>\n",
       "    </tr>\n",
       "    <tr>\n",
       "      <th>3</th>\n",
       "      <td>9883000.0</td>\n",
       "      <td>0.000137</td>\n",
       "      <td>0.9805</td>\n",
       "      <td>378600000.0</td>\n",
       "      <td>-40.66</td>\n",
       "      <td>0.02610</td>\n",
       "    </tr>\n",
       "    <tr>\n",
       "      <th>4</th>\n",
       "      <td>148700.0</td>\n",
       "      <td>0.000177</td>\n",
       "      <td>0.8687</td>\n",
       "      <td>2588000.0</td>\n",
       "      <td>-67.27</td>\n",
       "      <td>0.05746</td>\n",
       "    </tr>\n",
       "  </tbody>\n",
       "</table>\n",
       "</div>"
      ],
      "text/plain": [
       "         Kmax        Ku       n      halfmax  Vhalf    slope\n",
       "0    712100.0  0.000179  0.9343   24420000.0 -14.66  0.02916\n",
       "1  26750000.0  0.000148  0.8436  413000000.0 -67.50  0.06477\n",
       "2    801300.0  0.000171  1.0160   24850000.0 -72.57  0.03225\n",
       "3   9883000.0  0.000137  0.9805  378600000.0 -40.66  0.02610\n",
       "4    148700.0  0.000177  0.8687    2588000.0 -67.27  0.05746"
      ]
     },
     "execution_count": 84,
     "metadata": {},
     "output_type": "execute_result"
    }
   ],
   "source": [
    "for i, drug in enumerate(hERG_results_drug_list):    \n",
    "    temp_df1 = pd.read_csv( os.path.join(os.path.join(hERG_results_dir, drug), 'pars.txt'), sep=' ', names=[drug] )\n",
    "    temp_df2 = pd.read_csv( os.path.join(os.path.join(hERG_results_dir, drug), 'boot_pars.csv') )     \n",
    "    if i==0:\n",
    "        hERG_pars_df = temp_df1\n",
    "        hERG_boot_pars_df = temp_df2        \n",
    "    else:        \n",
    "        hERG_pars_df = pd.merge(hERG_pars_df, temp_df1, left_index=True, right_index=True) \n",
    "        hERG_boot_pars_df = pd.concat([hERG_boot_pars_df, temp_df2])\n",
    "        \n",
    "hERG_boot_pars_df.head()"
   ]
  },
  {
   "cell_type": "code",
   "execution_count": 110,
   "id": "25038d78-34c3-41a3-9c33-da674b7ac95f",
   "metadata": {},
   "outputs": [
    {
     "name": "stdout",
     "output_type": "stream",
     "text": [
      "===== hERG pars ==================================\n",
      "Kmax     min: 10.220000  | max: 5594000.000000\n",
      "Ku       min: 0.000018  | max: 0.282000\n",
      "n        min: 0.650200  | max: 1.139000\n",
      "halfmax  min: 42.320000  | max: 667700000.000000\n",
      "Vhalf    min: -167.400000  | max: -1.000000\n",
      "==================================================\n"
     ]
    }
   ],
   "source": [
    "print( \"===== hERG pars ==================================\" )\n",
    "print( f\"Kmax     min: %f  | max: %f\"%(hERG_pars_df.loc['Kmax'].min(), hERG_pars_df.loc['Kmax'].max()) )\n",
    "print( f\"Ku       min: %f  | max: %f\"%(hERG_pars_df.loc['Ku'].min(), hERG_pars_df.loc['Ku'].max()) ) \n",
    "print( f\"n        min: %f  | max: %f\"%(hERG_pars_df.loc['n'].min(), hERG_pars_df.loc['n'].max()) )\n",
    "print( f\"halfmax  min: %f  | max: %f\"%(hERG_pars_df.loc['halfmax'].min(), hERG_pars_df.loc['halfmax'].max()) )\n",
    "print( f\"Vhalf    min: %f  | max: %f\"%(hERG_pars_df.loc['Vhalf'].min(), hERG_pars_df.loc['Vhalf'].max()) )\n",
    "print( \"=\"*50)"
   ]
  },
  {
   "cell_type": "code",
   "execution_count": 111,
   "id": "f803b423-2019-4737-9e0a-1d26ee3f8673",
   "metadata": {},
   "outputs": [
    {
     "name": "stdout",
     "output_type": "stream",
     "text": [
      "===== hERG boot pars =============================\n",
      "Kmax     min: 2.847000  | max: 74530000.000000\n",
      "Ku       min: 0.000009  | max: 1.000000\n",
      "n        min: 0.500000  | max: 1.812000\n",
      "halfmax  min: 9.636000  | max: 1000000000.000000\n",
      "Vhalf    min: -199.700000  | max: -1.000000\n",
      "==================================================\n"
     ]
    }
   ],
   "source": [
    "print( \"===== hERG boot pars =============================\" )\n",
    "print( f\"Kmax     min: %f  | max: %f\"%(hERG_boot_pars_df['Kmax'].min(), hERG_boot_pars_df['Kmax'].max()) )\n",
    "print( f\"Ku       min: %f  | max: %f\"%(hERG_boot_pars_df['Ku'].min(), hERG_boot_pars_df['Ku'].max()) ) \n",
    "print( f\"n        min: %f  | max: %f\"%(hERG_boot_pars_df['n'].min(), hERG_boot_pars_df['n'].max()) )\n",
    "print( f\"halfmax  min: %f  | max: %f\"%(hERG_boot_pars_df['halfmax'].min(), hERG_boot_pars_df['halfmax'].max()) )\n",
    "print( f\"Vhalf    min: %f  | max: %f\"%(hERG_boot_pars_df['Vhalf'].min(), hERG_boot_pars_df['Vhalf'].max()) )\n",
    "print( \"=\"*50)"
   ]
  },
  {
   "cell_type": "code",
   "execution_count": 112,
   "id": "776b3b4d-8f87-4def-9b20-3f417a9d348b",
   "metadata": {},
   "outputs": [],
   "source": [
    "Kmax = [2.5, 75000000]\n",
    "Ku = [0, 1]\n",
    "n = [0.5, 2]\n",
    "halfmax = [9, 1000000000]\n",
    "Vhalf = [-200, -1]"
   ]
  },
  {
   "cell_type": "code",
   "execution_count": null,
   "id": "e95245db-867f-4f71-a84f-aaf5436640c4",
   "metadata": {},
   "outputs": [],
   "source": []
  }
 ],
 "metadata": {
  "kernelspec": {
   "display_name": "Python 3 (ipykernel)",
   "language": "python",
   "name": "python3"
  },
  "language_info": {
   "codemirror_mode": {
    "name": "ipython",
    "version": 3
   },
   "file_extension": ".py",
   "mimetype": "text/x-python",
   "name": "python",
   "nbconvert_exporter": "python",
   "pygments_lexer": "ipython3",
   "version": "3.7.11"
  }
 },
 "nbformat": 4,
 "nbformat_minor": 5
}
