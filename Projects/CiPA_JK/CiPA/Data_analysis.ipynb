{
 "cells": [
  {
   "cell_type": "code",
   "execution_count": 1,
   "id": "ee72abc0-c285-4e2b-a3b2-f9554f082ca9",
   "metadata": {},
   "outputs": [],
   "source": [
    "import copy, os\n",
    "import math\n",
    "import numpy as np\n",
    "import pandas as pd\n",
    "import scipy.optimize as opt\n",
    "import matplotlib.pyplot as plt\n",
    "import seaborn as sns\n",
    "# %matplotlib inline"
   ]
  },
  {
   "cell_type": "code",
   "execution_count": 2,
   "id": "36c26321-0d49-455c-81fc-dc90073954d9",
   "metadata": {},
   "outputs": [
    {
     "data": {
      "text/html": [
       "<div>\n",
       "<style scoped>\n",
       "    .dataframe tbody tr th:only-of-type {\n",
       "        vertical-align: middle;\n",
       "    }\n",
       "\n",
       "    .dataframe tbody tr th {\n",
       "        vertical-align: top;\n",
       "    }\n",
       "\n",
       "    .dataframe thead th {\n",
       "        text-align: right;\n",
       "    }\n",
       "</style>\n",
       "<table border=\"1\" class=\"dataframe\">\n",
       "  <thead>\n",
       "    <tr style=\"text-align: right;\">\n",
       "      <th></th>\n",
       "      <th>drug</th>\n",
       "      <th>conc</th>\n",
       "      <th>units</th>\n",
       "      <th>channel</th>\n",
       "      <th>block</th>\n",
       "      <th>pacing</th>\n",
       "    </tr>\n",
       "  </thead>\n",
       "  <tbody>\n",
       "    <tr>\n",
       "      <th>0</th>\n",
       "      <td>amiodarone</td>\n",
       "      <td>0.8</td>\n",
       "      <td>nM</td>\n",
       "      <td>ICaL</td>\n",
       "      <td>0.0</td>\n",
       "      <td>0.1</td>\n",
       "    </tr>\n",
       "    <tr>\n",
       "      <th>1</th>\n",
       "      <td>amiodarone</td>\n",
       "      <td>0.8</td>\n",
       "      <td>nM</td>\n",
       "      <td>ICaL</td>\n",
       "      <td>1.9</td>\n",
       "      <td>0.1</td>\n",
       "    </tr>\n",
       "    <tr>\n",
       "      <th>2</th>\n",
       "      <td>amiodarone</td>\n",
       "      <td>0.8</td>\n",
       "      <td>nM</td>\n",
       "      <td>ICaL</td>\n",
       "      <td>0.3</td>\n",
       "      <td>0.1</td>\n",
       "    </tr>\n",
       "    <tr>\n",
       "      <th>3</th>\n",
       "      <td>amiodarone</td>\n",
       "      <td>80.0</td>\n",
       "      <td>nM</td>\n",
       "      <td>ICaL</td>\n",
       "      <td>17.4</td>\n",
       "      <td>0.1</td>\n",
       "    </tr>\n",
       "    <tr>\n",
       "      <th>4</th>\n",
       "      <td>amiodarone</td>\n",
       "      <td>80.0</td>\n",
       "      <td>nM</td>\n",
       "      <td>ICaL</td>\n",
       "      <td>12.9</td>\n",
       "      <td>0.1</td>\n",
       "    </tr>\n",
       "  </tbody>\n",
       "</table>\n",
       "</div>"
      ],
      "text/plain": [
       "         drug  conc units channel  block  pacing\n",
       "0  amiodarone   0.8    nM    ICaL    0.0     0.1\n",
       "1  amiodarone   0.8    nM    ICaL    1.9     0.1\n",
       "2  amiodarone   0.8    nM    ICaL    0.3     0.1\n",
       "3  amiodarone  80.0    nM    ICaL   17.4     0.1\n",
       "4  amiodarone  80.0    nM    ICaL   12.9     0.1"
      ]
     },
     "execution_count": 2,
     "metadata": {},
     "output_type": "execute_result"
    }
   ],
   "source": [
    "drug_block_df = pd.read_csv( \"./Hill_fitting/data/drug_block.csv\")\n",
    "drug_block_df.head()"
   ]
  },
  {
   "cell_type": "code",
   "execution_count": 3,
   "id": "426970b8-9f0c-4b09-8be5-a3de5a29ceb1",
   "metadata": {},
   "outputs": [
    {
     "data": {
      "text/plain": [
       "['bepridil',\n",
       " 'chlorpromazine',\n",
       " 'cisapride',\n",
       " 'diltiazem',\n",
       " 'dofetilide',\n",
       " 'mexiletine',\n",
       " 'ondansetron',\n",
       " 'quinidine',\n",
       " 'ranolazine',\n",
       " 'sotalol',\n",
       " 'terfenadine',\n",
       " 'verapamil']"
      ]
     },
     "execution_count": 3,
     "metadata": {},
     "output_type": "execute_result"
    }
   ],
   "source": [
    "hill_result_dir = \"./Hill_fitting/results\"\n",
    "drug_li = os.listdir(hill_result_dir)\n",
    "drug_li               "
   ]
  },
  {
   "cell_type": "code",
   "execution_count": 4,
   "id": "68ab6ebe-5862-4d49-90bc-028058f4c873",
   "metadata": {},
   "outputs": [],
   "source": [
    "def get_Gfc(conc, IC50, h):\n",
    "    return 1.0+(conc/10**np.log10(IC50))**h"
   ]
  },
  {
   "cell_type": "code",
   "execution_count": 5,
   "id": "3f812b13-bc9e-4006-a5b0-b13435bce3a5",
   "metadata": {},
   "outputs": [
    {
     "name": "stdout",
     "output_type": "stream",
     "text": [
      "Gfc of INa - min: 1.0000610032568693  |  max: 6.335927561138344\n",
      "Gfc of INaL - min: 0.37665083057147214  |  max: 1.4094220816010146\n",
      "Gfc of Ito - min: 1.0000000019929693  |  max: 2.7518842312791723\n",
      "Gfc of ICaL - min: 0.9945895580245948  |  max: 29.777326113370542\n",
      "Gfc of IKs - min: 0.5351896228942729  |  max: 1.1454125735490408\n",
      "Gfc of IK1 - min: 1.0015305275392006  |  max: 2.0894732182411744\n",
      "Gfc of hERG - min: 0.9874326750448833  |  max: 0.9874326750448833\n"
     ]
    }
   ],
   "source": [
    "ions = [\"INa\", \"INaL\", \"Ito\", \"ICaL\", \"IKs\", \"IK1\", 'hERG',]\n",
    "optimized = True\n",
    "\n",
    "for ion in ions :\n",
    "    \n",
    "    gfc_li = []    \n",
    "    \n",
    "    for drug in drug_li : \n",
    "        \n",
    "        drug_ion_df = drug_block_df[(drug_block_df['drug']==drug) & (drug_block_df['channel']==ion)]        \n",
    "                 \n",
    "        IC50_df = pd.read_csv(f\"{hill_result_dir}/{drug}/IC50_optimal.csv\")    \n",
    "        IC50 = IC50_df[f\"{ion}_IC50\"].item()\n",
    "        h =  IC50_df[f\"{ion}_h\"].item()    \n",
    "        if math.isnan(IC50) or math.isnan(h):        \n",
    "            continue        \n",
    "        gfcs = get_Gfc(drug_ion_df['conc'], IC50, h)                                        \n",
    "                \n",
    "        if optimized :\n",
    "            if ion==\"INaL\":            \n",
    "                gfcs = gfcs/2.661\n",
    "            elif ion==\"ICaL\":\n",
    "                gfcs = gfcs/1.007\n",
    "            elif ion==\"hERG\":\n",
    "                gfcs = np.full(gfcs.shape, 1.1)                \n",
    "                gfcs = gfcs/1.114\n",
    "            elif ion==\"IKs\":\n",
    "                gfcs = gfcs/1.870\n",
    "            elif ion==\"Ik1\":\n",
    "                gfcs = gfcs/1.698\n",
    "                       \n",
    "        \n",
    "        gfc_li.append(gfcs.min())\n",
    "        gfc_li.append(gfcs.max())\n",
    "        \n",
    "    gfc_li = np.array(gfc_li)    \n",
    "    print(f\"Gfc of {ion} - min: {gfc_li.min()}  |  max: {gfc_li.max()}\")"
   ]
  },
  {
   "cell_type": "code",
   "execution_count": null,
   "id": "e1cf61dd-115c-4fd2-933c-8a8dd74d20b1",
   "metadata": {},
   "outputs": [],
   "source": []
  }
 ],
 "metadata": {
  "kernelspec": {
   "display_name": "Python 3 (ipykernel)",
   "language": "python",
   "name": "python3"
  },
  "language_info": {
   "codemirror_mode": {
    "name": "ipython",
    "version": 3
   },
   "file_extension": ".py",
   "mimetype": "text/x-python",
   "name": "python",
   "nbconvert_exporter": "python",
   "pygments_lexer": "ipython3",
   "version": "3.7.11"
  }
 },
 "nbformat": 4,
 "nbformat_minor": 5
}
