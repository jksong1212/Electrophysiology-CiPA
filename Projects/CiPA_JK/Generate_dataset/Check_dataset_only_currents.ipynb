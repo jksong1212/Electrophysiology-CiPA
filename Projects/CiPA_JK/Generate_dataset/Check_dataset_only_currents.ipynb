{
 "cells": [
  {
   "cell_type": "code",
   "execution_count": 1,
   "id": "c797b0f5-b635-44ed-8047-735d4a931ef5",
   "metadata": {},
   "outputs": [],
   "source": [
    "import os, sys, time, copy\n",
    "import random\n",
    "import numpy as np\n",
    "import pandas as pd\n",
    "import matplotlib.pyplot as plt\n",
    "\n",
    "import multiprocessing\n",
    "from functools import partial\n",
    "from tqdm import tqdm\n",
    "\n",
    "import collections\n",
    "from typing import List\n",
    "\n",
    "import myokit\n",
    "sys.path.append('../../../')\n",
    "sys.path.append('../../../Protocols')\n",
    "sys.path.append('../../../Models')\n",
    "sys.path.append('../../../Lib')\n",
    "import protocol_lib\n",
    "import mod_trace\n",
    "\n",
    "import simulator_myokit\n",
    "import simulator_scipy\n",
    "import vc_protocols"
   ]
  },
  {
   "cell_type": "code",
   "execution_count": 2,
   "id": "8c32eec2-f258-4225-a166-bdfd2154afd2",
   "metadata": {},
   "outputs": [
    {
     "name": "stdout",
     "output_type": "stream",
     "text": [
      "The protocol is 1320 ms\n"
     ]
    }
   ],
   "source": [
    "# VC_protocol = vc_protocols.hERG_CiPA()\n",
    "# VC_protocol = vc_protocols.cav12_CiPA()\n",
    "# VC_protocol = vc_protocols.lateNav15_CiPA()\n",
    "VC_protocol = vc_protocols.leemV1_CiPA()\n",
    "\n",
    "vhold = VC_protocol.steps[0].voltage\n",
    "\n",
    "cell_types = {\n",
    "    'Endocardial' : 0,\n",
    "    'Epicardial' : 1,\n",
    "    'Mid-myocardial' : 2,\n",
    "}\n",
    "\n",
    "print(f'The protocol is {VC_protocol.get_voltage_change_endpoints()[-1]} ms')"
   ]
  },
  {
   "cell_type": "code",
   "execution_count": 3,
   "id": "525135ec-7b8f-44fc-8203-b234420bb454",
   "metadata": {},
   "outputs": [
    {
     "name": "stdout",
     "output_type": "stream",
     "text": [
      "--- 3.6802685260772705 seconds ---\n"
     ]
    }
   ],
   "source": [
    "start_time = time.time()\n",
    "\n",
    "model, p, s = myokit.load(\"../../../mmt-model-files/newordherg_qNet_fixedconc-v1.mmt\")    \n",
    "sim = simulator_myokit.Simulator(model, VC_protocol, max_step=1.0, abs_tol=1e-06, rel_tol=1e-6, vhold=-80)  # 1e-12, 1e-14  # 1e-08, 1e-10\n",
    "\n",
    "# Control setting\n",
    "params = {         \n",
    "    'cell.mode': cell_types[\"Endocardial\"],\n",
    "    'setting.simType': 1,   # 0: AP   |  1: VC  \n",
    "       \n",
    "    'ikr.Temp' : 37,\n",
    "    'ikr.Kt' : 3.5e-05,\n",
    "    'ikr.Kmax' : 0,\n",
    "    'ikr.Ku' : 0,\n",
    "    'ikr.n' : 1,\n",
    "    'ikr.halfmax' : 1,    \n",
    "    'ikr.Vhalf' : 1, \n",
    "}\n",
    "sim.set_simulation_params(params)\n",
    "\n",
    "print(\"--- %s seconds ---\"%(time.time()-start_time))"
   ]
  },
  {
   "cell_type": "code",
   "execution_count": 4,
   "id": "b75e557b-cf61-48aa-a3f8-6a8ce4cd107b",
   "metadata": {},
   "outputs": [
    {
     "name": "stdout",
     "output_type": "stream",
     "text": [
      "newordherg_qNet_fixedconc_v1_LeemV1_Endocardial_dt01_1G_Gr\n"
     ]
    }
   ],
   "source": [
    "gen_params = {\n",
    "    'end_time': VC_protocol.get_voltage_change_endpoints()[-1],     \n",
    "    't_eval' : np.arange(0, VC_protocol.get_voltage_change_endpoints()[-1], 0.1), # dt=0.2 ms\n",
    "    'log_li' : ['ina.INa', 'inal.INaL', 'ito.Ito', 'ical.ICaL', 'ical.ICaNa', 'ical.ICaK', 'ikr.IKr', 'iks.IKs', 'ik1.IK1', 'inaca.INaCa', 'inacass.INaCa_ss', 'inak.INaK', 'ikb.IKb', 'inab.INab', 'icab.ICab', 'ipca.IpCa'],\n",
    "    'save_log_li' : ['ina.INa', 'ikr.IKr', 'iks.IKs', 'ito.Ito', 'ical.ICaL',  'ik1.IK1', 'inal.INaL'],\n",
    "    'nData' : 5,                         \n",
    "    'dataset_dir' : \"newordherg_qNet_fixedconc_v1_LeemV1_Endocardial_dt01_1G_Gr\",    \n",
    "} \n",
    "\n",
    "# gen_params['dataset_dir'] = gen_params['dataset_dir'] + f\"_w{gen_params['window']}_s{gen_params['step_size']}\"\n",
    "print( gen_params['dataset_dir'] )\n",
    "\n",
    "\n",
    "ds_params = {\n",
    "    'window' : 20,\n",
    "    'step_size' : 10,   \n",
    "    'window_type' : 'avg',\n",
    "    'noise_sigma' : 0\n",
    "}  \n",
    "\n",
    "sys.path.append(gen_params['dataset_dir'])\n",
    "from agetdata import get_dataset, get_dataset2, get_currents_with_constant_dt"
   ]
  },
  {
   "cell_type": "code",
   "execution_count": 5,
   "id": "cfc0b610-2b71-414d-9c0a-a1b794ac34ee",
   "metadata": {},
   "outputs": [
    {
     "name": "stderr",
     "output_type": "stream",
     "text": [
      "100%|██████████████████████████████████████████| 4/4 [00:00<00:00, 18620.66it/s]\n"
     ]
    },
    {
     "name": "stdout",
     "output_type": "stream",
     "text": [
      "--- 6.2832725048065186 seconds ---\n",
      "(20000, 13200) (20000, 7)\n"
     ]
    }
   ],
   "source": [
    "xs, ys = get_dataset2( file_numbers=range(1, 5), window=0, step_size=0, window_type=ds_params['window_type'],  multi=True, torch_tensor=False)\n",
    "print(xs.shape, ys.shape)"
   ]
  },
  {
   "cell_type": "code",
   "execution_count": 8,
   "id": "27c75c1d-67a9-4756-880f-824d80f2df18",
   "metadata": {},
   "outputs": [
    {
     "name": "stdout",
     "output_type": "stream",
     "text": [
      "1e-07 1.0\n",
      "1e-07 1.0\n",
      "1e-07 1.0\n",
      "1e-07 1.0\n",
      "1e-07 1.0\n",
      "1e-07 1.0\n",
      "1e-07 1.0\n"
     ]
    }
   ],
   "source": [
    "for i in range(7):\n",
    "    print(ys[10:, i].min(), ys[10:, i].max())"
   ]
  },
  {
   "cell_type": "markdown",
   "id": "0cce32d2-bdf9-4fce-8801-b14a28e995f0",
   "metadata": {},
   "source": [
    "### Check time-step"
   ]
  },
  {
   "cell_type": "code",
   "execution_count": 11,
   "id": "ac567c58-f0bf-4934-85e2-1d0bef82f26e",
   "metadata": {},
   "outputs": [
    {
     "data": {
      "text/plain": [
       "1319.9"
      ]
     },
     "execution_count": 11,
     "metadata": {},
     "output_type": "execute_result"
    }
   ],
   "source": [
    "dt=0.1\n",
    "t_end = dt*xs.shape[-1]\n",
    "times = np.arange(0, t_end, dt)\n",
    "times[-1]"
   ]
  },
  {
   "cell_type": "markdown",
   "id": "fe29f9a7-adec-4d5c-bb08-2f328ea7c7b7",
   "metadata": {},
   "source": [
    "### Check current"
   ]
  },
  {
   "cell_type": "code",
   "execution_count": 14,
   "id": "886acd93-a210-4b05-86e5-02745c2384ed",
   "metadata": {},
   "outputs": [
    {
     "data": {
      "image/png": "[encoded data removed]",
      "text/plain": [
       "<Figure size 720x720 with 2 Axes>"
      ]
     },
     "metadata": {
      "needs_background": "light"
     },
     "output_type": "display_data"
    }
   ],
   "source": [
    "dataNo = 0\n",
    "    \n",
    "sol1 = {}\n",
    "# sol1[\"Time\"] = xs[dataNo][0]# xs[dataNo, 0, :]  xs[dataNo][0]\n",
    "# sol1[\"I_ion\"] = xs[dataNo][1] + np.random.normal(0, 1, xs[dataNo][1].shape) \n",
    "sol1[\"Time\"] = times\n",
    "sol1[\"I_ion\"] = xs[dataNo, :] + np.random.normal(0, 1, xs[dataNo, :].shape)  \n",
    "sol1[\"window\"] = get_currents_with_constant_dt(params=ds_params, x=[sol1[\"Time\"], sol1[\"I_ion\"]])\n",
    "y = ys[dataNo]\n",
    "\n",
    "# sol1 = pd.DataFrame(data=sol1)\n",
    "# sol1.head()\n",
    "gfc_li = {         \n",
    "    'ina.GNafc' : 1/y[0],  \n",
    "    'inal.GNaLfc' : 1/y[1],\n",
    "    'ito.Gtofc' : 1/y[2],\n",
    "    'ical.PCafc' : 1/y[3],\n",
    "    'ikr.GKrfc' : 1/y[4],\n",
    "    'iks.GKsfc' : 1/y[5],\n",
    "    'ik1.GK1fc' : 1/y[6],    \n",
    "}\n",
    "sim.set_simulation_params(gfc_li) \n",
    "\n",
    "\n",
    "\n",
    "sim.pre_simulate(5000, sim_type=1)\n",
    "d = sim.simulate( gen_params['end_time'], log_times=gen_params['t_eval'], extra_log=['membrane.VC', 'membrane.i_ion']+gen_params['log_li'])                           \n",
    "\n",
    "sol2 = {}\n",
    "sol2[\"Time\"] = d['engine.time']\n",
    "# sol2[\"Voltage\"] = d['membrane.VC']\n",
    "sol2[\"I_ion\"] = d['membrane.i_ion'] + np.random.normal(0, 1, d['membrane.i_ion'].shape) # add noise\n",
    "sol2[\"window\"] = get_currents_with_constant_dt(params=ds_params, x=[sol2[\"Time\"], sol2[\"I_ion\"]])\n",
    "# sol2[\"I_Na\"] = sim.current_response_info.get_current(['INa'])\n",
    "# sol2[\"I_NaL\"] = sim.current_response_info.get_current(['INaL'])\n",
    "# sol2[\"I_To\"] = sim.current_response_info.get_current(['Ito'])\n",
    "# sol2[\"I_CaL\"] = sim.current_response_info.get_current(['ICaL'])\n",
    "# sol2[\"I_Kr\"] = sim.current_response_info.get_current(['IKr'])\n",
    "# sol2[\"I_Ks\"] = sim.current_response_info.get_current(['IKs'])\n",
    "# sol2[\"I_K1\"] = sim.current_response_info.get_current(['IK1'])\n",
    "# sol2 = pd.DataFrame(data=sol2)\n",
    "# sol2.head()\n",
    "# np.random.normal(0, noise_sigma, current.shape) # add noise\n",
    "\n",
    "'''\n",
    "Plot\n",
    "'''\n",
    "fig, ax = plt.subplots(2,1, figsize=(10,10))    \n",
    "\n",
    "ax[0].set_xlabel('Time (ms)')       \n",
    "# ax[0].set_ylabel(f'{name}')      \n",
    "ax[0].plot( sol1['Time'], sol1['I_ion'], label='data', color='k', linewidth=5)     \n",
    "ax[0].plot( sol2['Time'], sol2['I_ion'], label='check', color='r', linewidth=2)    \n",
    "ax[0].legend()\n",
    "ax[0].grid()\n",
    "\n",
    "ax[1].set_xlabel('Time (ms)')       \n",
    "# ax[1].set_ylabel(f'{name}')      \n",
    "ax[1].plot( sol1['window'], label='data', color='k', linewidth=5)     \n",
    "ax[1].plot( sol2['window'], label='check', color='r', linewidth=2)    \n",
    "ax[1].legend()\n",
    "ax[1].grid()\n",
    "\n",
    "\n",
    "# ax[-1].set_ylim(-5, 5)\n",
    "\n",
    "plt.subplots_adjust(left=0.07, bottom=0.05, right=0.95, top=0.95, wspace=0.5, hspace=0.15)    \n",
    "# fig.savefig(os.path.join('Test_results', f\"{dataNo}.jpg\"), dpi=100)\n",
    "plt.show()    "
   ]
  },
  {
   "cell_type": "code",
   "execution_count": null,
   "id": "3d26f207-2c0d-4654-a7cd-72760c488ce9",
   "metadata": {},
   "outputs": [],
   "source": [
    "for dataNo in range(1):\n",
    "    \n",
    "    sol1 = {}\n",
    "    sol1[\"Time\"] = xs[dataNo][0]\n",
    "    sol1[\"I_ion\"] = xs[dataNo][1]\n",
    "    sol1[\"window\"] = get_currents_with_constant_dt(params=ds_params, x=[sol1[\"Time\"], sol1[\"I_ion\"]])\n",
    "    y = ys[dataNo]\n",
    "\n",
    "    # sol1 = pd.DataFrame(data=sol1)\n",
    "    # sol1.head()\n",
    "    \n",
    "    gfc_li = {         \n",
    "        'ina.GNafc' : y[0],  \n",
    "        'inal.GNaLfc' : y[1],\n",
    "        'ito.Gtofc' : y[2],\n",
    "        'ical.PCafc' : y[3],\n",
    "        'ikr.GKrfc' : y[4],\n",
    "        'iks.GKsfc' : y[5],\n",
    "        'ik1.GK1fc' : y[6],    \n",
    "    }\n",
    "    sim.set_simulation_params(gfc_li) \n",
    "\n",
    "\n",
    "    sim.pre_simulate(5000, sim_type=1)\n",
    "    d = sim.simulate( gen_params['end_time'], extra_log=['membrane.VC', 'membrane.i_ion']+gen_params['log_li'])                           \n",
    "\n",
    "    sol2 = {}\n",
    "    sol2[\"Time\"] = d['engine.time']\n",
    "    # sol2[\"Voltage\"] = d['membrane.VC']\n",
    "    sol2[\"I_ion\"] = d['membrane.i_ion'] #+ np.random.normal(0, 2, d['membrane.i_ion'].shape) # add noise\n",
    "    sol2[\"window\"] = get_currents_with_constant_dt(params=ds_params, x=[sol2[\"Time\"], sol2[\"I_ion\"]])\n",
    "    # sol2[\"I_Na\"] = sim.current_response_info.get_current(['INa'])\n",
    "    # sol2[\"I_NaL\"] = sim.current_response_info.get_current(['INaL'])\n",
    "    # sol2[\"I_To\"] = sim.current_response_info.get_current(['Ito'])\n",
    "    # sol2[\"I_CaL\"] = sim.current_response_info.get_current(['ICaL'])\n",
    "    # sol2[\"I_Kr\"] = sim.current_response_info.get_current(['IKr'])\n",
    "    # sol2[\"I_Ks\"] = sim.current_response_info.get_current(['IKs'])\n",
    "    # sol2[\"I_K1\"] = sim.current_response_info.get_current(['IK1'])\n",
    "    # sol2 = pd.DataFrame(data=sol2)\n",
    "    # sol2.head()\n",
    "    # np.random.normal(0, noise_sigma, current.shape) # add noise\n",
    "    \n",
    "    '''\n",
    "    Plot\n",
    "    '''\n",
    "    fig, ax = plt.subplots(2,1, figsize=(20,10))    \n",
    "    \n",
    "    ax[0].set_xlabel('Time (ms)')       \n",
    "    # ax[0].set_ylabel(f'{name}')      \n",
    "    ax[0].plot( sol1['Time'], sol1['I_ion'], label='data', color='k', linewidth=3)     \n",
    "    # ax[0].plot( sol2['Time'], sol2['I_ion'], label='check', color='r', linewidth=2)    \n",
    "    ax[0].legend()\n",
    "    ax[0].grid()\n",
    "    \n",
    "    ax[1].set_xlabel('Time (ms)')       \n",
    "    # ax[1].set_ylabel(f'{name}')      \n",
    "    ax[1].plot( sol1['window'], label='data', color='k', linewidth=3)     \n",
    "    # ax[1].plot( sol2['window'], label='check', color='r', linewidth=2)    \n",
    "    ax[1].legend()\n",
    "    ax[1].grid()\n",
    "    \n",
    "\n",
    "    # ax[-1].set_ylim(-5, 5)\n",
    "\n",
    "    plt.subplots_adjust(left=0.07, bottom=0.05, right=0.95, top=0.95, wspace=0.5, hspace=0.15)    \n",
    "#     fig.savefig(os.path.join('Test_results', f\"{dataNo}.jpg\"), dpi=100)\n",
    "    \n",
    "# plt.show()    \n",
    "print(\"finish\")"
   ]
  },
  {
   "cell_type": "code",
   "execution_count": null,
   "id": "8e9256d7-26c6-45a0-af10-334dd16f8f0a",
   "metadata": {},
   "outputs": [],
   "source": []
  },
  {
   "cell_type": "code",
   "execution_count": null,
   "id": "9bf122ed-9527-4ec3-9830-1348cef7dbcc",
   "metadata": {},
   "outputs": [],
   "source": []
  },
  {
   "cell_type": "code",
   "execution_count": null,
   "id": "170399e3-2a31-4a0e-84ef-4643e25a73a7",
   "metadata": {},
   "outputs": [],
   "source": []
  },
  {
   "cell_type": "code",
   "execution_count": null,
   "id": "f3e6f447-69db-4896-88c2-c6d6504584d1",
   "metadata": {},
   "outputs": [],
   "source": []
  }
 ],
 "metadata": {
  "kernelspec": {
   "display_name": "Python 3 (ipykernel)",
   "language": "python",
   "name": "python3"
  },
  "language_info": {
   "codemirror_mode": {
    "name": "ipython",
    "version": 3
   },
   "file_extension": ".py",
   "mimetype": "text/x-python",
   "name": "python",
   "nbconvert_exporter": "python",
   "pygments_lexer": "ipython3",
   "version": "3.7.11"
  }
 },
 "nbformat": 4,
 "nbformat_minor": 5
}
