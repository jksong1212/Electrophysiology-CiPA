{
 "cells": [
  {
   "cell_type": "code",
   "execution_count": 1,
   "id": "c797b0f5-b635-44ed-8047-735d4a931ef5",
   "metadata": {},
   "outputs": [],
   "source": [
    "import os, sys, time, copy\n",
    "import random\n",
    "import numpy as np\n",
    "import matplotlib.pyplot as plt\n",
    "\n",
    "import multiprocessing\n",
    "from functools import partial\n",
    "from tqdm import tqdm\n",
    "\n",
    "\n",
    "import myokit\n",
    "sys.path.append('../../../')\n",
    "sys.path.append('../../../Protocols')\n",
    "sys.path.append('../../../Models')\n",
    "sys.path.append('../../../Lib')\n",
    "import protocol_lib\n",
    "import mod_trace\n",
    "\n",
    "import simulator_myokit\n",
    "import simulator_scipy\n",
    "import vc_protocols"
   ]
  },
  {
   "cell_type": "code",
   "execution_count": 2,
   "id": "361e11a7-efa9-4b45-8831-79bbbea76792",
   "metadata": {},
   "outputs": [],
   "source": [
    "def find_closest_index(array, t):\n",
    "    \"\"\"Given an array, return the index with the value closest to t.\"\"\"\n",
    "    return (np.abs(np.array(array) - t)).argmin()\n",
    "\n",
    "def get_currents_with_constant_dt(xs, window=1, step_size=1):\n",
    "        \n",
    "    times = xs[0]\n",
    "    i_ion = xs[1]\n",
    "              \n",
    "    i_ion_window = []\n",
    "    t = 0\n",
    "    while t <= times[-1] - window:\n",
    "        start_index = find_closest_index(times, t)\n",
    "        end_index = find_closest_index(times, t + window)            \n",
    "        I_window = i_ion[start_index: end_index + 1]                                    \n",
    "        i_ion_window.append(sum(I_window)/len(I_window))            \n",
    "        t += step_size\n",
    "            \n",
    "    return i_ion_window"
   ]
  },
  {
   "cell_type": "code",
   "execution_count": 3,
   "id": "8fe95784-0e55-46da-9bcf-ee1067dde3b8",
   "metadata": {},
   "outputs": [],
   "source": [
    "cell_types = {\n",
    "    'Endocardial' : 0,\n",
    "    'Epicardial' : 1,\n",
    "    'Mid-myocardial' : 2,\n",
    "}\n",
    "\n",
    "cell_type = 'Endocardial'"
   ]
  },
  {
   "cell_type": "markdown",
   "id": "d1528dae-c154-4cd7-a444-ce27305be8bc",
   "metadata": {},
   "source": [
    "### Create Voltage Protocol"
   ]
  },
  {
   "cell_type": "code",
   "execution_count": 4,
   "id": "7daddfb8-55ad-4ca1-9091-a12435f615c2",
   "metadata": {},
   "outputs": [
    {
     "name": "stdout",
     "output_type": "stream",
     "text": [
      "The protocol is 1320 ms\n"
     ]
    }
   ],
   "source": [
    "# VC_protocol = vc_protocols.hERG_CiPA()\n",
    "# VC_protocol = vc_protocols.cav12_CiPA()\n",
    "# VC_protocol = vc_protocols.lateNav15_CiPA()\n",
    "VC_protocol = vc_protocols.leemV1_CiPA()\n",
    "\n",
    "vhold = -80 # VC_protocol.steps[0].voltage\n",
    "\n",
    "print(f'The protocol is {VC_protocol.get_voltage_change_endpoints()[-1]} ms')"
   ]
  },
  {
   "cell_type": "code",
   "execution_count": 5,
   "id": "708d8fc5-1c07-4933-a342-7be81094db9a",
   "metadata": {},
   "outputs": [
    {
     "name": "stdout",
     "output_type": "stream",
     "text": [
      "--- 3.7358126640319824 seconds ---\n"
     ]
    }
   ],
   "source": [
    "start_time = time.time()\n",
    "\n",
    "model, p, s = myokit.load(\"../../../mmt-model-files/newordherg_qNet_fixedconc-v1.mmt\")    \n",
    "sim = simulator_myokit.Simulator(model, VC_protocol, max_step=1.0, abs_tol=1e-06, rel_tol=1e-6, vhold=vhold)  # 1e-12, 1e-14  # 1e-08, 1e-10\n",
    "                \n",
    "# Control setting\n",
    "sim.model.get('ikr.D').set_rhs( 0 )\n",
    "\n",
    "params = {         \n",
    "    'cell.mode': cell_types[cell_type],\n",
    "    'setting.simType': 1,   # 0: AP   |  1: VC  \n",
    "       \n",
    "    'ikr.Temp' : 37,\n",
    "    'ikr.Kt' : 3.5e-05,\n",
    "    'ikr.Kmax' : 0,\n",
    "    'ikr.Ku' : 0,\n",
    "    'ikr.n' : 1,\n",
    "    'ikr.halfmax' : 1,    \n",
    "    'ikr.Vhalf' : 1,  \n",
    "}\n",
    "sim.set_simulation_params(params)\n",
    "\n",
    "print(\"--- %s seconds ---\"%(time.time()-start_time))"
   ]
  },
  {
   "cell_type": "code",
   "execution_count": 6,
   "id": "772e5d95-66ff-4e4c-bffa-72eee0aeaaba",
   "metadata": {},
   "outputs": [
    {
     "name": "stdout",
     "output_type": "stream",
     "text": [
      "cell.mode : 0\n",
      "setting.simType : 1\n",
      "ikr.Temp : 37\n",
      "ikr.Kt : 3.5e-05\n",
      "ikr.Kmax : 0\n",
      "ikr.Ku : 0\n",
      "ikr.n : 1\n",
      "ikr.halfmax : 1\n",
      "ikr.Vhalf : 1\n"
     ]
    }
   ],
   "source": [
    "for key, value in params.items():\n",
    "    print(f'{key} : {value}')"
   ]
  },
  {
   "cell_type": "code",
   "execution_count": 7,
   "id": "b85c7cef-8820-4c3a-8e04-4da7067490c8",
   "metadata": {},
   "outputs": [],
   "source": [
    "def gen_dataset( gen_params, datasetNo=1):    \n",
    "    '''\n",
    "    type = 'AP' or 'I\" \n",
    "    params = {\n",
    "        'times': 1,                    \n",
    "        'log_li' : [],\n",
    "        'nData' : 10000,                         \n",
    "        'dataset_dir' :   './dataset',\n",
    "        'data_file_name' :  'current',\n",
    "        'scale' : 2,\n",
    "    }  \n",
    "    '''\n",
    "    random.seed(datasetNo * 84)\n",
    "    np.random.seed(datasetNo * 86)\n",
    "\n",
    "    print(\"-----Dataset%d generation starts.-----\"%(datasetNo))\n",
    "\n",
    "    d = None              \n",
    "    result_li = []\n",
    "    param_li = []\n",
    "    current_nData = 0\n",
    "    \n",
    "    simulation_error_count = 0\n",
    "    with tqdm(total = gen_params['nData']) as pbar:         \n",
    "        while (current_nData < gen_params['nData']):                \n",
    "            \n",
    "            conductance_rate = np.random.uniform(0, 1, 7)     \n",
    "            \n",
    "            if current_nData==0:\n",
    "                conductance_rate = np.ones(7)\n",
    "                \n",
    "            for i in range(7):\n",
    "                if conductance_rate[i] < 0.0000001:\n",
    "                    conductance_rate[i] = 0.0000001\n",
    "            \n",
    "            gfc = 1.0/conductance_rate\n",
    "            \n",
    "            gfc_li = {         \n",
    "                'ina.GNafc' : gfc[0],  \n",
    "                'inal.GNaLfc' : gfc[1],\n",
    "                'ito.Gtofc' : gfc[2],\n",
    "                'ical.PCafc' : gfc[3],\n",
    "                'ikr.GKrfc' : gfc[4],\n",
    "                'iks.GKsfc' : gfc[5],\n",
    "                'ik1.GK1fc' : gfc[6], \n",
    "            }\n",
    "            sim.set_simulation_params(gfc_li)             \n",
    "            \n",
    "            # log_li = ['membrane.V']\n",
    "            # if len(log_li)>0:\n",
    "            #     log_li = gen_params['log_li']\n",
    "            try :                \n",
    "                sim.pre_simulate(5000, sim_type=1)\n",
    "                d = sim.simulate( gen_params['end_time'], extra_log=gen_params['log_li'])                           \n",
    "\n",
    "                # temp = [d['engine.time']]\n",
    "                # for log in gen_params['save_log_li'] :                                              \n",
    "                #     temp.append(d[log])                 \n",
    "                # temp = get_currents_with_constant_dt(temp, window=gen_params['window'], step_size=gen_params['step_size'])\n",
    "\n",
    "                temp = [d['engine.time'], d['membrane.i_ion']]                                \n",
    "\n",
    "                if (gen_params['window']>0) and (gen_params['step_size']>0):\n",
    "                    temp = get_currents_with_constant_dt(temp, window=gen_params['window'], step_size=gen_params['step_size'])\n",
    "                    result_li.append( np.array(temp) )\n",
    "                else:\n",
    "                    result_li.append( temp )                                \n",
    "\n",
    "                param_li.append( conductance_rate )\n",
    "                current_nData+=1                    \n",
    "\n",
    "            except :\n",
    "                simulation_error_count += 1\n",
    "                print(\"There is a simulation error.\")\n",
    "                continue\n",
    "            \n",
    "            pbar.update(1) \n",
    "        \n",
    "    if gen_params['window'] != None and gen_params['step_size']:\n",
    "        result_li = np.array(result_li)        \n",
    "    else:\n",
    "        result_li = np.array(result_li, dtype=object)        \n",
    "    \n",
    "    param_li = np.array(param_li)    \n",
    "        \n",
    "    np.save(os.path.join(gen_params['dataset_dir'], f\"{gen_params['data_file_name']}{datasetNo}\" ) , result_li)\n",
    "    np.save(os.path.join(gen_params['dataset_dir'], f'parameter{datasetNo}' ), param_li )\n",
    "\n",
    "    result_li = []\n",
    "    param_li = []\n",
    "\n",
    "    print(\"=====Dataset%d generation End.  &  %d simulation errors occured.=====\"%(datasetNo, simulation_error_count))       "
   ]
  },
  {
   "cell_type": "code",
   "execution_count": 8,
   "id": "dfdcc3df-95d1-4d49-90df-869a6ad17c1d",
   "metadata": {},
   "outputs": [
    {
     "name": "stdout",
     "output_type": "stream",
     "text": [
      "The number of process : 70\n",
      "[1, 2, 3, 4, 5, 6, 7, 8, 9, 10, 11, 12, 13, 14, 15, 16, 17, 18, 19, 20, 21, 22, 23, 24, 25, 26, 27, 28, 29, 30, 31, 32, 33, 34, 35, 36, 37, 38, 39, 40, 41, 42, 43, 44, 45, 46, 47, 48, 49, 50, 51, 52, 53, 54, 55, 56, 57, 58, 59, 60, 61, 62, 63, 64, 65, 66, 67, 68, 69, 70]\n",
      "The folder already exists.\n"
     ]
    },
    {
     "data": {
      "image/png": "[encoded data removed]",
      "text/plain": [
       "<Figure size 720x216 with 1 Axes>"
      ]
     },
     "metadata": {
      "needs_background": "light"
     },
     "output_type": "display_data"
    },
    {
     "name": "stdout",
     "output_type": "stream",
     "text": [
      "-----Dataset1 generation starts.----------Dataset4 generation starts.----------Dataset5 generation starts.----------Dataset3 generation starts.----------Dataset2 generation starts.----------Dataset6 generation starts.----------Dataset7 generation starts.----------Dataset9 generation starts.----------Dataset10 generation starts.----------Dataset8 generation starts.----------Dataset11 generation starts.----------Dataset12 generation starts.----------Dataset13 generation starts.----------Dataset14 generation starts.----------Dataset15 generation starts.----------Dataset16 generation starts.----------Dataset21 generation starts.----------Dataset17 generation starts.----------Dataset18 generation starts.-----\n",
      "-----Dataset20 generation starts.----------Dataset23 generation starts.----------Dataset19 generation starts.-----\n",
      "\n",
      "\n",
      "-----Dataset22 generation starts.----------Dataset24 generation starts.-----\n",
      "-----Dataset25 generation starts.-----\n",
      "\n",
      "\n",
      "-----Dataset26 generation starts.----------Dataset27 generation starts.----------Dataset28 generation starts.-----\n",
      "\n",
      "\n",
      "\n",
      "-----Dataset34 generation starts.----------Dataset29 generation starts.----------Dataset30 generation starts.----------Dataset31 generation starts.----------Dataset37 generation starts.----------Dataset32 generation starts.----------Dataset38 generation starts.----------Dataset39 generation starts.-----\n",
      "-----Dataset36 generation starts.-----\n",
      "-----Dataset33 generation starts.-----\n",
      "\n",
      "-----Dataset42 generation starts.----------Dataset35 generation starts.-----\n",
      "\n",
      "-----Dataset41 generation starts.----------Dataset43 generation starts.----------Dataset40 generation starts.-----\n",
      "-----Dataset47 generation starts.----------Dataset44 generation starts.----------Dataset45 generation starts.----------Dataset48 generation starts.-----\n",
      "-----Dataset51 generation starts.-----\n",
      "-----Dataset52 generation starts.----------Dataset50 generation starts.----------Dataset49 generation starts.-----\n",
      "-----Dataset55 generation starts.----------Dataset53 generation starts.----------Dataset46 generation starts.----------Dataset54 generation starts.----------Dataset58 generation starts.----------Dataset61 generation starts.----------Dataset57 generation starts.----------Dataset59 generation starts.-----\n",
      "-----Dataset60 generation starts.----------Dataset56 generation starts.-----\n"
     ]
    },
    {
     "name": "stderr",
     "output_type": "stream",
     "text": [
      "  0%|                                                 | 0/10000 [00:00<?, ?it/s]"
     ]
    },
    {
     "name": "stdout",
     "output_type": "stream",
     "text": [
      "\n",
      "-----Dataset65 generation starts.----------Dataset67 generation starts.----------Dataset66 generation starts.----------Dataset69 generation starts.----------Dataset68 generation starts.-----"
     ]
    },
    {
     "name": "stderr",
     "output_type": "stream",
     "text": [
      "  0%|                                                 | 0/10000 [00:00<?, ?it/s]"
     ]
    },
    {
     "name": "stdout",
     "output_type": "stream",
     "text": [
      "-----Dataset70 generation starts.-----"
     ]
    },
    {
     "name": "stderr",
     "output_type": "stream",
     "text": [
      "  0%|                                                 | 0/10000 [00:00<?, ?it/s]"
     ]
    },
    {
     "name": "stdout",
     "output_type": "stream",
     "text": [
      "\n",
      "\n"
     ]
    },
    {
     "name": "stderr",
     "output_type": "stream",
     "text": [
      "  0%|                                                 | 0/10000 [00:00<?, ?it/s]"
     ]
    },
    {
     "name": "stdout",
     "output_type": "stream",
     "text": [
      "\n"
     ]
    },
    {
     "name": "stderr",
     "output_type": "stream",
     "text": [
      "  0%|                                                 | 0/10000 [00:00<?, ?it/s]"
     ]
    },
    {
     "name": "stdout",
     "output_type": "stream",
     "text": [
      "\n"
     ]
    },
    {
     "name": "stderr",
     "output_type": "stream",
     "text": [
      "  0%|                                                 | 0/10000 [00:00<?, ?it/s]"
     ]
    },
    {
     "name": "stdout",
     "output_type": "stream",
     "text": [
      "\n",
      "\n",
      "\n",
      "\n"
     ]
    },
    {
     "name": "stderr",
     "output_type": "stream",
     "text": [
      "  0%|                                                 | 0/10000 [00:00<?, ?it/s]"
     ]
    },
    {
     "name": "stdout",
     "output_type": "stream",
     "text": [
      "\n",
      "\n",
      "\n",
      "\n"
     ]
    },
    {
     "name": "stderr",
     "output_type": "stream",
     "text": [
      "  0%|                                                 | 0/10000 [00:00<?, ?it/s]"
     ]
    },
    {
     "name": "stdout",
     "output_type": "stream",
     "text": [
      "\n",
      "\n",
      "\n"
     ]
    },
    {
     "name": "stderr",
     "output_type": "stream",
     "text": [
      "  0%|                                                 | 0/10000 [00:00<?, ?it/s]"
     ]
    },
    {
     "name": "stdout",
     "output_type": "stream",
     "text": [
      "\n"
     ]
    },
    {
     "name": "stderr",
     "output_type": "stream",
     "text": [
      "  0%|                                                 | 0/10000 [00:00<?, ?it/s]"
     ]
    },
    {
     "name": "stdout",
     "output_type": "stream",
     "text": [
      "\n",
      "\n"
     ]
    },
    {
     "name": "stderr",
     "output_type": "stream",
     "text": [
      "  0%|                                                 | 0/10000 [00:00<?, ?it/s]"
     ]
    },
    {
     "name": "stdout",
     "output_type": "stream",
     "text": [
      "\n",
      "\n",
      "\n",
      "\n"
     ]
    },
    {
     "name": "stderr",
     "output_type": "stream",
     "text": [
      "  0%|                                                 | 0/10000 [00:00<?, ?it/s]"
     ]
    },
    {
     "name": "stdout",
     "output_type": "stream",
     "text": [
      "\n",
      "\n",
      "\n",
      "\n"
     ]
    },
    {
     "name": "stderr",
     "output_type": "stream",
     "text": [
      "  0%|                                                 | 0/10000 [00:00<?, ?it/s]"
     ]
    },
    {
     "name": "stdout",
     "output_type": "stream",
     "text": [
      "\n",
      "\n"
     ]
    },
    {
     "name": "stderr",
     "output_type": "stream",
     "text": [
      "  0%|                                                 | 0/10000 [00:00<?, ?it/s]"
     ]
    },
    {
     "name": "stdout",
     "output_type": "stream",
     "text": [
      "\n"
     ]
    },
    {
     "name": "stderr",
     "output_type": "stream",
     "text": [
      "  0%|                                                 | 0/10000 [00:00<?, ?it/s]"
     ]
    },
    {
     "name": "stdout",
     "output_type": "stream",
     "text": [
      "\n",
      "\n",
      "\n",
      "\n",
      "\n",
      "\n",
      "\n"
     ]
    },
    {
     "name": "stderr",
     "output_type": "stream",
     "text": [
      "  0%|                                                 | 0/10000 [00:00<?, ?it/s]"
     ]
    },
    {
     "name": "stdout",
     "output_type": "stream",
     "text": [
      "\n",
      "\n",
      "\n",
      "\n"
     ]
    },
    {
     "name": "stderr",
     "output_type": "stream",
     "text": [
      "  0%|                                                 | 0/10000 [00:00<?, ?it/s]"
     ]
    },
    {
     "name": "stdout",
     "output_type": "stream",
     "text": [
      "\n",
      "\n"
     ]
    },
    {
     "name": "stderr",
     "output_type": "stream",
     "text": [
      "  0%|                                                 | 0/10000 [00:00<?, ?it/s]"
     ]
    },
    {
     "name": "stdout",
     "output_type": "stream",
     "text": [
      "-----Dataset62 generation starts.----------Dataset63 generation starts.-----\n",
      "\n"
     ]
    },
    {
     "name": "stderr",
     "output_type": "stream",
     "text": [
      "  0%|                                                 | 0/10000 [00:00<?, ?it/s]"
     ]
    },
    {
     "name": "stdout",
     "output_type": "stream",
     "text": [
      "-----Dataset64 generation starts.-----\n"
     ]
    },
    {
     "name": "stderr",
     "output_type": "stream",
     "text": [
      " 28%|██████████▌                           | 2770/10000 [05:25<12:53,  9.35it/s]IOPub message rate exceeded.\n",
      "The Jupyter server will temporarily stop sending output\n",
      "to the client in order to avoid crashing it.\n",
      "To change this limit, set the config variable\n",
      "`--ServerApp.iopub_msg_rate_limit`.\n",
      "\n",
      "Current values:\n",
      "ServerApp.iopub_msg_rate_limit=1000.0 (msgs/sec)\n",
      "ServerApp.rate_limit_window=3.0 (secs)\n",
      "\n",
      " 30%|███████████▌                          | 3047/10000 [05:58<12:43,  9.10it/s]IOPub message rate exceeded.\n",
      "The Jupyter server will temporarily stop sending output\n",
      "to the client in order to avoid crashing it.\n",
      "To change this limit, set the config variable\n",
      "`--ServerApp.iopub_msg_rate_limit`.\n",
      "\n",
      "Current values:\n",
      "ServerApp.iopub_msg_rate_limit=1000.0 (msgs/sec)\n",
      "ServerApp.rate_limit_window=3.0 (secs)\n",
      "\n",
      " 32%|████████████▏                         | 3204/10000 [06:10<12:04,  9.38it/s]IOPub message rate exceeded.\n",
      "The Jupyter server will temporarily stop sending output\n",
      "to the client in order to avoid crashing it.\n",
      "To change this limit, set the config variable\n",
      "`--ServerApp.iopub_msg_rate_limit`.\n",
      "\n",
      "Current values:\n",
      "ServerApp.iopub_msg_rate_limit=1000.0 (msgs/sec)\n",
      "ServerApp.rate_limit_window=3.0 (secs)\n",
      "\n",
      " 33%|████████████▍                         | 3281/10000 [06:18<12:19,  9.09it/s]IOPub message rate exceeded.\n",
      "The Jupyter server will temporarily stop sending output\n",
      "to the client in order to avoid crashing it.\n",
      "To change this limit, set the config variable\n",
      "`--ServerApp.iopub_msg_rate_limit`.\n",
      "\n",
      "Current values:\n",
      "ServerApp.iopub_msg_rate_limit=1000.0 (msgs/sec)\n",
      "ServerApp.rate_limit_window=3.0 (secs)\n",
      "\n",
      " 33%|████████████▋                         | 3344/10000 [06:25<11:39,  9.52it/s]IOPub message rate exceeded.\n",
      "The Jupyter server will temporarily stop sending output\n",
      "to the client in order to avoid crashing it.\n",
      "To change this limit, set the config variable\n",
      "`--ServerApp.iopub_msg_rate_limit`.\n",
      "\n",
      "Current values:\n",
      "ServerApp.iopub_msg_rate_limit=1000.0 (msgs/sec)\n",
      "ServerApp.rate_limit_window=3.0 (secs)\n",
      "\n",
      " 34%|████████████▊                         | 3369/10000 [06:30<11:46,  9.38it/s]IOPub message rate exceeded.\n",
      "The Jupyter server will temporarily stop sending output\n",
      "to the client in order to avoid crashing it.\n",
      "To change this limit, set the config variable\n",
      "`--ServerApp.iopub_msg_rate_limit`.\n",
      "\n",
      "Current values:\n",
      "ServerApp.iopub_msg_rate_limit=1000.0 (msgs/sec)\n",
      "ServerApp.rate_limit_window=3.0 (secs)\n",
      "\n",
      " 34%|████████████▉                         | 3408/10000 [06:33<11:36,  9.46it/s]IOPub message rate exceeded.\n",
      "The Jupyter server will temporarily stop sending output\n",
      "to the client in order to avoid crashing it.\n",
      "To change this limit, set the config variable\n",
      "`--ServerApp.iopub_msg_rate_limit`.\n",
      "\n",
      "Current values:\n",
      "ServerApp.iopub_msg_rate_limit=1000.0 (msgs/sec)\n",
      "ServerApp.rate_limit_window=3.0 (secs)\n",
      "\n",
      " 34%|████████████▊                         | 3385/10000 [06:38<12:08,  9.08it/s]IOPub message rate exceeded.\n",
      "The Jupyter server will temporarily stop sending output\n",
      "to the client in order to avoid crashing it.\n",
      "To change this limit, set the config variable\n",
      "`--ServerApp.iopub_msg_rate_limit`.\n",
      "\n",
      "Current values:\n",
      "ServerApp.iopub_msg_rate_limit=1000.0 (msgs/sec)\n",
      "ServerApp.rate_limit_window=3.0 (secs)\n",
      "\n",
      " 49%|██████████████████▋                   | 4923/10000 [09:26<09:06,  9.29it/s]IOPub message rate exceeded.\n",
      "The Jupyter server will temporarily stop sending output\n",
      "to the client in order to avoid crashing it.\n",
      "To change this limit, set the config variable\n",
      "`--ServerApp.iopub_msg_rate_limit`.\n",
      "\n",
      "Current values:\n",
      "ServerApp.iopub_msg_rate_limit=1000.0 (msgs/sec)\n",
      "ServerApp.rate_limit_window=3.0 (secs)\n",
      "\n",
      " 49%|██████████████████▌                   | 4897/10000 [09:34<10:29,  8.11it/s]IOPub message rate exceeded.\n",
      "The Jupyter server will temporarily stop sending output\n",
      "to the client in order to avoid crashing it.\n",
      "To change this limit, set the config variable\n",
      "`--ServerApp.iopub_msg_rate_limit`.\n",
      "\n",
      "Current values:\n",
      "ServerApp.iopub_msg_rate_limit=1000.0 (msgs/sec)\n",
      "ServerApp.rate_limit_window=3.0 (secs)\n",
      "\n",
      " 49%|██████████████████▊                   | 4942/10000 [09:42<09:54,  8.51it/s]IOPub message rate exceeded.\n",
      "The Jupyter server will temporarily stop sending output\n",
      "to the client in order to avoid crashing it.\n",
      "To change this limit, set the config variable\n",
      "`--ServerApp.iopub_msg_rate_limit`.\n",
      "\n",
      "Current values:\n",
      "ServerApp.iopub_msg_rate_limit=1000.0 (msgs/sec)\n",
      "ServerApp.rate_limit_window=3.0 (secs)\n",
      "\n",
      " 50%|███████████████████                   | 5015/10000 [09:49<09:09,  9.07it/s]IOPub message rate exceeded.\n",
      "The Jupyter server will temporarily stop sending output\n",
      "to the client in order to avoid crashing it.\n",
      "To change this limit, set the config variable\n",
      "`--ServerApp.iopub_msg_rate_limit`.\n",
      "\n",
      "Current values:\n",
      "ServerApp.iopub_msg_rate_limit=1000.0 (msgs/sec)\n",
      "ServerApp.rate_limit_window=3.0 (secs)\n",
      "\n",
      " 51%|███████████████████▎                  | 5090/10000 [09:57<09:08,  8.95it/s]IOPub message rate exceeded.\n",
      "The Jupyter server will temporarily stop sending output\n",
      "to the client in order to avoid crashing it.\n",
      "To change this limit, set the config variable\n",
      "`--ServerApp.iopub_msg_rate_limit`.\n",
      "\n",
      "Current values:\n",
      "ServerApp.iopub_msg_rate_limit=1000.0 (msgs/sec)\n",
      "ServerApp.rate_limit_window=3.0 (secs)\n",
      "\n",
      " 52%|███████████████████▉                  | 5238/10000 [10:04<09:16,  8.56it/s]IOPub message rate exceeded.\n",
      "The Jupyter server will temporarily stop sending output\n",
      "to the client in order to avoid crashing it.\n",
      "To change this limit, set the config variable\n",
      "`--ServerApp.iopub_msg_rate_limit`.\n",
      "\n",
      "Current values:\n",
      "ServerApp.iopub_msg_rate_limit=1000.0 (msgs/sec)\n",
      "ServerApp.rate_limit_window=3.0 (secs)\n",
      "\n",
      " 85%|████████████████████████████████▎     | 8502/10000 [16:23<02:49,  8.85it/s]IOPub message rate exceeded.\n",
      "The Jupyter server will temporarily stop sending output\n",
      "to the client in order to avoid crashing it.\n",
      "To change this limit, set the config variable\n",
      "`--ServerApp.iopub_msg_rate_limit`.\n",
      "\n",
      "Current values:\n",
      "ServerApp.iopub_msg_rate_limit=1000.0 (msgs/sec)\n",
      "ServerApp.rate_limit_window=3.0 (secs)\n",
      "\n",
      " 85%|████████████████████████████████▎     | 8487/10000 [16:31<03:10,  7.94it/s]IOPub message rate exceeded.\n",
      "The Jupyter server will temporarily stop sending output\n",
      "to the client in order to avoid crashing it.\n",
      "To change this limit, set the config variable\n",
      "`--ServerApp.iopub_msg_rate_limit`.\n",
      "\n",
      "Current values:\n",
      "ServerApp.iopub_msg_rate_limit=1000.0 (msgs/sec)\n",
      "ServerApp.rate_limit_window=3.0 (secs)\n",
      "\n",
      " 89%|█████████████████████████████████▊    | 8897/10000 [17:06<01:58,  9.32it/s]IOPub message rate exceeded.\n",
      "The Jupyter server will temporarily stop sending output\n",
      "to the client in order to avoid crashing it.\n",
      "To change this limit, set the config variable\n",
      "`--ServerApp.iopub_msg_rate_limit`.\n",
      "\n",
      "Current values:\n",
      "ServerApp.iopub_msg_rate_limit=1000.0 (msgs/sec)\n",
      "ServerApp.rate_limit_window=3.0 (secs)\n",
      "\n",
      " 88%|█████████████████████████████████▌    | 8847/10000 [17:15<02:07,  9.03it/s]IOPub message rate exceeded.\n",
      "The Jupyter server will temporarily stop sending output\n",
      "to the client in order to avoid crashing it.\n",
      "To change this limit, set the config variable\n",
      "`--ServerApp.iopub_msg_rate_limit`.\n",
      "\n",
      "Current values:\n",
      "ServerApp.iopub_msg_rate_limit=1000.0 (msgs/sec)\n",
      "ServerApp.rate_limit_window=3.0 (secs)\n",
      "\n",
      " 90%|██████████████████████████████████▎   | 9034/10000 [17:25<01:51,  8.67it/s]IOPub message rate exceeded.\n",
      "The Jupyter server will temporarily stop sending output\n",
      "to the client in order to avoid crashing it.\n",
      "To change this limit, set the config variable\n",
      "`--ServerApp.iopub_msg_rate_limit`.\n",
      "\n",
      "Current values:\n",
      "ServerApp.iopub_msg_rate_limit=1000.0 (msgs/sec)\n",
      "ServerApp.rate_limit_window=3.0 (secs)\n",
      "\n",
      " 91%|██████████████████████████████████▋   | 9140/10000 [17:33<01:34,  9.10it/s]IOPub message rate exceeded.\n",
      "The Jupyter server will temporarily stop sending output\n",
      "to the client in order to avoid crashing it.\n",
      "To change this limit, set the config variable\n",
      "`--ServerApp.iopub_msg_rate_limit`.\n",
      "\n",
      "Current values:\n",
      "ServerApp.iopub_msg_rate_limit=1000.0 (msgs/sec)\n",
      "ServerApp.rate_limit_window=3.0 (secs)\n",
      "\n",
      " 92%|██████████████████████████████████▉   | 9184/10000 [17:40<01:31,  8.92it/s]"
     ]
    },
    {
     "name": "stdout",
     "output_type": "stream",
     "text": [
      "=====Dataset28 generation End.  &  0 simulation errors occured.=====\n",
      "=====Dataset13 generation End.  &  0 simulation errors occured.=====\n",
      "=====Dataset64 generation End.  &  0 simulation errors occured.=====\n",
      "=====Dataset12 generation End.  &  0 simulation errors occured.=====\n",
      "=====Dataset26 generation End.  &  0 simulation errors occured.=====\n",
      "=====Dataset56 generation End.  &  0 simulation errors occured.=====\n",
      "=====Dataset20 generation End.  &  0 simulation errors occured.=====\n",
      "=====Dataset10 generation End.  &  0 simulation errors occured.=====\n",
      "=====Dataset3 generation End.  &  0 simulation errors occured.=====\n",
      "=====Dataset32 generation End.  &  0 simulation errors occured.=====\n",
      "=====Dataset2 generation End.  &  0 simulation errors occured.=====\n",
      "=====Dataset38 generation End.  &  0 simulation errors occured.=====\n",
      "=====Dataset33 generation End.  &  0 simulation errors occured.=====\n",
      "=====Dataset19 generation End.  &  0 simulation errors occured.=====\n",
      "=====Dataset1 generation End.  &  0 simulation errors occured.=====\n",
      "=====Dataset44 generation End.  &  0 simulation errors occured.=====\n",
      "=====Dataset22 generation End.  &  0 simulation errors occured.=====\n",
      "=====Dataset70 generation End.  &  0 simulation errors occured.=====\n",
      "=====Dataset34 generation End.  &  0 simulation errors occured.=====\n",
      "=====Dataset45 generation End.  &  0 simulation errors occured.=====\n",
      "=====Dataset63 generation End.  &  0 simulation errors occured.=====\n",
      "=====Dataset35 generation End.  &  0 simulation errors occured.=====\n",
      "=====Dataset17 generation End.  &  0 simulation errors occured.=====\n",
      "=====Dataset49 generation End.  &  0 simulation errors occured.=====\n",
      "=====Dataset69 generation End.  &  0 simulation errors occured.=====\n",
      "=====Dataset11 generation End.  &  0 simulation errors occured.=====\n",
      "=====Dataset6 generation End.  &  0 simulation errors occured.=====\n",
      "=====Dataset53 generation End.  &  0 simulation errors occured.=====\n",
      "=====Dataset31 generation End.  &  0 simulation errors occured.=====\n",
      "=====Dataset55 generation End.  &  0 simulation errors occured.=====\n",
      "=====Dataset60 generation End.  &  0 simulation errors occured.=====\n",
      "=====Dataset18 generation End.  &  0 simulation errors occured.=====\n",
      "=====Dataset51 generation End.  &  0 simulation errors occured.=====\n",
      "=====Dataset65 generation End.  &  0 simulation errors occured.=====\n",
      "=====Dataset39 generation End.  &  0 simulation errors occured.=====\n",
      "=====Dataset23 generation End.  &  0 simulation errors occured.=====\n",
      "=====Dataset5 generation End.  &  0 simulation errors occured.=====\n",
      "=====Dataset30 generation End.  &  0 simulation errors occured.=====\n",
      "=====Dataset27 generation End.  &  0 simulation errors occured.=====\n",
      "=====Dataset9 generation End.  &  0 simulation errors occured.=====\n",
      "=====Dataset36 generation End.  &  0 simulation errors occured.=====\n",
      "=====Dataset29 generation End.  &  0 simulation errors occured.=====\n",
      "=====Dataset14 generation End.  &  0 simulation errors occured.=====\n",
      "=====Dataset42 generation End.  &  0 simulation errors occured.=====\n",
      "=====Dataset15 generation End.  &  0 simulation errors occured.=====\n",
      "=====Dataset47 generation End.  &  0 simulation errors occured.=====\n",
      "=====Dataset62 generation End.  &  0 simulation errors occured.=====\n",
      "=====Dataset50 generation End.  &  0 simulation errors occured.=====\n",
      "=====Dataset58 generation End.  &  0 simulation errors occured.=====\n",
      "=====Dataset52 generation End.  &  0 simulation errors occured.=====\n",
      "=====Dataset37 generation End.  &  0 simulation errors occured.=====\n",
      "=====Dataset67 generation End.  &  0 simulation errors occured.=====\n",
      "=====Dataset8 generation End.  &  0 simulation errors occured.=====\n",
      "=====Dataset21 generation End.  &  0 simulation errors occured.=====\n",
      "=====Dataset41 generation End.  &  0 simulation errors occured.=====\n",
      "=====Dataset48 generation End.  &  0 simulation errors occured.=====\n",
      "=====Dataset4 generation End.  &  0 simulation errors occured.=====\n",
      "=====Dataset66 generation End.  &  0 simulation errors occured.=====\n",
      "=====Dataset40 generation End.  &  0 simulation errors occured.=====\n",
      "=====Dataset54 generation End.  &  0 simulation errors occured.=====\n",
      "=====Dataset68 generation End.  &  0 simulation errors occured.=====\n",
      "=====Dataset57 generation End.  &  0 simulation errors occured.=====\n",
      "=====Dataset43 generation End.  &  0 simulation errors occured.=====\n",
      "=====Dataset25 generation End.  &  0 simulation errors occured.=====\n",
      "=====Dataset46 generation End.  &  0 simulation errors occured.=====\n",
      "=====Dataset7 generation End.  &  0 simulation errors occured.=====\n",
      "=====Dataset61 generation End.  &  0 simulation errors occured.=====\n",
      "=====Dataset16 generation End.  &  0 simulation errors occured.=====\n",
      "=====Dataset59 generation End.  &  0 simulation errors occured.=====\n",
      "=====Dataset24 generation End.  &  0 simulation errors occured.=====\n",
      "--- 1369.9067947864532 seconds ---\n"
     ]
    }
   ],
   "source": [
    "if __name__=='__main__':\n",
    "    start_time = time.time()    \n",
    "    nCPU = os.cpu_count()      \n",
    "    nCPU = 70\n",
    "    print(\"The number of process :\", nCPU )   \n",
    "   \n",
    "    multi = True\n",
    "    \n",
    "    gen_params = {\n",
    "        'end_time': VC_protocol.get_voltage_change_endpoints()[-1],                            \n",
    "        'log_li' : ['membrane.i_ion'],\n",
    "        'save_log_li' : ['membrane.i_ion'],\n",
    "        'nData' : 10000,                         \n",
    "        'dataset_dir' : f'./newordherg_qNet_fixedconc_v1_LeemV1_{cell_type}_tGr',\n",
    "        'data_file_name' : 'currents',\n",
    "        'window' : 0,\n",
    "        'step_size' : 0,\n",
    "        'startNo' : 1,\n",
    "        'nDataset' : 70,\n",
    "    }  \n",
    "    gen_params['dataset_dir'] = gen_params['dataset_dir'] #+ f\"_w{gen_params['window']}_s{gen_params['step_size']}\"\n",
    "\n",
    "    datasetNo_li = list(range(gen_params['startNo'], gen_params['startNo']+gen_params['nDataset']))  # Core 수만큼  [1,2,3,4,5,6,7,8,9,10]    \n",
    "    print(datasetNo_li)          \n",
    "        \n",
    "    try:\n",
    "        if not os.path.exists(gen_params['dataset_dir']):\n",
    "            os.makedirs(gen_params['dataset_dir'])\n",
    "            print('\"%s\" has been created.'%(gen_params['dataset_dir']))\n",
    "        else:\n",
    "            print(\"The folder already exists.\")\n",
    "    except OSError:\n",
    "        print('Error: create_folder(). : ' + gen_params['dataset_dir'])\n",
    "        \n",
    "    \n",
    "    '''\n",
    "    Plot\n",
    "    '''\n",
    "    fig, ax = plt.subplots(1,1, figsize=(10,3))    \n",
    "    # fig.suptitle(sim.name, fontsize=14)\n",
    "    # ax.set_title('Simulation %d'%(simulationNo))\n",
    "    # axes[i].set_xlim(model_scipy.times.min(), model_scipy.times.max())\n",
    "    # ax.set_ylim(ylim[0], ylim[1])\n",
    "    ax.set_xlabel('Time (ms)')       \n",
    "    ax.set_ylabel(f'Voltage')      \n",
    "    times = np.linspace(0, VC_protocol.get_voltage_change_endpoints()[-1], 10000)  \n",
    "    ax.plot( times, VC_protocol.get_voltage_clamp_protocol(times), label='VC', color='k', linewidth=5)     \n",
    "    ax.legend()\n",
    "    ax.grid()\n",
    "    # ax[-1].set_ylim(-5, 5)\n",
    "\n",
    "    plt.subplots_adjust(left=0.07, bottom=0.05, right=0.95, top=0.95, wspace=0.5, hspace=0.15)\n",
    "    plt.show()\n",
    "    fig.savefig(os.path.join(gen_params['dataset_dir'], \"aVC.jpg\" ), dpi=100)\n",
    "        \n",
    "    if multi :            \n",
    "        pool = multiprocessing.Pool(processes=nCPU )\n",
    "        func = partial(gen_dataset, gen_params)\n",
    "        pool.map(func, datasetNo_li)\n",
    "        pool.close()\n",
    "        pool.join()\n",
    "    else:\n",
    "        for No in datasetNo_li :\n",
    "            gen_dataset(gen_params, No)\n",
    "        \n",
    "    # print(\"Dataset has been generated.\")\n",
    "    \n",
    "    print(\"--- %s seconds ---\"%(time.time()-start_time))\n",
    "    \n",
    "    # \n",
    "\n",
    "    # # Set parameter transformation\n",
    "    # transform_to_model_param = log_transform_to_model_param       # return np.exp(out)\n",
    "    # transform_from_model_param = log_transform_from_model_param   # return np.log(out)\n",
    "    \n",
    "    # logprior = LogPrior(transform_to_model_param, transform_from_model_param)\n",
    "      \n",
    "    # p = logprior.sample_without_inv_transform()\n",
    "    # print(p)\n",
    "    \n",
    "    # print(logprior.rmax)\n",
    "    # print(logprior.rmin)\n",
    "    # print(5e5)\n",
    "\n",
    " "
   ]
  },
  {
   "cell_type": "code",
   "execution_count": 10,
   "id": "f7e984b5-0794-4eae-98a0-bec0f6b4b033",
   "metadata": {},
   "outputs": [
    {
     "name": "stdout",
     "output_type": "stream",
     "text": [
      "Finish\n"
     ]
    }
   ],
   "source": [
    "print(\"Finish\")"
   ]
  },
  {
   "cell_type": "code",
   "execution_count": null,
   "id": "8128a932-2d15-479e-a3d3-7c9d6b0ec475",
   "metadata": {},
   "outputs": [],
   "source": []
  }
 ],
 "metadata": {
  "kernelspec": {
   "display_name": "Python 3 (ipykernel)",
   "language": "python",
   "name": "python3"
  },
  "language_info": {
   "codemirror_mode": {
    "name": "ipython",
    "version": 3
   },
   "file_extension": ".py",
   "mimetype": "text/x-python",
   "name": "python",
   "nbconvert_exporter": "python",
   "pygments_lexer": "ipython3",
   "version": "3.7.11"
  }
 },
 "nbformat": 4,
 "nbformat_minor": 5
}
