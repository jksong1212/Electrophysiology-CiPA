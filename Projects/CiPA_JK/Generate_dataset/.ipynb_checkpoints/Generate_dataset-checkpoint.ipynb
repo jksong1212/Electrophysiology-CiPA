{
 "cells": [
  {
   "cell_type": "code",
   "execution_count": 1,
   "id": "c797b0f5-b635-44ed-8047-735d4a931ef5",
   "metadata": {},
   "outputs": [],
   "source": [
    "import os, sys, time, copy\n",
    "import random\n",
    "import numpy as np\n",
    "import matplotlib.pyplot as plt\n",
    "\n",
    "import multiprocessing\n",
    "from functools import partial\n",
    "from tqdm import tqdm\n",
    "\n",
    "import IPython\n",
    "\n",
    "import myokit\n",
    "sys.path.append('../../../')\n",
    "sys.path.append('../../../Protocols')\n",
    "sys.path.append('../../../Models')\n",
    "sys.path.append('../../../Lib')\n",
    "import protocol_lib\n",
    "import mod_trace\n",
    "\n",
    "import simulator_myokit\n",
    "import simulator_scipy\n",
    "import vc_protocols"
   ]
  },
  {
   "cell_type": "code",
   "execution_count": 2,
   "id": "361e11a7-efa9-4b45-8831-79bbbea76792",
   "metadata": {},
   "outputs": [],
   "source": [
    "def find_closest_index(array, t):\n",
    "    \"\"\"Given an array, return the index with the value closest to t.\"\"\"\n",
    "    return (np.abs(np.array(array) - t)).argmin()\n",
    "\n",
    "def get_currents_with_constant_dt(xs, window=1, step_size=1):\n",
    "        \n",
    "    times = xs[0]\n",
    "    i_ion = xs[1]\n",
    "              \n",
    "    i_ion_window = []\n",
    "    t = 0\n",
    "    while t <= times[-1] - window:\n",
    "        start_index = find_closest_index(times, t)\n",
    "        end_index = find_closest_index(times, t + window)            \n",
    "        I_window = i_ion[start_index: end_index + 1]                                    \n",
    "        i_ion_window.append(sum(I_window)/len(I_window))            \n",
    "        t += step_size\n",
    "            \n",
    "    return i_ion_window"
   ]
  },
  {
   "cell_type": "markdown",
   "id": "d1528dae-c154-4cd7-a444-ce27305be8bc",
   "metadata": {},
   "source": [
    "### Create Voltage Protocol"
   ]
  },
  {
   "cell_type": "code",
   "execution_count": 3,
   "id": "7daddfb8-55ad-4ca1-9091-a12435f615c2",
   "metadata": {},
   "outputs": [
    {
     "name": "stdout",
     "output_type": "stream",
     "text": [
      "The protocol is 1200 ms\n"
     ]
    }
   ],
   "source": [
    "# VC_protocol = vc_protocols.hERG_CiPA()\n",
    "# VC_protocol = vc_protocols.cav12_CiPA()\n",
    "# VC_protocol = vc_protocols.lateNav15_CiPA()\n",
    "VC_protocol = vc_protocols.leemV4()\n",
    "\n",
    "vhold = -80 # VC_protocol.steps[0].voltage\n",
    "\n",
    "cell_types = {\n",
    "    'Endocardial' : 0,\n",
    "    'Epicardial' : 1,\n",
    "    'Mid-myocardial' : 2,\n",
    "}\n",
    "\n",
    "cell_type = 'Endocardial'\n",
    "\n",
    "print(f'The protocol is {VC_protocol.get_voltage_change_endpoints()[-1]} ms')"
   ]
  },
  {
   "cell_type": "code",
   "execution_count": 4,
   "id": "708d8fc5-1c07-4933-a342-7be81094db9a",
   "metadata": {},
   "outputs": [
    {
     "name": "stdout",
     "output_type": "stream",
     "text": [
      "--- 3.7101263999938965 seconds ---\n"
     ]
    }
   ],
   "source": [
    "start_time = time.time()\n",
    "\n",
    "model, p, s = myokit.load(\"../../../mmt-model-files/newordherg_qNet_fixedconc-v1.mmt\")    \n",
    "sim = simulator_myokit.Simulator(model, VC_protocol, max_step=0.1, abs_tol=1e-08, rel_tol=1e-8, vhold=vhold)  # 1e-12, 1e-14  # 1e-08, 1e-10\n",
    "                \n",
    "sim.model.get('ikr.D').set_rhs( 0 )\n",
    "\n",
    "gx = 1.0\n",
    "params = {         \n",
    "    'cell.mode': cell_types[cell_type],\n",
    "    'setting.simType': 1,   # 0: AP   |  1: VC  \n",
    "       \n",
    "    'ikr.Temp' : 37,\n",
    "    'ikr.Kt' : 3.5e-05,\n",
    "    'ikr.Kmax' : 0,\n",
    "    'ikr.Ku' : 0,\n",
    "    'ikr.n' : 1,\n",
    "    'ikr.halfmax' : 1,    \n",
    "    'ikr.Vhalf' : 1,  \n",
    "    \n",
    "    'ina.GNa' : model.get('ina.GNa').value() * gx,   \n",
    "    'inal.GNaL' : model.get('inal.GNaL').value() * gx,  \n",
    "    'ito.Gto' : model.get('ito.Gto').value() * gx,\n",
    "    'ical.PCa' : model.get('ical.PCa').value() * gx,\n",
    "    'ikr.GKr' : model.get('ikr.GKr').value() * gx, \n",
    "    'iks.GKs' : model.get('iks.GKs').value() * gx,\n",
    "    'ik1.GK1' : model.get('ik1.GK1').value() * gx,\n",
    "}\n",
    "sim.set_simulation_params(params)\n",
    "\n",
    "print(\"--- %s seconds ---\"%(time.time()-start_time))"
   ]
  },
  {
   "cell_type": "code",
   "execution_count": 5,
   "id": "772e5d95-66ff-4e4c-bffa-72eee0aeaaba",
   "metadata": {},
   "outputs": [
    {
     "name": "stdout",
     "output_type": "stream",
     "text": [
      "cell.mode : 0\n",
      "setting.simType : 1\n",
      "ikr.Temp : 37\n",
      "ikr.Kt : 3.5e-05\n",
      "ikr.Kmax : 0\n",
      "ikr.Ku : 0\n",
      "ikr.n : 1\n",
      "ikr.halfmax : 1\n",
      "ikr.Vhalf : 1\n",
      "ina.GNa : 75.0\n",
      "inal.GNaL : 0.0199575\n",
      "ito.Gto : 0.02\n",
      "ical.PCa : 0.0001007\n",
      "ikr.GKr : 0.04658545454545455\n",
      "iks.GKs : 0.006358\n",
      "ik1.GK1 : 0.3239784\n"
     ]
    }
   ],
   "source": [
    "for key, value in params.items():\n",
    "    print(f'{key} : {value}')"
   ]
  },
  {
   "cell_type": "code",
   "execution_count": 6,
   "id": "b85c7cef-8820-4c3a-8e04-4da7067490c8",
   "metadata": {},
   "outputs": [],
   "source": [
    "def gen_dataset( gen_params, datasetNo=1):    \n",
    "    '''\n",
    "    type = 'AP' or 'I\" \n",
    "    params = {\n",
    "        'times': 1,                    \n",
    "        'log_li' : [],\n",
    "        'nData' : 10000,                         \n",
    "        'dataset_dir' :   './dataset',        \n",
    "        'scale' : 2,\n",
    "    }  \n",
    "    '''\n",
    "    random.seed(datasetNo * 84)\n",
    "    np.random.seed(datasetNo * 86)\n",
    "    \n",
    "    # print(\"-----Dataset%d generation starts.-----\"%(datasetNo))\n",
    "\n",
    "    d = None              \n",
    "    result_li = []\n",
    "    param_li = []\n",
    "    current_nData = 0\n",
    "    \n",
    "    simulation_error_count = 0\n",
    "    with tqdm(total = gen_params['nData']) as pbar:         \n",
    "        while (current_nData < gen_params['nData']):     \n",
    "\n",
    "            target = None\n",
    "            gfc = None\n",
    "\n",
    "            if gen_params['target_type']=='Gfc':\n",
    "                target = np.random.uniform(1, 100, 7)                 \n",
    "                if current_nData==0:\n",
    "                    target = np.ones(7)            \n",
    "                elif current_nData==1:\n",
    "                    target = np.full([7], 100)            \n",
    "                gfc = target\n",
    "            elif gen_params['target_type']=='Gr':\n",
    "                target = np.random.uniform(1e-7, 1, 7)                 \n",
    "                if current_nData==0:\n",
    "                    target = np.ones(7)\n",
    "                elif current_nData==1:\n",
    "                    target = np.full([7], 1e-7)                                \n",
    "                gfc = 1.0/target\n",
    "\n",
    "            Kmax = random.uniform(2.5, 75000000.0)\n",
    "            Ku = random.uniform(0.0, 1.0)\n",
    "            n = random.uniform(0.5, 2.0)\n",
    "            halfmax = random.uniform(9.0, 1000000000.0)\n",
    "            Vhalf = random.uniform(-200.0, -1.0)\n",
    "            gfc_li = {     \n",
    "                'ikr.Kmax' : Kmax,\n",
    "                'ikr.Ku' : Ku,\n",
    "                'ikr.n' : n,\n",
    "                'ikr.halfmax' : halfmax,\n",
    "                'ikr.Vhalf' : Vhalf,\n",
    "\n",
    "                'ina.GNafc' : gfc[0],  \n",
    "                'inal.GNaLfc' : gfc[1],\n",
    "                'ito.Gtofc' : gfc[2],\n",
    "                'ical.PCafc' : gfc[3],\n",
    "                'ikr.GKrfc' : gfc[4],\n",
    "                'iks.GKsfc' : gfc[5],\n",
    "                'ik1.GK1fc' : gfc[6], \n",
    "            }\n",
    "            sim.set_simulation_params(gfc_li)             \n",
    "\n",
    "            # log_li = ['membrane.V']\n",
    "            # if len(log_li)>0:\n",
    "            #     log_li = gen_params['log_li']\n",
    "            try :                \n",
    "                sim.pre_simulate(5000, sim_type=1)\n",
    "                d = sim.simulate( gen_params['end_time'], log_times=gen_params['t_eval'], extra_log=gen_params['log_li'])                           \n",
    "\n",
    "                # temp = [d['engine.time']]\n",
    "                # for log in gen_params['save_log_li'] :                                              \n",
    "                #     temp.append(d[log])                 \n",
    "                # temp = get_currents_with_constant_dt(temp, window=gen_params['window'], step_size=gen_params['step_size'])\n",
    "\n",
    "                temp = None\n",
    "                if type(gen_params['t_eval']) != type(None):\n",
    "                    temp = d['membrane.i_ion']    \n",
    "                else:\n",
    "                    temp = [d['engine.time'], d['membrane.i_ion']] \n",
    "\n",
    "\n",
    "\n",
    "                if ((gen_params['window']>0) and (gen_params['step_size']>0)):\n",
    "                    temp = get_currents_with_constant_dt(temp, window=gen_params['window'], step_size=gen_params['step_size'])\n",
    "                    result_li.append( np.array(temp) )\n",
    "                else:\n",
    "                    result_li.append( temp )                                \n",
    "\n",
    "                param_li.append( [ target[0], target[1], target[2], target[3], target[4], target[5], target[6], Kmax, Ku, n, halfmax, Vhalf ] )\n",
    "                # param_li.append( target )\n",
    "                current_nData+=1                   \n",
    "\n",
    "            except :\n",
    "                simulation_error_count += 1\n",
    "                print(\"There is a simulation error.\")\n",
    "                continue\n",
    "            \n",
    "            if datasetNo==gen_params['startNo']:\n",
    "                pbar.update(1) \n",
    "            \n",
    "    if ((gen_params['window']>0) and (gen_params['step_size']>0)) or (type(gen_params['t_eval']) != type(None)):\n",
    "        result_li = np.array(result_li)        \n",
    "    else:\n",
    "        result_li = np.array(result_li, dtype=object)        \n",
    "    \n",
    "    param_li = np.array(param_li)    \n",
    "    # print(result_li.shape)\n",
    "    np.save(os.path.join(gen_params['dataset_dir'], f\"currents{datasetNo}\" ) , result_li)\n",
    "    np.save(os.path.join(gen_params['dataset_dir'], f'parameter{datasetNo}' ), param_li )\n",
    "\n",
    "    result_li = []\n",
    "    param_li = []\n",
    "    \n",
    "    print(\"=====Dataset%d generation End.  &  %d simulation errors occured.=====\"%(datasetNo, simulation_error_count))       "
   ]
  },
  {
   "cell_type": "code",
   "execution_count": 7,
   "id": "6b30efd4-3d6a-4344-be17-01ce37e95aa1",
   "metadata": {},
   "outputs": [
    {
     "data": {
      "text/plain": [
       "(12000,)"
      ]
     },
     "execution_count": 7,
     "metadata": {},
     "output_type": "execute_result"
    }
   ],
   "source": [
    "np.arange(0, VC_protocol.get_voltage_change_endpoints()[-1], 0.1).shape"
   ]
  },
  {
   "cell_type": "code",
   "execution_count": 8,
   "id": "dfdcc3df-95d1-4d49-90df-869a6ad17c1d",
   "metadata": {},
   "outputs": [
    {
     "name": "stdout",
     "output_type": "stream",
     "text": [
      "The number of process : 72\n",
      "[1, 2, 3, 4, 5, 6, 7, 8, 9, 10, 11, 12, 13, 14, 15, 16, 17, 18, 19, 20, 21, 22, 23, 24, 25, 26, 27, 28, 29, 30, 31, 32, 33, 34, 35]\n",
      "\"./newordherg_qNet_fixedconc_v1_LeemV4_Endocardial_dt01_5hERG_Gr\" has been created.\n"
     ]
    },
    {
     "data": {
      "image/png": "[encoded data removed]",
      "text/plain": [
       "<Figure size 720x216 with 1 Axes>"
      ]
     },
     "metadata": {
      "needs_background": "light"
     },
     "output_type": "display_data"
    },
    {
     "name": "stderr",
     "output_type": "stream",
     "text": [
      "  0%|                                                 | 0/10000 [59:27<?, ?it/s]\n",
      "  0%|                                                 | 0/10000 [59:28<?, ?it/s]\n",
      " 95%|████████████████████████████████████▏ | 9526/10000 [59:28<03:08,  2.52it/s]"
     ]
    },
    {
     "name": "stdout",
     "output_type": "stream",
     "text": [
      "=====Dataset22 generation End.  &  0 simulation errors occured.=====\n"
     ]
    },
    {
     "name": "stderr",
     "output_type": "stream",
     "text": [
      " 95%|████████████████████████████████████▏ | 9527/10000 [59:29<03:24,  2.31it/s]"
     ]
    },
    {
     "name": "stdout",
     "output_type": "stream",
     "text": [
      "=====Dataset21 generation End.  &  0 simulation errors occured.=====\n"
     ]
    },
    {
     "name": "stderr",
     "output_type": "stream",
     "text": [
      "  0%|                                                 | 0/10000 [59:33<?, ?it/s]\n",
      " 95%|████████████████████████████████████▎ | 9541/10000 [59:34<02:50,  2.69it/s]"
     ]
    },
    {
     "name": "stdout",
     "output_type": "stream",
     "text": [
      "=====Dataset24 generation End.  &  0 simulation errors occured.=====\n"
     ]
    },
    {
     "name": "stderr",
     "output_type": "stream",
     "text": [
      "  0%|                                                 | 0/10000 [59:36<?, ?it/s]\n",
      "  0%|                                                 | 0/10000 [59:37<?, ?it/s]\n",
      "  0%|                                                 | 0/10000 [59:37<?, ?it/s]\n",
      "  0%|                                                 | 0/10000 [59:38<?, ?it/s]\n"
     ]
    },
    {
     "name": "stdout",
     "output_type": "stream",
     "text": [
      "=====Dataset14 generation End.  &  0 simulation errors occured.=====\n"
     ]
    },
    {
     "name": "stderr",
     "output_type": "stream",
     "text": [
      " 96%|████████████████████████████████████▎ | 9552/10000 [59:38<02:45,  2.71it/s]"
     ]
    },
    {
     "name": "stdout",
     "output_type": "stream",
     "text": [
      "=====Dataset34 generation End.  &  0 simulation errors occured.=====\n",
      "=====Dataset35 generation End.  &  0 simulation errors occured.=====\n"
     ]
    },
    {
     "name": "stderr",
     "output_type": "stream",
     "text": [
      " 96%|████████████████████████████████████▎ | 9554/10000 [59:39<02:34,  2.88it/s]"
     ]
    },
    {
     "name": "stdout",
     "output_type": "stream",
     "text": [
      "=====Dataset23 generation End.  &  0 simulation errors occured.=====\n"
     ]
    },
    {
     "name": "stderr",
     "output_type": "stream",
     "text": [
      "  0%|                                                 | 0/10000 [59:39<?, ?it/s]\n",
      "  0%|                                                 | 0/10000 [59:41<?, ?it/s]\n"
     ]
    },
    {
     "name": "stdout",
     "output_type": "stream",
     "text": [
      "=====Dataset11 generation End.  &  0 simulation errors occured.=====\n"
     ]
    },
    {
     "name": "stderr",
     "output_type": "stream",
     "text": [
      "  0%|                                                 | 0/10000 [59:42<?, ?it/s]\n",
      "  0%|                                                 | 0/10000 [59:44<?, ?it/s]\n",
      "  0%|                                                 | 0/10000 [59:44<?, ?it/s]\n",
      " 96%|████████████████████████████████████▍ | 9576/10000 [59:47<02:30,  2.82it/s]"
     ]
    },
    {
     "name": "stdout",
     "output_type": "stream",
     "text": [
      "=====Dataset9 generation End.  &  0 simulation errors occured.=====\n"
     ]
    },
    {
     "name": "stderr",
     "output_type": "stream",
     "text": [
      "  0%|                                                 | 0/10000 [59:48<?, ?it/s]\n",
      "  0%|                                                 | 0/10000 [59:48<?, ?it/s]\n",
      " 96%|████████████████████████████████████▍ | 9579/10000 [59:48<02:35,  2.71it/s]"
     ]
    },
    {
     "name": "stdout",
     "output_type": "stream",
     "text": [
      "=====Dataset8 generation End.  &  0 simulation errors occured.=====\n"
     ]
    },
    {
     "name": "stderr",
     "output_type": "stream",
     "text": [
      "  0%|                                                 | 0/10000 [59:50<?, ?it/s]\n",
      "  0%|                                                 | 0/10000 [59:51<?, ?it/s]\n",
      "  0%|                                                 | 0/10000 [59:53<?, ?it/s]\n",
      "  0%|                                                 | 0/10000 [59:53<?, ?it/s]\n",
      "  0%|                                                 | 0/10000 [59:53<?, ?it/s]\n",
      "  0%|                                                 | 0/10000 [59:53<?, ?it/s]\n",
      "  0%|                                                 | 0/10000 [59:54<?, ?it/s]\n",
      "  0%|                                                 | 0/10000 [59:54<?, ?it/s]\n",
      "  0%|                                                 | 0/10000 [59:56<?, ?it/s]\n",
      "  0%|                                                 | 0/10000 [59:57<?, ?it/s]\n",
      "  0%|                                                 | 0/10000 [59:59<?, ?it/s]\n",
      "  0%|                                               | 0/10000 [1:00:02<?, ?it/s]\n",
      "  0%|                                               | 0/10000 [1:00:04<?, ?it/s]\n",
      "  0%|                                               | 0/10000 [1:00:06<?, ?it/s]\n",
      "  0%|                                               | 0/10000 [1:00:08<?, ?it/s]\n",
      "  0%|                                               | 0/10000 [1:00:09<?, ?it/s]\n",
      "  0%|                                               | 0/10000 [1:00:13<?, ?it/s]\n",
      "  0%|                                               | 0/10000 [1:00:15<?, ?it/s]\n",
      "  0%|                                               | 0/10000 [1:00:15<?, ?it/s]\n",
      "  0%|                                               | 0/10000 [1:00:20<?, ?it/s]\n",
      " 98%|███████████████████████████████████▎| 9812/10000 [1:01:03<00:54,  3.48it/s]"
     ]
    },
    {
     "name": "stdout",
     "output_type": "stream",
     "text": [
      "=====Dataset33 generation End.  &  0 simulation errors occured.=====\n"
     ]
    },
    {
     "name": "stderr",
     "output_type": "stream",
     "text": [
      " 99%|███████████████████████████████████▍| 9854/10000 [1:01:16<00:40,  3.57it/s]"
     ]
    },
    {
     "name": "stdout",
     "output_type": "stream",
     "text": [
      "=====Dataset25 generation End.  &  0 simulation errors occured.=====\n"
     ]
    },
    {
     "name": "stderr",
     "output_type": "stream",
     "text": [
      "100%|███████████████████████████████████▉| 9978/10000 [1:01:52<00:06,  3.37it/s]"
     ]
    },
    {
     "name": "stdout",
     "output_type": "stream",
     "text": [
      "=====Dataset29 generation End.  &  0 simulation errors occured.=====\n"
     ]
    },
    {
     "name": "stderr",
     "output_type": "stream",
     "text": [
      "100%|███████████████████████████████████▉| 9988/10000 [1:01:55<00:03,  3.49it/s]"
     ]
    },
    {
     "name": "stdout",
     "output_type": "stream",
     "text": [
      "=====Dataset31 generation End.  &  0 simulation errors occured.=====\n"
     ]
    },
    {
     "name": "stderr",
     "output_type": "stream",
     "text": [
      "100%|███████████████████████████████████| 10000/10000 [1:01:59<00:00,  2.69it/s]\n"
     ]
    },
    {
     "name": "stdout",
     "output_type": "stream",
     "text": [
      "=====Dataset20 generation End.  &  0 simulation errors occured.=====\n",
      "=====Dataset27 generation End.  &  0 simulation errors occured.=====\n",
      "=====Dataset28 generation End.  &  0 simulation errors occured.=====\n",
      "=====Dataset15 generation End.  &  0 simulation errors occured.==========Dataset30 generation End.  &  0 simulation errors occured.=====\n",
      "\n",
      "=====Dataset4 generation End.  &  0 simulation errors occured.=====\n",
      "=====Dataset18 generation End.  &  0 simulation errors occured.=====\n",
      "=====Dataset16 generation End.  &  0 simulation errors occured.=====\n",
      "=====Dataset26 generation End.  &  0 simulation errors occured.=====\n",
      "=====Dataset19 generation End.  &  0 simulation errors occured.=====\n",
      "=====Dataset7 generation End.  &  0 simulation errors occured.=====\n",
      "=====Dataset2 generation End.  &  0 simulation errors occured.=====\n",
      "=====Dataset5 generation End.  &  0 simulation errors occured.=====\n",
      "=====Dataset6 generation End.  &  0 simulation errors occured.=====\n",
      "=====Dataset10 generation End.  &  0 simulation errors occured.=====\n",
      "=====Dataset32 generation End.  &  0 simulation errors occured.=====\n",
      "=====Dataset3 generation End.  &  0 simulation errors occured.=====\n",
      "=====Dataset13 generation End.  &  0 simulation errors occured.=====\n",
      "=====Dataset12 generation End.  &  0 simulation errors occured.=====\n",
      "=====Dataset17 generation End.  &  0 simulation errors occured.=====\n",
      "=====Dataset1 generation End.  &  0 simulation errors occured.=====\n",
      "--- 3737.9840557575226 seconds ---\n"
     ]
    }
   ],
   "source": [
    "if __name__=='__main__':\n",
    "    start_time = time.time()    \n",
    "    nCPU = os.cpu_count()      \n",
    "    # nCPU = 30\n",
    "    print(\"The number of process :\", nCPU )   \n",
    "   \n",
    "    multi = True\n",
    "        \n",
    "    dt = 0.1 # ms\n",
    "    gen_params = {\n",
    "        'end_time': VC_protocol.get_voltage_change_endpoints()[-1],      \n",
    "        't_eval' : np.arange(0, VC_protocol.get_voltage_change_endpoints()[-1], dt), \n",
    "        'log_li' : ['membrane.i_ion'],\n",
    "        'save_log_li' : ['membrane.i_ion'],         \n",
    "        'target_type' : 'Gr',\n",
    "        'dataset_dir' : f'./newordherg_qNet_fixedconc_v1_LeemV4_{cell_type}_dt01_5hERG',        \n",
    "        'window' : 0,\n",
    "        'step_size' : 0,\n",
    "        'nData' : 10000,\n",
    "        'startNo' : 36,\n",
    "        'nDataset' : 35,        \n",
    "    }  \n",
    "    gen_params['dataset_dir'] = gen_params['dataset_dir'] + f\"_{gen_params['target_type']}\" #_w{gen_params['window']}_s{gen_params['step_size']}\"\n",
    "\n",
    "    datasetNo_li = list(range(gen_params['startNo'], gen_params['startNo']+gen_params['nDataset']))  # Core 수만큼  [1,2,3,4,5,6,7,8,9,10]    \n",
    "    print(datasetNo_li)          \n",
    "        \n",
    "    try:\n",
    "        if not os.path.exists(gen_params['dataset_dir']):\n",
    "            os.makedirs(gen_params['dataset_dir'])\n",
    "            print('\"%s\" has been created.'%(gen_params['dataset_dir']))\n",
    "        else:\n",
    "            print(\"The folder already exists.\")\n",
    "    except OSError:\n",
    "        print('Error: create_folder(). : ' + gen_params['dataset_dir'])\n",
    "        \n",
    "    \n",
    "    '''\n",
    "    Plot\n",
    "    '''\n",
    "    fig, ax = plt.subplots(1,1, figsize=(10,3))    \n",
    "    # fig.suptitle(sim.name, fontsize=14)\n",
    "    # ax.set_title('Simulation %d'%(simulationNo))\n",
    "    # axes[i].set_xlim(model_scipy.times.min(), model_scipy.times.max())\n",
    "    # ax.set_ylim(ylim[0], ylim[1])\n",
    "    ax.set_xlabel('Time (ms)')       \n",
    "    ax.set_ylabel(f'Voltage')      \n",
    "    times = np.linspace(0, VC_protocol.get_voltage_change_endpoints()[-1], 10000)  \n",
    "    ax.plot( times, VC_protocol.get_voltage_clamp_protocol(times), label='VC', color='k', linewidth=5)     \n",
    "    ax.legend()\n",
    "    ax.grid()\n",
    "    # ax[-1].set_ylim(-5, 5)\n",
    "\n",
    "    plt.subplots_adjust(left=0.07, bottom=0.05, right=0.95, top=0.95, wspace=0.5, hspace=0.15)\n",
    "    plt.show()\n",
    "    fig.savefig(os.path.join(gen_params['dataset_dir'], \"aVC.jpg\" ), dpi=100)\n",
    "        \n",
    "    if multi :                  \n",
    "        pool = multiprocessing.Pool(processes=nCPU )\n",
    "        func = partial(gen_dataset, gen_params)\n",
    "        pool.map(func, datasetNo_li)\n",
    "        pool.close()\n",
    "        pool.join()\n",
    "    else:\n",
    "        for No in datasetNo_li :\n",
    "            gen_dataset(gen_params, No)\n",
    "        \n",
    "    # print(\"Dataset has been generated.\")\n",
    "    \n",
    "    print(\"--- %s seconds ---\"%(time.time()-start_time))\n",
    "    \n",
    "    # \n",
    "\n",
    "    # # Set parameter transformation\n",
    "    # transform_to_model_param = log_transform_to_model_param       # return np.exp(out)\n",
    "    # transform_from_model_param = log_transform_from_model_param   # return np.log(out)\n",
    "    \n",
    "    # logprior = LogPrior(transform_to_model_param, transform_from_model_param)\n",
    "      \n",
    "    # p = logprior.sample_without_inv_transform()\n",
    "    # print(p)\n",
    "    \n",
    "    # print(logprior.rmax)\n",
    "    # print(logprior.rmin)\n",
    "    # print(5e5)\n",
    "\n",
    " "
   ]
  },
  {
   "cell_type": "code",
   "execution_count": 10,
   "id": "f7e984b5-0794-4eae-98a0-bec0f6b4b033",
   "metadata": {},
   "outputs": [
    {
     "name": "stdout",
     "output_type": "stream",
     "text": [
      "Finish\n"
     ]
    }
   ],
   "source": [
    "print(\"Finish\")"
   ]
  },
  {
   "cell_type": "raw",
   "id": "46a63e71-1abe-4e74-991e-9fe7fb6ed072",
   "metadata": {},
   "source": []
  }
 ],
 "metadata": {
  "kernelspec": {
   "display_name": "Python 3 (ipykernel)",
   "language": "python",
   "name": "python3"
  },
  "language_info": {
   "codemirror_mode": {
    "name": "ipython",
    "version": 3
   },
   "file_extension": ".py",
   "mimetype": "text/x-python",
   "name": "python",
   "nbconvert_exporter": "python",
   "pygments_lexer": "ipython3",
   "version": "3.7.11"
  }
 },
 "nbformat": 4,
 "nbformat_minor": 5
}
