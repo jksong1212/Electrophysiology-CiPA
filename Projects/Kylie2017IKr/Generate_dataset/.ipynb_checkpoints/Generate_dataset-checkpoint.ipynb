{
 "cells": [
  {
   "cell_type": "code",
   "execution_count": 1,
   "id": "c797b0f5-b635-44ed-8047-735d4a931ef5",
   "metadata": {},
   "outputs": [],
   "source": [
    "import os, sys, time, copy\n",
    "import random\n",
    "import numpy as np\n",
    "import matplotlib.pyplot as plt\n",
    "\n",
    "import multiprocessing\n",
    "from functools import partial\n",
    "from tqdm import tqdm\n",
    "\n",
    "\n",
    "import myokit\n",
    "sys.path.append('../')\n",
    "sys.path.append('../../../')\n",
    "sys.path.append('../../../Protocols')\n",
    "sys.path.append('../../../Models')\n",
    "sys.path.append('../../../Lib')\n",
    "import protocol_lib\n",
    "import mod_trace\n",
    "\n",
    "import simulator_myokit\n",
    "import simulator_scipy\n",
    "import vc_protocols\n",
    "import vc_protocols_for_myokit "
   ]
  },
  {
   "cell_type": "code",
   "execution_count": 2,
   "id": "361e11a7-efa9-4b45-8831-79bbbea76792",
   "metadata": {},
   "outputs": [],
   "source": [
    "def find_closest_index(array, t):\n",
    "    \"\"\"Given an array, return the index with the value closest to t.\"\"\"\n",
    "    return (np.abs(np.array(array) - t)).argmin()\n",
    "\n",
    "def get_currents_with_constant_dt(xs, window=1, step_size=1):\n",
    "        \n",
    "    times = xs[0]\n",
    "    i_ion = xs[1]\n",
    "              \n",
    "    i_ion_window = []\n",
    "    t = 0\n",
    "    while t <= times[-1] - window:\n",
    "        start_index = find_closest_index(times, t)\n",
    "        end_index = find_closest_index(times, t + window)            \n",
    "        I_window = i_ion[start_index: end_index + 1]                                    \n",
    "        i_ion_window.append(sum(I_window)/len(I_window))            \n",
    "        t += step_size\n",
    "            \n",
    "    return i_ion_window"
   ]
  },
  {
   "cell_type": "code",
   "execution_count": 3,
   "id": "f837de92-7b40-4438-85d0-189194443dce",
   "metadata": {},
   "outputs": [],
   "source": [
    "from priors_JK import BeattieLogPrior as LogPrior\n",
    "\n",
    "def log_transform_from_model_param(param):\n",
    "    # Apply natural log transformation to all parameters\n",
    "    out = np.copy(param)\n",
    "    out = np.log(out)\n",
    "    return out\n",
    "\n",
    "\n",
    "def log_transform_to_model_param(param):\n",
    "    # Inverse of log_transform_from_model_param()\n",
    "    # Apply natural exp transformation to all parameters\n",
    "    out = np.copy(param)\n",
    "    out = np.exp(out)\n",
    "    return out"
   ]
  },
  {
   "cell_type": "code",
   "execution_count": 4,
   "id": "8fe95784-0e55-46da-9bcf-ee1067dde3b8",
   "metadata": {},
   "outputs": [
    {
     "data": {
      "text/plain": [
       "(0, 15.399000000000001)"
      ]
     },
     "execution_count": 4,
     "metadata": {},
     "output_type": "execute_result"
    }
   ],
   "source": [
    "# V = model.voltage(times)\n",
    "g = 0.1524 * 1e3 # [pA/V]\n",
    "p1 = 2.26e-4 * 1e3 # [1/s]\n",
    "p2 = 0.0699 * 1e3  # [1/V]\n",
    "p3 = 3.45e-5 * 1e3 # [1/s]\n",
    "p4 = 0.05462 * 1e3 # [1/V]\n",
    "p5 = 0.0873 * 1e3  # [1/s]\n",
    "p6 = 8.91e-3 * 1e3 # [1/V]\n",
    "p7 = 5.15e-3 * 1e3 # [1/s]\n",
    "p8 = 0.03158 * 1e3 # [1/V]\n",
    "\n",
    "dt = 0.001\n",
    "t_eval = np.arange(15400)*dt  # times = np.linspace(0, 15.4, 77000)\n",
    "t_span = (0, t_eval.max())\n",
    "t_span"
   ]
  },
  {
   "cell_type": "markdown",
   "id": "d1528dae-c154-4cd7-a444-ce27305be8bc",
   "metadata": {},
   "source": [
    "### Create Voltage Protocol"
   ]
  },
  {
   "cell_type": "code",
   "execution_count": 5,
   "id": "7daddfb8-55ad-4ca1-9091-a12435f615c2",
   "metadata": {},
   "outputs": [
    {
     "data": {
      "image/png": "[encoded data removed]",
      "text/plain": [
       "<Figure size 1080x360 with 1 Axes>"
      ]
     },
     "metadata": {
      "needs_background": "light"
     },
     "output_type": "display_data"
    },
    {
     "name": "stdout",
     "output_type": "stream",
     "text": [
      "The protocol is 15.4 s\n"
     ]
    }
   ],
   "source": [
    "'''\n",
    "leak_staircase\n",
    "'''\n",
    "# VC_protocol = vc_protocols_for_myokit.leak_staircase()\n",
    "VC_protocol = vc_protocols.leak_staircase()\n",
    "VC_protocol.plot_voltage_clamp_protocol(t_eval)\n",
    "print(f'The protocol is {VC_protocol.get_voltage_change_endpoints()[-1]} s')"
   ]
  },
  {
   "cell_type": "code",
   "execution_count": 6,
   "id": "708d8fc5-1c07-4933-a342-7be81094db9a",
   "metadata": {},
   "outputs": [
    {
     "name": "stdout",
     "output_type": "stream",
     "text": [
      "--- 1.661550760269165 seconds ---\n"
     ]
    }
   ],
   "source": [
    "start_time = time.time()\n",
    "\n",
    "# hERG model settings\n",
    "temperature = 25.0\n",
    "temperature += 273.15  # in K\n",
    "fit_seed = '542811797'\n",
    "withfcap = False\n",
    "\n",
    "model, p, s = myokit.load(\"../../../mmt-model-files/kylie-2017-IKr.mmt\")    \n",
    "model.get('phys.T').set_rhs(temperature)\n",
    "model.get('potassium.Ko').set_rhs(float(4.0))\n",
    "model.get('potassium.Ki').set_rhs(float(110.0))\n",
    "\n",
    "sim = simulator_myokit.Simulator(model, VC_protocol, max_step=1e-5, abs_tol=1e-8, rel_tol=1e-10, vhold=-80e-3)  # 1e-12, 1e-14  # 1e-08, 1e-10\n",
    "sim.name = \"kylie2017IKr\"  \n",
    "\n",
    "print(\"--- %s seconds ---\"%(time.time()-start_time))"
   ]
  },
  {
   "cell_type": "code",
   "execution_count": 7,
   "id": "772e5d95-66ff-4e4c-bffa-72eee0aeaaba",
   "metadata": {},
   "outputs": [],
   "source": [
    "y0 = sim.pre_simulate( 100, sim_type=1)\n",
    "d = sim.simulate(VC_protocol.get_voltage_change_endpoints()[-1], log_times=t_eval, extra_log=['ikr.IKr', 'ikr.open', 'ikr.active'])\n",
    "population_by_continent = {\n",
    "    'O': d['ikr.open']*d['ikr.active'],\n",
    "    'I': d['ikr.open']*(1-d['ikr.active']),\n",
    "    'C': (1-d['ikr.open'])*d['ikr.active'],\n",
    "    'IC': (1-d['ikr.open'])*(1-d['ikr.active']),    \n",
    "}"
   ]
  },
  {
   "cell_type": "code",
   "execution_count": 8,
   "id": "b85c7cef-8820-4c3a-8e04-4da7067490c8",
   "metadata": {},
   "outputs": [],
   "source": [
    "def gen_dataset( args, datasetNo=1):    \n",
    "    '''\n",
    "    \n",
    "    '''\n",
    "    start_time = time.time()    \n",
    "    \n",
    "    random.seed(datasetNo * 84)\n",
    "    np.random.seed(datasetNo * 86)\n",
    "\n",
    "    print(\"-----Dataset%d generation starts.------\"%(datasetNo))\n",
    "    \n",
    "    # Set parameter transformation\n",
    "    transform_to_model_param = log_transform_to_model_param       # return np.exp(out)\n",
    "    transform_from_model_param = log_transform_from_model_param   # return np.log(out)\n",
    "    logprior = LogPrior(transform_to_model_param, transform_from_model_param)\n",
    "    logprior.upper_conductance = 1e5 # <<--------------------------------------------------------------------------\n",
    "\n",
    "    d = None              \n",
    "    result_li = []\n",
    "    param_li = []\n",
    "    current_nData = 0\n",
    "    \n",
    "    simulation_error_count = 0\n",
    "    with tqdm(total = args.nData) as pbar: \n",
    "        while (current_nData < args.nData):             \n",
    "        \n",
    "            # ikr_g =  random.uniform(gen_params['parameter_ranges'][0][0], gen_params['parameter_ranges'][0][1])\n",
    "            # ikr_p1 = random.uniform(gen_params['parameter_ranges'][1][0], gen_params['parameter_ranges'][1][1])\n",
    "            # ikr_p2 = random.uniform(gen_params['parameter_ranges'][2][0], gen_params['parameter_ranges'][2][1])\n",
    "            # ikr_p3 = random.uniform(gen_params['parameter_ranges'][3][0], gen_params['parameter_ranges'][3][1])\n",
    "            # ikr_p4 = random.uniform(gen_params['parameter_ranges'][4][0], gen_params['parameter_ranges'][4][1])\n",
    "            # ikr_p5 = random.uniform(gen_params['parameter_ranges'][5][0], gen_params['parameter_ranges'][5][1])\n",
    "            # ikr_p6 = random.uniform(gen_params['parameter_ranges'][6][0], gen_params['parameter_ranges'][6][1])\n",
    "            # ikr_p7 = random.uniform(gen_params['parameter_ranges'][7][0], gen_params['parameter_ranges'][7][1])\n",
    "            # ikr_p8 = random.uniform(gen_params['parameter_ranges'][8][0], gen_params['parameter_ranges'][8][1])\n",
    "            # generated_parameters = np.array([ikr_g, ikr_p1, ikr_p2, ikr_p3, ikr_p4, ikr_p5, ikr_p6, ikr_p7, ikr_p8], dtype=np.float32)                  \n",
    "            \n",
    "        \n",
    "            generated_parameters = logprior.sample_without_inv_transform()         \n",
    "                        \n",
    "            model_params = {                    \n",
    "                'ikr.g' : generated_parameters[0],  \n",
    "                'ikr.p1' : generated_parameters[1],\n",
    "                'ikr.p2' : generated_parameters[2],\n",
    "                'ikr.p3' : generated_parameters[3],\n",
    "                'ikr.p4' : generated_parameters[4],\n",
    "                'ikr.p5' : generated_parameters[5],\n",
    "                'ikr.p6' : generated_parameters[6],\n",
    "                'ikr.p7' : generated_parameters[7],\n",
    "                'ikr.p8' : generated_parameters[8],                \n",
    "            } \n",
    "                        \n",
    "            sim.set_simulation_params(model_params)                \n",
    "            \n",
    "            try :                \n",
    "                sim.pre_simulate(100, sim_type=1)           \n",
    "                d = sim.simulate( args.vc_protocol.get_voltage_change_endpoints()[-1], log_times=args.t_eval, extra_log=['ikr.IKr'])           \n",
    "\n",
    "                temp = None\n",
    "                if type(args.t_eval) != type(None):\n",
    "                    temp = d['ikr.IKr']    \n",
    "                else:\n",
    "                    temp = [d['engine.time'], d['ikr.IKr']]\n",
    "\n",
    "                if (args.window>0) and (args.step_size>0):\n",
    "                    temp = get_currents_with_constant_dt(temp, window=args.window, step_size=args.step_size)\n",
    "\n",
    "                result_li.append( temp )\n",
    "                param_li.append( generated_parameters )\n",
    "                current_nData+=1                    \n",
    "\n",
    "            except :\n",
    "                simulation_error_count += 1\n",
    "                print(\"There is a simulation error.\")\n",
    "                continue\n",
    "                \n",
    "            pbar.update(1) \n",
    "        \n",
    "    if ((args.window>0) and (args.step_size>0)) or (type(args.t_eval) != type(None)):\n",
    "        result_li = np.array(result_li)                \n",
    "    else:\n",
    "        result_li = np.array(result_li, dtype=object)            \n",
    "    param_li = np.array(param_li)    \n",
    "        \n",
    "    np.save(os.path.join(args.dataset_dir, f\"IKr{datasetNo}\" ) , result_li)\n",
    "    np.save(os.path.join(args.dataset_dir, f'parameter{datasetNo}' ), param_li )\n",
    "\n",
    "    result_li = []\n",
    "    param_li = []\n",
    "\n",
    "    print(\"=====Dataset%d generation End.  &  %d simulation errors occured.=== %f ====\"%(datasetNo, simulation_error_count, (time.time()-start_time)))       "
   ]
  },
  {
   "cell_type": "code",
   "execution_count": 9,
   "id": "4ae06dff-e8a2-481f-90b4-1eaf8f34eb3a",
   "metadata": {},
   "outputs": [],
   "source": [
    "# Conductance를 100,000이하로 제한한 경우\n",
    "parameter_ranges = []\n",
    "parameter_ranges.append([100, 100000])\n",
    "parameter_ranges.append( [0.0001, 10])\n",
    "parameter_ranges.append( [0.0001, 400])\n",
    "parameter_ranges.append( [0.0001, 10] )\n",
    "parameter_ranges.append( [0.0001, 100] )\n",
    "parameter_ranges.append( [0.0001, 500] )\n",
    "parameter_ranges.append( [0.0001, 200] )\n",
    "parameter_ranges.append( [0.0001, 100] )\n",
    "parameter_ranges.append( [0.0001, 100] )"
   ]
  },
  {
   "cell_type": "code",
   "execution_count": null,
   "id": "dfdcc3df-95d1-4d49-90df-869a6ad17c1d",
   "metadata": {},
   "outputs": [
    {
     "name": "stdout",
     "output_type": "stream",
     "text": [
      "The number of process : 30\n",
      "[1, 2, 3, 4, 5, 6, 7, 8, 9, 10, 11, 12, 13, 14, 15, 16, 17, 18, 19, 20, 21, 22, 23, 24, 25, 26, 27, 28, 29, 30]\n",
      "The folder already exists.\n"
     ]
    },
    {
     "data": {
      "image/png": "[encoded data removed]",
      "text/plain": [
       "<Figure size 720x216 with 1 Axes>"
      ]
     },
     "metadata": {
      "needs_background": "light"
     },
     "output_type": "display_data"
    },
    {
     "name": "stdout",
     "output_type": "stream",
     "text": [
      "-----Dataset1 generation starts.-----------Dataset2 generation starts.-----------Dataset3 generation starts.------\n",
      "\n",
      "\n",
      "-----Dataset4 generation starts.-----------Dataset5 generation starts.-----------Dataset6 generation starts.-----------Dataset7 generation starts.------\n",
      "\n",
      "-----Dataset8 generation starts.-----------Dataset9 generation starts.------\n",
      "\n"
     ]
    },
    {
     "name": "stderr",
     "output_type": "stream",
     "text": [
      "  0%|                                                 | 0/10000 [00:00<?, ?it/s]"
     ]
    },
    {
     "name": "stdout",
     "output_type": "stream",
     "text": [
      "\n"
     ]
    },
    {
     "name": "stderr",
     "output_type": "stream",
     "text": [
      "  0%|                                                 | 0/10000 [00:00<?, ?it/s]"
     ]
    },
    {
     "name": "stdout",
     "output_type": "stream",
     "text": [
      "\n",
      "-----Dataset12 generation starts.-----------Dataset10 generation starts.------"
     ]
    },
    {
     "name": "stderr",
     "output_type": "stream",
     "text": [
      "  0%|                                                 | 0/10000 [00:00<?, ?it/s]"
     ]
    },
    {
     "name": "stdout",
     "output_type": "stream",
     "text": [
      "-----Dataset13 generation starts.-----------Dataset11 generation starts.------\n"
     ]
    },
    {
     "name": "stderr",
     "output_type": "stream",
     "text": [
      "  0%|                                                 | 0/10000 [00:00<?, ?it/s]"
     ]
    },
    {
     "name": "stdout",
     "output_type": "stream",
     "text": [
      "\n"
     ]
    },
    {
     "name": "stderr",
     "output_type": "stream",
     "text": [
      "  0%|                                                 | 0/10000 [00:00<?, ?it/s]"
     ]
    },
    {
     "name": "stdout",
     "output_type": "stream",
     "text": [
      "\n",
      "\n"
     ]
    },
    {
     "name": "stderr",
     "output_type": "stream",
     "text": [
      "  0%|                                                 | 0/10000 [00:00<?, ?it/s]"
     ]
    },
    {
     "name": "stdout",
     "output_type": "stream",
     "text": [
      "-----Dataset15 generation starts.------"
     ]
    },
    {
     "name": "stderr",
     "output_type": "stream",
     "text": [
      "  0%|                                                 | 0/10000 [00:00<?, ?it/s]"
     ]
    },
    {
     "name": "stdout",
     "output_type": "stream",
     "text": [
      "-----Dataset14 generation starts.------\n"
     ]
    },
    {
     "name": "stderr",
     "output_type": "stream",
     "text": [
      "  0%|                                                 | 0/10000 [00:00<?, ?it/s]"
     ]
    },
    {
     "name": "stdout",
     "output_type": "stream",
     "text": [
      "-----Dataset18 generation starts.------"
     ]
    },
    {
     "name": "stderr",
     "output_type": "stream",
     "text": [
      "  0%|                                                 | 0/10000 [00:00<?, ?it/s]"
     ]
    },
    {
     "name": "stdout",
     "output_type": "stream",
     "text": [
      "-----Dataset16 generation starts.------\n",
      "-----Dataset17 generation starts.------"
     ]
    },
    {
     "name": "stderr",
     "output_type": "stream",
     "text": [
      "  0%|                                                 | 0/10000 [00:00<?, ?it/s]"
     ]
    },
    {
     "name": "stdout",
     "output_type": "stream",
     "text": [
      "\n",
      "-----Dataset19 generation starts.------"
     ]
    },
    {
     "name": "stderr",
     "output_type": "stream",
     "text": [
      "  0%|                                                 | 0/10000 [00:00<?, ?it/s]"
     ]
    },
    {
     "name": "stdout",
     "output_type": "stream",
     "text": [
      "-----Dataset20 generation starts.------\n",
      "-----Dataset21 generation starts.------\n",
      "\n",
      "-----Dataset22 generation starts.-----------Dataset23 generation starts.------\n",
      "\n"
     ]
    },
    {
     "name": "stderr",
     "output_type": "stream",
     "text": [
      "  0%|                                                 | 0/10000 [00:00<?, ?it/s]"
     ]
    },
    {
     "name": "stdout",
     "output_type": "stream",
     "text": [
      "-----Dataset24 generation starts.------\n"
     ]
    },
    {
     "name": "stderr",
     "output_type": "stream",
     "text": [
      "  0%|                                                 | 0/10000 [00:00<?, ?it/s]"
     ]
    },
    {
     "name": "stdout",
     "output_type": "stream",
     "text": [
      "-----Dataset26 generation starts.------\n",
      "-----Dataset25 generation starts.------"
     ]
    },
    {
     "name": "stderr",
     "output_type": "stream",
     "text": [
      "  0%|                                                 | 0/10000 [00:00<?, ?it/s]"
     ]
    },
    {
     "name": "stdout",
     "output_type": "stream",
     "text": [
      "\n",
      "-----Dataset27 generation starts.------"
     ]
    },
    {
     "name": "stderr",
     "output_type": "stream",
     "text": [
      "  0%|                                                 | 0/10000 [00:00<?, ?it/s]"
     ]
    },
    {
     "name": "stdout",
     "output_type": "stream",
     "text": [
      "\n"
     ]
    },
    {
     "name": "stderr",
     "output_type": "stream",
     "text": [
      "  0%|                                                 | 0/10000 [00:00<?, ?it/s]"
     ]
    },
    {
     "name": "stdout",
     "output_type": "stream",
     "text": [
      "\n"
     ]
    },
    {
     "name": "stderr",
     "output_type": "stream",
     "text": [
      "  0%|                                                 | 0/10000 [00:00<?, ?it/s]"
     ]
    },
    {
     "name": "stdout",
     "output_type": "stream",
     "text": [
      "-----Dataset28 generation starts.-----------Dataset29 generation starts.------"
     ]
    },
    {
     "name": "stderr",
     "output_type": "stream",
     "text": [
      "  0%|                                                 | 0/10000 [00:00<?, ?it/s]"
     ]
    },
    {
     "name": "stdout",
     "output_type": "stream",
     "text": [
      "\n",
      "-----Dataset30 generation starts.------\n",
      "\n"
     ]
    },
    {
     "name": "stderr",
     "output_type": "stream",
     "text": [
      "  0%|                                                 | 0/10000 [00:00<?, ?it/s]"
     ]
    },
    {
     "name": "stdout",
     "output_type": "stream",
     "text": [
      "\n"
     ]
    },
    {
     "name": "stderr",
     "output_type": "stream",
     "text": [
      "  1%|▎                                     | 78/10000 [01:17<2:50:07,  1.03s/it]"
     ]
    }
   ],
   "source": [
    "import argparse\n",
    "\n",
    "if __name__=='__main__':\n",
    "    start_time = time.time()    \n",
    "           \n",
    "    parser = argparse.ArgumentParser(description='hERG dataset generation.')\n",
    "    parser.add_argument('--multi',            required=False, default=True, help='multi')    \n",
    "    parser.add_argument('--nCPU',             required=False, default=os.cpu_count(),  type=int, help='nCPU')\n",
    "    parser.add_argument('--vc_protocol',      required=False, default=vc_protocols.leak_staircase(), help='vc_protocol')\n",
    "    parser.add_argument('--t_eval',           required=False, default=np.arange(0, 15.4, 0.001), help='t_eval')     \n",
    "    parser.add_argument('--dataset_dir',      required=False, default=f\"./kylie2017_hERG_leakstaircase_15400_JK1\", help='dataset_dir')    \n",
    "    parser.add_argument('--parameter_ranges', required=False, default=np.array(parameter_ranges),  help='parameter_ranges')\n",
    "    parser.add_argument('--window',           required=False, default=-1,  type=int, help='window')\n",
    "    parser.add_argument('--step_size',        required=False, default=-1,  type=int, help='step_size')    \n",
    "    parser.add_argument('--startNo',          required=False, default=1,  type=int, help='startNo')\n",
    "    parser.add_argument('--nDataset',         required=False, default=30,  type=int, help='nDataset')\n",
    "    parser.add_argument('--nData',            required=False, default=10000,  type=int, help='nData')   \n",
    "    # args = parser.parse_args()\n",
    "    args, _ = parser.parse_known_args()    \n",
    "            \n",
    "    if args.nDataset < args.nCPU:\n",
    "        args.nCPU = args.nDataset\n",
    "    print(\"The number of process :\", args.nCPU )       \n",
    "    \n",
    "    datasetNo_li = list(range(args.startNo, args.startNo+args.nDataset))  # Core 수만큼  [1,2,3,4,5,6,7,8,9,10]    \n",
    "    print(datasetNo_li)          \n",
    "        \n",
    "    try:\n",
    "        if not os.path.exists(args.dataset_dir):\n",
    "            os.makedirs(args.dataset_dir)\n",
    "            print('\"%s\" has been created.'%(args.dataset_dir))\n",
    "        else:\n",
    "            print(\"The folder already exists.\")\n",
    "    except OSError:\n",
    "        print('Error: create_folder(). : ' + args.dataset_dir)\n",
    "        \n",
    "    \n",
    "    '''\n",
    "    Plot\n",
    "    '''\n",
    "    fig, ax = plt.subplots(1,1, figsize=(10,3))    \n",
    "    # fig.suptitle(sim.name, fontsize=14)\n",
    "    # ax.set_title('Simulation %d'%(simulationNo))\n",
    "    # axes[i].set_xlim(model_scipy.times.min(), model_scipy.times.max())\n",
    "    # ax.set_ylim(ylim[0], ylim[1])\n",
    "    ax.set_xlabel('Time (ms)')       \n",
    "    ax.set_ylabel(f'Voltage')      \n",
    "    times = np.linspace(0, VC_protocol.get_voltage_change_endpoints()[-1], 10000)  \n",
    "    ax.plot( times, VC_protocol.get_voltage_clamp_protocol(times), label='VC', color='k', linewidth=5)     \n",
    "    ax.legend()\n",
    "    ax.grid()\n",
    "    # ax[-1].set_ylim(-5, 5)\n",
    "    plt.subplots_adjust(left=0.07, bottom=0.05, right=0.95, top=0.95, wspace=0.5, hspace=0.15)\n",
    "    plt.show()\n",
    "    fig.savefig(os.path.join(args.dataset_dir, \"aVC.jpg\" ), dpi=100)\n",
    "        \n",
    "    if args.multi :            \n",
    "        pool = multiprocessing.Pool(processes=args.nCPU )\n",
    "        func = partial(gen_dataset, args)\n",
    "        pool.map(func, datasetNo_li)\n",
    "        pool.close()\n",
    "        pool.join()\n",
    "    else:\n",
    "        for No in datasetNo_li :\n",
    "            gen_dataset(args, No)\n",
    "        \n",
    "    print(\"Dataset has been generated.\")    \n",
    "    print(\"--- %s seconds ---\"%(time.time()-start_time))"
   ]
  },
  {
   "cell_type": "code",
   "execution_count": null,
   "id": "f7e984b5-0794-4eae-98a0-bec0f6b4b033",
   "metadata": {},
   "outputs": [],
   "source": [
    "print(\"Finish\")"
   ]
  },
  {
   "cell_type": "code",
   "execution_count": null,
   "id": "0dd4f7f1-7751-4bed-9801-2b433dc720a6",
   "metadata": {},
   "outputs": [],
   "source": []
  },
  {
   "cell_type": "code",
   "execution_count": null,
   "id": "dde7c8b8-ef9e-4e17-bc41-7c6cb9af8222",
   "metadata": {},
   "outputs": [],
   "source": []
  }
 ],
 "metadata": {
  "kernelspec": {
   "display_name": "Python 3 (ipykernel)",
   "language": "python",
   "name": "python3"
  },
  "language_info": {
   "codemirror_mode": {
    "name": "ipython",
    "version": 3
   },
   "file_extension": ".py",
   "mimetype": "text/x-python",
   "name": "python",
   "nbconvert_exporter": "python",
   "pygments_lexer": "ipython3",
   "version": "3.7.11"
  }
 },
 "nbformat": 4,
 "nbformat_minor": 5
}
