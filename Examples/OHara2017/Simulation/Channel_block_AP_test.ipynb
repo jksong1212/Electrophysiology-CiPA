{
 "cells": [
  {
   "cell_type": "code",
   "execution_count": 1,
   "id": "c797b0f5-b635-44ed-8047-735d4a931ef5",
   "metadata": {},
   "outputs": [],
   "source": [
    "import os, sys, time, copy\n",
    "import random\n",
    "import numpy as np\n",
    "import matplotlib.pyplot as plt\n",
    "\n",
    "import myokit\n",
    "sys.path.append('../../../')\n",
    "sys.path.append('../../../Protocols')\n",
    "sys.path.append('../../../Models')\n",
    "sys.path.append('../../../Lib')\n",
    "import protocol_lib\n",
    "import mod_trace\n",
    "\n",
    "import simulator_myokit\n",
    "import simulator_scipy\n",
    "\n",
    "from agetdata import get_currents_with_constant_dt"
   ]
  },
  {
   "cell_type": "code",
   "execution_count": 2,
   "id": "ca9543d6-c29d-48d2-a39a-c2f9cbf9133b",
   "metadata": {},
   "outputs": [
    {
     "name": "stdout",
     "output_type": "stream",
     "text": [
      "The folder already exsits\n"
     ]
    }
   ],
   "source": [
    "result_dir = \"./Results\"\n",
    "try:\n",
    "    if not os.path.exists(result_dir):\n",
    "        os.makedirs(result_dir)\n",
    "    else:\n",
    "        print(\"The folder already exsits\")\n",
    "except OSError:\n",
    "    print(f\"Error: {result_dir} has not been created.\")"
   ]
  },
  {
   "cell_type": "code",
   "execution_count": 3,
   "id": "8fe95784-0e55-46da-9bcf-ee1067dde3b8",
   "metadata": {},
   "outputs": [],
   "source": [
    "end_time = 1000\n",
    "bcl = 1000\n",
    "duration = 0.5\n",
    "offset = 20\n",
    "\n",
    "t_span = (0, end_time)\n",
    "t_eval = np.linspace(0, t_span[1], 5000)  \n",
    "\n",
    "extra_log=['ina.INa', 'inal.INaL', 'ito.Ito', 'ical.ICaL_total', 'ikr.IKr', 'iks.IKs', 'ik1.IK1', 'inaca.INaCa', 'inacass.INaCa_ss', 'inak.INaK', 'ikb.IKb', 'inab.INab', 'icab.ICab', 'ipca.IpCa']"
   ]
  },
  {
   "cell_type": "code",
   "execution_count": 4,
   "id": "305df119-767b-4033-ab2c-bdd7e9d17a46",
   "metadata": {},
   "outputs": [
    {
     "name": "stdout",
     "output_type": "stream",
     "text": [
      "--- 4.047144174575806 seconds ---\n"
     ]
    }
   ],
   "source": [
    "start_time = time.time()\n",
    "\n",
    "model, p, s = myokit.load(\"../../../mmt-model-files/newordherg_qNet_vc_fixedconc-v1.mmt\")    \n",
    "protocol = myokit.pacing.blocktrain(bcl, duration, offset=offset) # period, duration, offset=0, level=1.0, limit=0  \n",
    "sim = simulator_myokit.Simulator(model, protocol, max_step=1.0, abs_tol=1e-06, rel_tol=1e-6, vhold=0)  # 1e-12, 1e-14  # 1e-08, 1e-10\n",
    "\n",
    "model_params = {         \n",
    "    'cell.mode': 2,\n",
    "    'setting.simType': 0,   # 0: AP   |  1: VC      \n",
    "}\n",
    "sim.set_simulation_params(model_params)\n",
    "\n",
    "print(\"--- %s seconds ---\"%(time.time()-start_time))"
   ]
  },
  {
   "cell_type": "code",
   "execution_count": 5,
   "id": "c1ea7e81-bd1e-4217-97b3-c22efc4241d8",
   "metadata": {},
   "outputs": [
    {
     "ename": "KeyError",
     "evalue": "'g_adj'",
     "output_type": "error",
     "traceback": [
      "\u001b[0;31m---------------------------------------------------------------------------\u001b[0m",
      "\u001b[0;31mKeyError\u001b[0m                                  Traceback (most recent call last)",
      "\u001b[0;32m/opt/conda/lib/python3.7/site-packages/myokit/_model_api.py\u001b[0m in \u001b[0;36mget\u001b[0;34m(self, name, class_filter)\u001b[0m\n\u001b[1;32m   1627\u001b[0m             \u001b[0;32mfor\u001b[0m \u001b[0mname\u001b[0m \u001b[0;32min\u001b[0m \u001b[0mnames\u001b[0m\u001b[0;34m:\u001b[0m\u001b[0;34m\u001b[0m\u001b[0;34m\u001b[0m\u001b[0m\n\u001b[0;32m-> 1628\u001b[0;31m                 \u001b[0mx\u001b[0m \u001b[0;34m=\u001b[0m \u001b[0mx\u001b[0m\u001b[0;34m[\u001b[0m\u001b[0mname\u001b[0m\u001b[0;34m]\u001b[0m\u001b[0;34m\u001b[0m\u001b[0;34m\u001b[0m\u001b[0m\n\u001b[0m\u001b[1;32m   1629\u001b[0m         \u001b[0;32mexcept\u001b[0m \u001b[0mKeyError\u001b[0m\u001b[0;34m:\u001b[0m\u001b[0;34m\u001b[0m\u001b[0;34m\u001b[0m\u001b[0m\n",
      "\u001b[0;32m/opt/conda/lib/python3.7/site-packages/myokit/_model_api.py\u001b[0m in \u001b[0;36m__getitem__\u001b[0;34m(self, key)\u001b[0m\n\u001b[1;32m    617\u001b[0m     \u001b[0;32mdef\u001b[0m \u001b[0m__getitem__\u001b[0m\u001b[0;34m(\u001b[0m\u001b[0mself\u001b[0m\u001b[0;34m,\u001b[0m \u001b[0mkey\u001b[0m\u001b[0;34m)\u001b[0m\u001b[0;34m:\u001b[0m\u001b[0;34m\u001b[0m\u001b[0;34m\u001b[0m\u001b[0m\n\u001b[0;32m--> 618\u001b[0;31m         \u001b[0;32mreturn\u001b[0m \u001b[0mself\u001b[0m\u001b[0;34m.\u001b[0m\u001b[0m_variables\u001b[0m\u001b[0;34m[\u001b[0m\u001b[0mkey\u001b[0m\u001b[0;34m]\u001b[0m\u001b[0;34m\u001b[0m\u001b[0;34m\u001b[0m\u001b[0m\n\u001b[0m\u001b[1;32m    619\u001b[0m \u001b[0;34m\u001b[0m\u001b[0m\n",
      "\u001b[0;31mKeyError\u001b[0m: 'g_adj'",
      "\nDuring handling of the above exception, another exception occurred:\n",
      "\u001b[0;31mKeyError\u001b[0m                                  Traceback (most recent call last)",
      "\u001b[0;32m/tmp/ipykernel_1359/128105962.py\u001b[0m in \u001b[0;36m<module>\u001b[0;34m\u001b[0m\n\u001b[1;32m     10\u001b[0m     \u001b[0;34m'ik1.g_adj'\u001b[0m \u001b[0;34m:\u001b[0m \u001b[0;36m1\u001b[0m\u001b[0;34m,\u001b[0m\u001b[0;34m\u001b[0m\u001b[0;34m\u001b[0m\u001b[0m\n\u001b[1;32m     11\u001b[0m }\n\u001b[0;32m---> 12\u001b[0;31m \u001b[0msim\u001b[0m\u001b[0;34m.\u001b[0m\u001b[0mset_simulation_params\u001b[0m\u001b[0;34m(\u001b[0m\u001b[0mmodel_params\u001b[0m\u001b[0;34m)\u001b[0m\u001b[0;34m\u001b[0m\u001b[0;34m\u001b[0m\u001b[0m\n\u001b[0m\u001b[1;32m     13\u001b[0m \u001b[0my0\u001b[0m \u001b[0;34m=\u001b[0m \u001b[0msim\u001b[0m\u001b[0;34m.\u001b[0m\u001b[0mpre_simulate\u001b[0m\u001b[0;34m(\u001b[0m\u001b[0mbcl\u001b[0m\u001b[0;34m*\u001b[0m\u001b[0;36m100\u001b[0m\u001b[0;34m,\u001b[0m \u001b[0msim_type\u001b[0m\u001b[0;34m=\u001b[0m\u001b[0;36m1\u001b[0m\u001b[0;34m)\u001b[0m\u001b[0;34m\u001b[0m\u001b[0;34m\u001b[0m\u001b[0m\n\u001b[1;32m     14\u001b[0m \u001b[0md\u001b[0m \u001b[0;34m=\u001b[0m \u001b[0msim\u001b[0m\u001b[0;34m.\u001b[0m\u001b[0msimulate\u001b[0m\u001b[0;34m(\u001b[0m\u001b[0mend_time\u001b[0m\u001b[0;34m,\u001b[0m \u001b[0mlog_times\u001b[0m\u001b[0;34m=\u001b[0m\u001b[0;32mNone\u001b[0m\u001b[0;34m,\u001b[0m \u001b[0mextra_log\u001b[0m\u001b[0;34m=\u001b[0m\u001b[0;34m[\u001b[0m\u001b[0;34m'membrane.i_ion'\u001b[0m\u001b[0;34m]\u001b[0m \u001b[0;34m+\u001b[0m \u001b[0mextra_log\u001b[0m\u001b[0;34m)\u001b[0m\u001b[0;34m\u001b[0m\u001b[0;34m\u001b[0m\u001b[0m\n",
      "\u001b[0;32m/workspace/share/Electrophysiology_CiPA/simulator_myokit.py\u001b[0m in \u001b[0;36mset_simulation_params\u001b[0;34m(self, parameters)\u001b[0m\n\u001b[1;32m     99\u001b[0m         '''            \n\u001b[1;32m    100\u001b[0m         \u001b[0;32mfor\u001b[0m \u001b[0mkey\u001b[0m\u001b[0;34m,\u001b[0m \u001b[0mvalue\u001b[0m \u001b[0;32min\u001b[0m \u001b[0mparameters\u001b[0m\u001b[0;34m.\u001b[0m\u001b[0mitems\u001b[0m\u001b[0;34m(\u001b[0m\u001b[0;34m)\u001b[0m\u001b[0;34m:\u001b[0m\u001b[0;34m\u001b[0m\u001b[0;34m\u001b[0m\u001b[0m\n\u001b[0;32m--> 101\u001b[0;31m             \u001b[0mself\u001b[0m\u001b[0;34m.\u001b[0m\u001b[0mpre_simulation\u001b[0m\u001b[0;34m.\u001b[0m\u001b[0mset_constant\u001b[0m\u001b[0;34m(\u001b[0m\u001b[0mkey\u001b[0m\u001b[0;34m,\u001b[0m \u001b[0mvalue\u001b[0m\u001b[0;34m)\u001b[0m\u001b[0;34m\u001b[0m\u001b[0;34m\u001b[0m\u001b[0m\n\u001b[0m\u001b[1;32m    102\u001b[0m             \u001b[0mself\u001b[0m\u001b[0;34m.\u001b[0m\u001b[0msimulation\u001b[0m\u001b[0;34m.\u001b[0m\u001b[0mset_constant\u001b[0m\u001b[0;34m(\u001b[0m\u001b[0mkey\u001b[0m\u001b[0;34m,\u001b[0m \u001b[0mvalue\u001b[0m\u001b[0;34m)\u001b[0m\u001b[0;34m\u001b[0m\u001b[0;34m\u001b[0m\u001b[0m\n\u001b[1;32m    103\u001b[0m \u001b[0;34m\u001b[0m\u001b[0m\n",
      "\u001b[0;32m/opt/conda/lib/python3.7/site-packages/myokit/_sim/cvodessim.py\u001b[0m in \u001b[0;36mset_constant\u001b[0;34m(self, var, value)\u001b[0m\n\u001b[1;32m    753\u001b[0m         \u001b[0;32mif\u001b[0m \u001b[0misinstance\u001b[0m\u001b[0;34m(\u001b[0m\u001b[0mvar\u001b[0m\u001b[0;34m,\u001b[0m \u001b[0mmyokit\u001b[0m\u001b[0;34m.\u001b[0m\u001b[0mVariable\u001b[0m\u001b[0;34m)\u001b[0m\u001b[0;34m:\u001b[0m\u001b[0;34m\u001b[0m\u001b[0;34m\u001b[0m\u001b[0m\n\u001b[1;32m    754\u001b[0m             \u001b[0mvar\u001b[0m \u001b[0;34m=\u001b[0m \u001b[0mvar\u001b[0m\u001b[0;34m.\u001b[0m\u001b[0mqname\u001b[0m\u001b[0;34m(\u001b[0m\u001b[0;34m)\u001b[0m\u001b[0;34m\u001b[0m\u001b[0;34m\u001b[0m\u001b[0m\n\u001b[0;32m--> 755\u001b[0;31m         \u001b[0mvar\u001b[0m \u001b[0;34m=\u001b[0m \u001b[0mself\u001b[0m\u001b[0;34m.\u001b[0m\u001b[0m_model\u001b[0m\u001b[0;34m.\u001b[0m\u001b[0mget\u001b[0m\u001b[0;34m(\u001b[0m\u001b[0mvar\u001b[0m\u001b[0;34m)\u001b[0m\u001b[0;34m\u001b[0m\u001b[0;34m\u001b[0m\u001b[0m\n\u001b[0m\u001b[1;32m    756\u001b[0m \u001b[0;34m\u001b[0m\u001b[0m\n\u001b[1;32m    757\u001b[0m         \u001b[0;31m# Update value in literal or parameter map\u001b[0m\u001b[0;34m\u001b[0m\u001b[0;34m\u001b[0m\u001b[0;34m\u001b[0m\u001b[0m\n",
      "\u001b[0;32m/opt/conda/lib/python3.7/site-packages/myokit/_model_api.py\u001b[0m in \u001b[0;36mget\u001b[0;34m(self, name, class_filter)\u001b[0m\n\u001b[1;32m   1628\u001b[0m                 \u001b[0mx\u001b[0m \u001b[0;34m=\u001b[0m \u001b[0mx\u001b[0m\u001b[0;34m[\u001b[0m\u001b[0mname\u001b[0m\u001b[0;34m]\u001b[0m\u001b[0;34m\u001b[0m\u001b[0;34m\u001b[0m\u001b[0m\n\u001b[1;32m   1629\u001b[0m         \u001b[0;32mexcept\u001b[0m \u001b[0mKeyError\u001b[0m\u001b[0;34m:\u001b[0m\u001b[0;34m\u001b[0m\u001b[0;34m\u001b[0m\u001b[0m\n\u001b[0;32m-> 1630\u001b[0;31m             \u001b[0;32mraise\u001b[0m \u001b[0mKeyError\u001b[0m\u001b[0;34m(\u001b[0m\u001b[0mstr\u001b[0m\u001b[0;34m(\u001b[0m\u001b[0mname\u001b[0m\u001b[0;34m)\u001b[0m\u001b[0;34m)\u001b[0m\u001b[0;34m\u001b[0m\u001b[0;34m\u001b[0m\u001b[0m\n\u001b[0m\u001b[1;32m   1631\u001b[0m \u001b[0;34m\u001b[0m\u001b[0m\n\u001b[1;32m   1632\u001b[0m         \u001b[0;31m# Apply optional class filter\u001b[0m\u001b[0;34m\u001b[0m\u001b[0;34m\u001b[0m\u001b[0;34m\u001b[0m\u001b[0m\n",
      "\u001b[0;31mKeyError\u001b[0m: 'g_adj'"
     ]
    }
   ],
   "source": [
    "start_time = time.time()\n",
    "\n",
    "model_params = {         \n",
    "    'ina.g_adj' : 1,  \n",
    "    'inal.g_adj' : 1,\n",
    "    'ito.g_adj' : 1,\n",
    "    'ical.g_adj' : 1,\n",
    "    'ikr.g_adj' : 1,\n",
    "    'iks.g_adj' : 1,\n",
    "    'ik1.g_adj' : 1,    \n",
    "}\n",
    "sim.set_simulation_params(model_params)  \n",
    "y0 = sim.pre_simulate(bcl*100, sim_type=1)\n",
    "d = sim.simulate(end_time, log_times=None, extra_log=['membrane.i_ion'] + extra_log)\n",
    "\n",
    "sol1 = {}\n",
    "times1 = d['engine.time']\n",
    "sol1[\"Voltage\"] = d['membrane.V']\n",
    "sol1[\"I_total\"] = d['membrane.i_ion']\n",
    "sol1[\"INa\"] = d['ina.INa']\n",
    "sol1[\"INaL\"] = d['inal.INaL']\n",
    "sol1[\"Ito\"] = d['ito.Ito']\n",
    "sol1[\"ICaL\"] = d['ical.ICaL_total']\n",
    "sol1[\"IKr\"] = d['ikr.IKr']\n",
    "sol1[\"IKs\"] = d['iks.IKs']\n",
    "sol1[\"IK1\"] = d['ik1.IK1']\n",
    "\n",
    "print(\"--- %s seconds ---\"%(time.time()-start_time))"
   ]
  },
  {
   "cell_type": "code",
   "execution_count": null,
   "id": "df02fa71-b89e-4ef1-8349-30000bf6f6f6",
   "metadata": {},
   "outputs": [],
   "source": [
    "start_time = time.time()\n",
    "\n",
    "model_params = {         \n",
    "    'ina.g_adj' : 1,  \n",
    "    'inal.g_adj' : 1,\n",
    "    'ito.g_adj' : 1,\n",
    "    'ical.g_adj' : 1,\n",
    "    'ikr.g_adj' : 0.1,\n",
    "    'iks.g_adj' : 1,\n",
    "    'ik1.g_adj' : 1,    \n",
    "}\n",
    "sim.set_simulation_params(model_params)  \n",
    "y0 = sim.pre_simulate(bcl*100, sim_type=1)\n",
    "d = sim.simulate(end_time, log_times=None, extra_log=['membrane.i_ion'] + extra_log)\n",
    "\n",
    "sol2 = {}\n",
    "times2 = d['engine.time']\n",
    "sol2[\"Voltage\"] = d['membrane.V']\n",
    "sol2[\"I_total\"] = d['membrane.i_ion']\n",
    "sol2[\"INa\"] = d['ina.INa']\n",
    "sol2[\"INaL\"] = d['inal.INaL']\n",
    "sol2[\"Ito\"] = d['ito.Ito']\n",
    "sol2[\"ICaL\"] = d['ical.ICaL_total']\n",
    "sol2[\"IKr\"] = d['ikr.IKr']\n",
    "sol2[\"IKs\"] = d['iks.IKs']\n",
    "sol2[\"IK1\"] = d['ik1.IK1']\n",
    "\n",
    "print(\"--- %s seconds ---\"%(time.time()-start_time))"
   ]
  },
  {
   "cell_type": "code",
   "execution_count": null,
   "id": "9863fa37-ee35-47dd-b652-3628259f59bb",
   "metadata": {},
   "outputs": [],
   "source": [
    "'''\n",
    "Plot\n",
    "'''\n",
    "fig, ax = plt.subplots(len(sol1),1, figsize=(20,30))    \n",
    "# fig.suptitle(sim.name, fontsize=14)\n",
    "for i, (name, values) in enumerate(sol1.items()):    \n",
    "    # ax.set_title('Simulation %d'%(simulationNo))\n",
    "    # axes[i].set_xlim(model_scipy.times.min(), model_scipy.times.max())\n",
    "    # ax.set_ylim(ylim[0], ylim[1])\n",
    "    ax[i].set_xlabel('Time (ms)')       \n",
    "    ax[i].set_ylabel(f'{name}')      \n",
    "    ax[i].plot( times1, sol1[name], label='myokit', color='k', linewidth=5)    \n",
    "    ax[i].plot( times2, sol2[name], label='myokit', color='r', linewidth=2)    \n",
    "    ax[i].legend()\n",
    "    ax[i].grid()\n",
    "\n",
    "plt.subplots_adjust(left=0.07, bottom=0.05, right=0.95, top=0.95, wspace=0.5, hspace=0.15)\n",
    "plt.show()\n",
    "fig.savefig(os.path.join(result_dir, \"channel_block_test_AP.jpg\"), dpi=100)"
   ]
  },
  {
   "cell_type": "code",
   "execution_count": null,
   "id": "408fe616-e25f-43cd-b9fe-f449ba6c2854",
   "metadata": {},
   "outputs": [],
   "source": []
  },
  {
   "cell_type": "code",
   "execution_count": null,
   "id": "dfdcc3df-95d1-4d49-90df-869a6ad17c1d",
   "metadata": {},
   "outputs": [],
   "source": []
  },
  {
   "cell_type": "code",
   "execution_count": null,
   "id": "e65daf8a-68d9-4b18-821c-f2123bdf861e",
   "metadata": {},
   "outputs": [],
   "source": []
  },
  {
   "cell_type": "code",
   "execution_count": null,
   "id": "8ebbf465-7ae4-4813-9454-983d19f2d958",
   "metadata": {},
   "outputs": [],
   "source": []
  },
  {
   "cell_type": "code",
   "execution_count": null,
   "id": "3328a282-d530-4822-ae94-22bb85215838",
   "metadata": {},
   "outputs": [],
   "source": []
  }
 ],
 "metadata": {
  "kernelspec": {
   "display_name": "Python 3 (ipykernel)",
   "language": "python",
   "name": "python3"
  },
  "language_info": {
   "codemirror_mode": {
    "name": "ipython",
    "version": 3
   },
   "file_extension": ".py",
   "mimetype": "text/x-python",
   "name": "python",
   "nbconvert_exporter": "python",
   "pygments_lexer": "ipython3",
   "version": "3.7.11"
  }
 },
 "nbformat": 4,
 "nbformat_minor": 5
}
