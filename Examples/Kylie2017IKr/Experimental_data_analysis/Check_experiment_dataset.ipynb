{
 "cells": [
  {
   "cell_type": "code",
   "execution_count": 1,
   "id": "c797b0f5-b635-44ed-8047-735d4a931ef5",
   "metadata": {},
   "outputs": [
    {
     "name": "stderr",
     "output_type": "stream",
     "text": [
      "C:\\Anaconda3\\envs\\ml\\lib\\site-packages\\numpy\\_distributor_init.py:30: UserWarning: loaded more than 1 DLL from .libs:\n",
      "C:\\Anaconda3\\envs\\ml\\lib\\site-packages\\numpy\\.libs\\libopenblas.NOIJJG62EMASZI6NYURL6JBKM4EVBGM7.gfortran-win_amd64.dll\n",
      "C:\\Anaconda3\\envs\\ml\\lib\\site-packages\\numpy\\.libs\\libopenblas.WCDJNK7YVMPZQ2ME2ZZHJJRJ3JIKNDB7.gfortran-win_amd64.dll\n",
      "  warnings.warn(\"loaded more than 1 DLL from .libs:\\n%s\" %\n"
     ]
    }
   ],
   "source": [
    "import os, sys, time, copy, math\n",
    "import random\n",
    "import numpy as np\n",
    "import pandas as pd\n",
    "import scipy\n",
    "import matplotlib.pyplot as plt\n",
    "\n",
    "import multiprocessing\n",
    "from functools import partial\n",
    "from tqdm import tqdm\n",
    "\n",
    "import collections\n",
    "from typing import List\n",
    "import bisect\n",
    "import myokit\n",
    "sys.path.append('../../../')\n",
    "sys.path.append('../../../Protocols')\n",
    "sys.path.append('../../../Models')\n",
    "sys.path.append('../../../Lib')\n",
    "import mod_protocols\n",
    "import protocol_lib\n",
    "import mod_trace\n",
    "from preprocessing_lib import get_modified_current, get_currents_with_constant_dt \n",
    "\n",
    "import simulator_myokit\n",
    "import simulator_scipy\n",
    "import vc_protocols"
   ]
  },
  {
   "cell_type": "code",
   "execution_count": 2,
   "id": "0a73426c-d4af-4397-b73d-178a51d2713b",
   "metadata": {},
   "outputs": [],
   "source": [
    "def create_folder(path):\n",
    "    if not os.path.exists(path):\n",
    "        os.makedirs(path)\n",
    "        print('\"%s\" has been created.'%(path))\n",
    "    else:\n",
    "        print(\"The folder already exists.\")"
   ]
  },
  {
   "cell_type": "code",
   "execution_count": 3,
   "id": "9401ad1a-6480-4a9b-bf7c-765439338167",
   "metadata": {},
   "outputs": [
    {
     "name": "stdout",
     "output_type": "stream",
     "text": [
      "The folder already exists.\n",
      "The folder already exists.\n"
     ]
    }
   ],
   "source": [
    "create_folder(\"./fft_results\")\n",
    "create_folder(\"./fft_results_fre\")"
   ]
  },
  {
   "cell_type": "code",
   "execution_count": null,
   "id": "0165951e-23f4-4db2-9c2a-122ffacb10b8",
   "metadata": {},
   "outputs": [],
   "source": [
    "def fast_fourier_transform(times, data, fs=5000, is_plot=True):\n",
    "    # fs = fs # max 500Hz *2  \n",
    "    dt = 0.0002 # 1/fs   # 0.001  \n",
    "\n",
    "    newt = times\n",
    "    newx = data \n",
    "\n",
    "    # 주파수 생성  \n",
    "    nfft = len(newt)  # number of sample count.  \n",
    "    # print('nfft = ', nfft)  \n",
    "    df = fs/nfft    # 주파수 증가량 = max freq / 샘플개수  \n",
    "    k = np.arange(nfft)  \n",
    "    f = k*df      # 0부터~최대주파수까지의 범위 (sample count 개수 만큼, df증가량으로 분포)  \n",
    "\n",
    "    # 주파수 스펙트럼은 중앙을 기준으로 대칭이 된다. 반만 구한다.  \n",
    "    nfft_half = math.trunc(nfft)  \n",
    "    f0 = f[range(nfft_half)]      # only half size check for get hz.  \n",
    "    y = np.fft.fft(newx)/nfft  # 증폭을 두 배로 한다. (반만 계산해서 에너지가 반으로 줌)  \n",
    "    y0 = y[range(nfft_half)]       # one side.  \n",
    "    amp = abs(y0)  # 벡터(복소수) norm 측정. 신호 강도. \n",
    "    \n",
    "    # print(amp.shape)\n",
    "    if is_plot:  \n",
    "        plt.figure()  \n",
    "        plt.plot(f0, amp)  \n",
    "        # plt.savefig('fft02_3.jpg')  \n",
    "        # plt.xlim(0, 10)\n",
    "        # plt.ylim(0,2)\n",
    "        plt.show()  \n",
    "        \n",
    "    return amp, f0, y\n",
    "\n",
    "def inv_fast_fourier_transform(fft_y, f0, times, indices):\n",
    "   \n",
    "    nfft = len(times)  # number of sample count.  \n",
    "    k = np.arange(nfft)      \n",
    "    # recover      \n",
    "        \n",
    "    len_indices = len(indices)\n",
    "    freq = f0[indices] #f0[idxy[i]]  \n",
    "    yx = fft_y[indices] #fft_y[idxy[i]]  \n",
    "    coec = yx.real  \n",
    "    coes = yx.imag * -1\n",
    "    \n",
    "    freq = freq.reshape(len_indices,1) \n",
    "    coec = coec.reshape(len_indices,1)\n",
    "    coes = coes.reshape(len_indices,1)\n",
    "    times = times.reshape(1, nfft)\n",
    "        \n",
    "    freq_times = 2.0 * np.pi * freq * times\n",
    "    newy = coec * np.cos(2 * np.pi * freq * times) + coes * np.sin(2 * np.pi * freq * times) \n",
    "    newy = newy.sum(axis=0)\n",
    "      \n",
    "    return newy\n",
    "\n",
    "def get_fast_fourier_transform(fft_y, f0, times, indices):\n",
    "   \n",
    "    nfft = len(times)  # number of sample count.  \n",
    "    k = np.arange(nfft)      \n",
    "    # recover      \n",
    "        \n",
    "    len_indices = len(indices)\n",
    "    freq = f0[indices] #f0[idxy[i]]  \n",
    "    yx = fft_y[indices] #fft_y[idxy[i]]  \n",
    "    coec = yx.real  \n",
    "    coes = yx.imag * -1\n",
    "    \n",
    "    freq = freq.reshape(len_indices,1) \n",
    "    coec = coec.reshape(len_indices,1)\n",
    "    coes = coes.reshape(len_indices,1)\n",
    "    times = times.reshape(1, nfft)\n",
    "        \n",
    "    freq_times = 2.0 * np.pi * freq * times\n",
    "    newy = coec * np.cos(2 * np.pi * freq * times) + coes * np.sin(2 * np.pi * freq * times) \n",
    "    newy = newy.sum(axis=0)\n",
    "      \n",
    "    return newy\n",
    "\n",
    "\n",
    "def get_certain_range_ifft(fft_y, len_data, range=(1, 2) ):   \n",
    "    if range[0]==0 and range[1]==1:\n",
    "        return np.fft.ifft(fft_y[:1], n=len_data)*len_data   # [0, 1,3,4,5,6,11, 12, 13, 17]        \n",
    "    ifft = np.fft.ifft(fft_y[:range[1]], n=len_data)*len_data   # [0, 1,3,4,5,6,11, 12, 13, 17]\n",
    "    ifft2 = np.fft.ifft(fft_y[:range[0]], n=len_data)*len_data   # [0, 1,3,4,5,6,11, 12, 13, 17]          \n",
    "    return ifft - ifft2"
   ]
  },
  {
   "cell_type": "code",
   "execution_count": 76,
   "id": "2478fbcf-98de-4dce-a6a2-c4f91d615eb5",
   "metadata": {},
   "outputs": [
    {
     "data": {
      "text/plain": [
       "(0, 15.39)"
      ]
     },
     "execution_count": 76,
     "metadata": {},
     "output_type": "execute_result"
    }
   ],
   "source": [
    "dt = 0.01\n",
    "t_eval = np.arange(1540)*dt  # times = np.linspace(0, 15.4, 77000)\n",
    "t_span = (0, t_eval.max())\n",
    "t_span"
   ]
  },
  {
   "cell_type": "markdown",
   "id": "797ae904-1f8f-4a92-b650-284d8872df6c",
   "metadata": {},
   "source": [
    "### Voltage protocol (leak_staircase)"
   ]
  },
  {
   "cell_type": "code",
   "execution_count": 77,
   "id": "52b8cecc-47e6-4421-8283-e980ba20cd2f",
   "metadata": {},
   "outputs": [
    {
     "data": {
      "image/png": "[encoded data removed]",
      "text/plain": [
       "<Figure size 1080x360 with 1 Axes>"
      ]
     },
     "metadata": {
      "needs_background": "light"
     },
     "output_type": "display_data"
    },
    {
     "name": "stdout",
     "output_type": "stream",
     "text": [
      "The protocol is 15.4 s\n"
     ]
    }
   ],
   "source": [
    "# VC_protocol = vc_protocols_for_myokit.leak_staircase()\n",
    "VC_protocol = vc_protocols.leak_staircase()\n",
    "VC_protocol.plot_voltage_clamp_protocol(t_eval)\n",
    "print(f'The protocol is {VC_protocol.get_voltage_change_endpoints()[-1]} s')"
   ]
  },
  {
   "cell_type": "code",
   "execution_count": 78,
   "id": "b75e557b-cf61-48aa-a3f8-6a8ce4cd107b",
   "metadata": {},
   "outputs": [
    {
     "name": "stdout",
     "output_type": "stream",
     "text": [
      "../../../../Dataset/herg25oc1_real_data\n"
     ]
    }
   ],
   "source": [
    "gen_params = {\n",
    "    'end_time': VC_protocol.get_voltage_change_endpoints()[-1],   \n",
    "    't_eval' : t_eval, \n",
    "    'log_li' : ['ikr.IKr', 'ikr.open', 'ikr.active'],\n",
    "    'save_log_li' : ['ikr.IKr'],\n",
    "    'nData' : 5,                             \n",
    "    'dataset_dir' : f'../../../../Dataset/herg25oc1_real_data',\n",
    "    'data_file_name' : 'IKr',\n",
    "    'window' : 0.01,\n",
    "    'step_size' : 0.01,\n",
    "    'window_type' : 'amax'\n",
    "}  \n",
    "# gen_params['dataset_dir'] = gen_params['dataset_dir'] + f\"_w{gen_params['window']}_s{gen_params['step_size']}\"\n",
    "print( gen_params['dataset_dir'] )\n",
    "\n",
    "sys.path.append(gen_params['dataset_dir'])\n",
    "from getdata import get_dataset, get_times"
   ]
  },
  {
   "cell_type": "markdown",
   "id": "01a3136e-fb1a-4e19-8e61-78e81fb406ee",
   "metadata": {},
   "source": [
    "### Get experimental dataset"
   ]
  },
  {
   "cell_type": "code",
   "execution_count": 82,
   "id": "cfc0b610-2b71-414d-9c0a-a1b794ac34ee",
   "metadata": {},
   "outputs": [
    {
     "name": "stdout",
     "output_type": "stream",
     "text": [
      "The number of full cells : 211\n",
      "The number of removed Cells : 0\n",
      "The number of cells : 211\n",
      "--- 4.339311599731445 seconds ---\n",
      "(211, 1540) (211, 9) (1540,)\n"
     ]
    }
   ],
   "source": [
    "cell_to_remove=['A04', 'A15', 'E05', 'E22', 'G10', 'G22', 'H08', 'I10', 'I12', 'I16', 'L08', 'P15', 'P18' ] # M24\n",
    "cell_to_remove=[]\n",
    "\n",
    "xs, ys, cells = get_dataset(cell_to_remove=cell_to_remove, scale=50, multi=True, torch_tensor=False)  # <-- fast\n",
    "times = get_times(scale=50)\n",
    "print(xs.shape, ys.shape, times.shape)"
   ]
  },
  {
   "cell_type": "markdown",
   "id": "8bfc0a3d-2eb1-4cfc-a985-41f9603ac19c",
   "metadata": {
    "tags": []
   },
   "source": [
    "### Check std of noise for experimental data"
   ]
  },
  {
   "cell_type": "code",
   "execution_count": 83,
   "id": "c52401ea-22ff-4c9a-b74f-16bd4e064490",
   "metadata": {},
   "outputs": [
    {
     "name": "stdout",
     "output_type": "stream",
     "text": [
      "min: 16.287210488503835  |  max: 360.0753317910074  |  avg: 108.57090435686354\n"
     ]
    }
   ],
   "source": [
    "check_range = 500\n",
    "\n",
    "std_li = []\n",
    "for x in xs:    \n",
    "    std_li.append(np.std(x[:check_range]))\n",
    "std_li = np.array(std_li)\n",
    "std_avg = std_li.mean()\n",
    "std_min = std_li.min()\n",
    "std_max = std_li.max()\n",
    "std_argmax = std_li.argmax()\n",
    "std_argmin = std_li.argmin()\n",
    "print(f\"min: {std_min}  |  max: {std_max}  |  avg: {std_avg}\")"
   ]
  },
  {
   "cell_type": "markdown",
   "id": "3ea79295-d170-4853-b1ea-57ffaa4deb67",
   "metadata": {},
   "source": [
    "### Modify experimental current"
   ]
  },
  {
   "cell_type": "code",
   "execution_count": 84,
   "id": "c4b5657d-e530-4917-87d3-088297370385",
   "metadata": {},
   "outputs": [],
   "source": [
    "# times_vc_params = {\n",
    "#     'time' : times,\n",
    "#     'vc' : VC_protocol,\n",
    "#     'neighbor_radius' : 5,\n",
    "#     'method' : 1\n",
    "# }\n",
    "\n",
    "# start_time = time.time()\n",
    "\n",
    "# pool = multiprocessing.Pool(processes=os.cpu_count())\n",
    "# func = partial(get_modified_current, times_vc_params)\n",
    "# modified_currents = pool.map(func, xs)\n",
    "# pool.close()\n",
    "# pool.join()\n",
    "\n",
    "# print(\"--- %s seconds ---\"%(time.time()-start_time))"
   ]
  },
  {
   "cell_type": "code",
   "execution_count": 85,
   "id": "2000eef9-de1f-40e0-a45a-3c03e162f6da",
   "metadata": {},
   "outputs": [],
   "source": [
    "# modified_currents = np.array(modified_currents)\n",
    "# modified_currents.shape"
   ]
  },
  {
   "cell_type": "code",
   "execution_count": null,
   "id": "1e3ba723-6a1b-46de-8902-a2156bf14cd8",
   "metadata": {},
   "outputs": [],
   "source": []
  },
  {
   "cell_type": "markdown",
   "id": "36a2709a-355a-44cc-ae8b-7d58ddfe8667",
   "metadata": {},
   "source": [
    "### Simulation setting"
   ]
  },
  {
   "cell_type": "code",
   "execution_count": 86,
   "id": "f221a929-decd-4a9b-89c8-8f682c578bed",
   "metadata": {},
   "outputs": [
    {
     "name": "stdout",
     "output_type": "stream",
     "text": [
      "--- 7.832903861999512 seconds ---\n"
     ]
    }
   ],
   "source": [
    "start_time = time.time()\n",
    "\n",
    "# hERG model settings\n",
    "temperature = 25.0\n",
    "temperature += 273.15  # in K\n",
    "fit_seed = '542811797'\n",
    "withfcap = False\n",
    "\n",
    "model, p, s = myokit.load(\"../../../mmt-model-files/kylie-2017-IKr.mmt\")    \n",
    "model.get('phys.T').set_rhs(temperature)\n",
    "# Set concentration\n",
    "model.get('potassium.Ko').set_rhs(float(4.0))\n",
    "model.get('potassium.Ki').set_rhs(float(110.0))\n",
    "\n",
    "sim = simulator_myokit.Simulator(model, VC_protocol, max_step=0.001, abs_tol=1e-12, rel_tol=1e-14, vhold=-80e-3)  # 1e-12, 1e-14  # 1e-08, 1e-10\n",
    "sim.name = \"kylie2017IKr\"  \n",
    "\n",
    "print(\"--- %s seconds ---\"%(time.time()-start_time))"
   ]
  },
  {
   "cell_type": "markdown",
   "id": "ccc79dc8-0a8f-40df-915d-a000c1450abe",
   "metadata": {},
   "source": [
    "### Set data to test"
   ]
  },
  {
   "cell_type": "code",
   "execution_count": 187,
   "id": "b29c0e7f-f913-4e3c-9b97-e766bb8f3668",
   "metadata": {},
   "outputs": [
    {
     "name": "stdout",
     "output_type": "stream",
     "text": [
      "Cell : A19\n",
      "[   0 1539    1 ...  924  616  770]\n",
      "(1540,)\n"
     ]
    },
    {
     "data": {
      "image/png": "[encoded data removed]",
      "text/plain": [
       "<Figure size 1440x504 with 1 Axes>"
      ]
     },
     "metadata": {
      "needs_background": "light"
     },
     "output_type": "display_data"
    }
   ],
   "source": [
    "test_index = 10\n",
    "\n",
    "fft_save_dir = f\"./data{test_index}_fft_results_fre\"\n",
    "# create_folder(fft_save_dir)\n",
    "\n",
    "print(f\"Cell : {cells[test_index]}\")\n",
    "test_raw = xs[test_index]\n",
    "# test_modified = modified_currents[test_index]\n",
    "\n",
    "\n",
    "model_params = {                    \n",
    "    'ikr.g' : ys[test_index, 0],  # random.uniform(parameter_ranges[0][0], parameter_ranges[0][1]),\n",
    "    'ikr.p1' : ys[test_index, 1],\n",
    "    'ikr.p2' : ys[test_index, 2],\n",
    "    'ikr.p3' : ys[test_index, 3],\n",
    "    'ikr.p4' : ys[test_index, 4],\n",
    "    'ikr.p5' : ys[test_index, 5],\n",
    "    'ikr.p6' : ys[test_index, 6],\n",
    "    'ikr.p7' : ys[test_index, 7],\n",
    "    'ikr.p8' : ys[test_index, 8],                \n",
    "} \n",
    "sim.set_simulation_params(model_params)                \n",
    "\n",
    "sim.pre_simulate(100, sim_type=1)\n",
    "d = sim.simulate( gen_params['end_time'], log_times=gen_params['t_eval'], extra_log=gen_params['log_li'])                           \n",
    "\n",
    "sim_result= {}\n",
    "sim_result[\"time\"] = d['engine.time']\n",
    "sim_result[\"IKr\"] = d['ikr.IKr'] # + np.random.normal(0, std_avg , d['ikr.IKr'].shape) # add noise\n",
    "sim_result[\"window\"] = get_currents_with_constant_dt(gen_params, [d['engine.time'], d['ikr.IKr']])\n",
    "sim_result[\"open\"] = d['ikr.open']\n",
    "sim_result[\"active\"] = d['ikr.open']\n",
    "# sim_result[\"params\"] = raw['params']\n",
    "\n",
    "'''\n",
    "Fourier Transform\n",
    "'''\n",
    "nCheck = 150\n",
    "'''\n",
    "# Frequency\n",
    "'''\n",
    "freq = np.fft.fftfreq(test_raw.size, d=dt)\n",
    "# freq = np.fft.fftshift(freq)\n",
    "# print(freq.shape)\n",
    "\n",
    "check_li = list(np.arange(101))\n",
    "remove_li = [8,9, 14, 17, 25, 26, 27, 28, 30, 31, 36, 41, 96, 100]\n",
    "for i in remove_li :\n",
    "    check_li.remove(i)\n",
    "# print(check_li)\n",
    "\n",
    "'''\n",
    "# fft for raw data\n",
    "'''\n",
    "y_raw = np.fft.fft(test_raw)/times.size \n",
    "# ifft_raw = np.fft.ifft(y_raw, n=len_data)*len_data   # [0, 1,3,4,5,6,11, 12, 13, 17]\n",
    "amp_raw = abs(y_raw)  # 벡터(복소수) norm 측정. 신호 강도. \n",
    "idxy_raw = np.argsort(-amp_raw) \n",
    "ifft_raw = inv_fast_fourier_transform(y_raw, freq, times, idxy_raw[:nCheck]    )  # idxy_raw[:nCheck]    check_li\n",
    "print(idxy_raw)\n",
    "\n",
    "'''\n",
    "# fft for simulation data\n",
    "'''\n",
    "y_sim = np.fft.fft(sim_result[\"IKr\"])/times.size   \n",
    "# ifft_sim = np.fft.ifft(y_sim, n=len_data)*len_data   # [0, 1,3,4,5,6,11, 12, 13, 17]\n",
    "# ifft_sim = get_certain_range_ifft(y_sim, len_data, (0, 1) )\n",
    "amp_sim = abs(y_sim)  # 벡터(복소수) norm 측정. 신호 강도. \n",
    "idxy_sim = np.argsort(-amp_sim) \n",
    "ifft_sim = inv_fast_fourier_transform(y_sim, freq, times, idxy_raw[:nCheck]    )  \n",
    "print(idxy_sim.shape)\n",
    "\n",
    "\n",
    "'''\n",
    "Plot\n",
    "'''\n",
    "fig, ax = plt.subplots(1,1, figsize=(20,7))     \n",
    "ax.set_title(f\"DataNo: {test_index}  |  nSumData: {nCheck}\")\n",
    "ax.set_xlabel('Time (s)')    \n",
    "# ax.set_xlim(1.5, 3)\n",
    "# ax.set_ylabel(f'IKr')      \n",
    "ax.plot(times, test_raw  , c='k', label='orginal', linewidth=6)  \n",
    "# ax.plot(sim_result[\"time\"], sim_result[\"IKr\"], c='b', label='ori_sim', linewidth=6)  \n",
    "ax.plot(times, ifft_raw, c='y', label='fft_raw', linewidth=3)  \n",
    "ax.plot(sim_result[\"time\"], ifft_sim.real, c='r', label='fft_sim', linewidth=3)  \n",
    "ax.legend()\n",
    "ax.grid()\n",
    "# fig.savefig(os.path.join('./fft_results_fre', f\"{topn[0]}.jpg\"), dpi=100)        \n",
    "plt.show()"
   ]
  },
  {
   "cell_type": "code",
   "execution_count": null,
   "id": "e93a4a08-a293-42a6-af92-b3235cfcb8e5",
   "metadata": {},
   "outputs": [],
   "source": [
    "ddddd"
   ]
  },
  {
   "cell_type": "code",
   "execution_count": 135,
   "id": "c1ce38c0-5e02-415a-81aa-36c8e41c0891",
   "metadata": {},
   "outputs": [],
   "source": [
    "# a = np.arange(3).reshape(3,1)\n",
    "# b = (2*np.ones(3)).reshape(3,1)\n",
    "# tt = np.ones(6).reshape(1,6)\n",
    "# cc = b* (a * tt)\n",
    "# print(cc)\n",
    "# cc = cc.sum(axis=0)\n",
    "# cc\n",
    "\n",
    "# vvv = np.arange(5)*10\n",
    "# print(vvv)\n",
    "# np.argsort(vvv)"
   ]
  },
  {
   "cell_type": "code",
   "execution_count": 126,
   "id": "f3972c98-2099-41f0-9218-c1e00f70da8f",
   "metadata": {},
   "outputs": [],
   "source": [
    "# nCheck = 100\n",
    "# indices = np.arange(nCheck)\n",
    "# is_plot = False\n",
    "# fs = 5000\n",
    "\n",
    "# # amp, freq, fft_y = fast_fourier_transform(times, test_raw, fs=fs, is_plot=False)\n",
    "# # ifft_raw = inv_fast_fourier_transform(fft_y, amp, freq, times, topn=topn)\n",
    "\n",
    "# # print(sim_result[\"time\"].shape, sim_result[\"IKr\"].shape)\n",
    "# amp, freq, fft_y = fast_fourier_transform(sim_result[\"time\"], sim_result[\"IKr\"], fs=fs, is_plot=True)\n",
    "# ifft_sim_JK = inv_fast_fourier_transform(fft_y, freq, sim_result[\"time\"], indices=indices)\n",
    "# # ifft_sim = np.fft.ifft(fft_y[:nCheck], n=77000)*77000  # [0, 1,3,4,5,6,11, 12, 13, 17]\n",
    "# print(ifft_sim_JK.shape)\n",
    "# #     fft_raw = fast_fourier_transform(times, test_raw, topn=topn, fs=fs, is_plot=is_plot)\n",
    "# #     fft_sim = fast_fourier_transform(sim_result[\"time\"], sim_result[\"IKr\"], topn=topn, fs=fs, is_plot=is_plot)"
   ]
  },
  {
   "cell_type": "code",
   "execution_count": 139,
   "id": "f23759be-f08e-4972-9e14-e79f7f1868cc",
   "metadata": {},
   "outputs": [
    {
     "name": "stdout",
     "output_type": "stream",
     "text": [
      "(1540,)\n",
      "Finish\n"
     ]
    },
    {
     "data": {
      "image/png": "[encoded data removed]",
      "text/plain": [
       "<Figure size 1440x504 with 1 Axes>"
      ]
     },
     "metadata": {
      "needs_background": "light"
     },
     "output_type": "display_data"
    }
   ],
   "source": [
    "dt = 0.0002 # 1/fs   # 0.001  \n",
    "fs = 10000\n",
    "\n",
    "# 주파수 생성  \n",
    "nfft = 2*len(times)  # number of sample count.  \n",
    "# print('nfft = ', nfft)  \n",
    "df = fs/nfft    # 주파수 증가량 = max freq / 샘플개수  \n",
    "k = np.arange(nfft)  \n",
    "f = k*df      # 0부터~최대주파수까지의 범위 (sample count 개수 만큼, df증가량으로 분포)  \n",
    "# 주파수 스펙트럼은 중앙을 기준으로 대칭이 된다. 반만 구한다.  \n",
    "nfft_half = math.trunc(nfft/2)  \n",
    "f0 = f[range(nfft_half)]      # only half size check for get hz.  \n",
    "\n",
    "'''\n",
    "# Frequency\n",
    "'''\n",
    "freq = np.fft.fftfreq(test_raw.size, d=dt)\n",
    "# freq = np.fft.fftshift(freq)\n",
    "print(freq.shape)\n",
    "\n",
    "for i in range(1):\n",
    "    '''\n",
    "    # fft for raw data\n",
    "    '''\n",
    "    y_raw = np.fft.fft(test_raw)/times.size \n",
    "    # ifft_raw = np.fft.ifft(y_raw[:], n=len_data)*len_data   # [0, 1,3,4,5,6,11, 12, 13, 17]\n",
    "    amp_raw = abs(y_raw)  # 벡터(복소수) norm 측정. 신호 강도. \n",
    "    idxy_raw = np.argsort(-amp_raw) \n",
    "    ifft_raw = inv_fast_fourier_transform(y_raw, freq, times, [i])  # idxy_raw[:nCheck]    \n",
    "    # print(idxy_raw)\n",
    "\n",
    "    '''\n",
    "    # fft for simulation data\n",
    "    '''\n",
    "    y_sim = np.fft.fft(sim_result[\"IKr\"])/len_data   \n",
    "#     ifft_sim = get_certain_range_ifft(y_sim, len_data, (i, i+1) )\n",
    "    amp_sim = abs(y_sim)  # 벡터(복소수) norm 측정. 신호 강도. \n",
    "    idxy_sim = np.argsort(-amp_sim) \n",
    "    ifft_sim = inv_fast_fourier_transform(y_sim, freq, times, [i])  \n",
    "    # print(idxy_sim)\n",
    "\n",
    "\n",
    "    fig, ax = plt.subplots(1,1, figsize=(20,7))     \n",
    "    ax.set_title(f\"{i} - raw : {amp_raw[i]} | sim : {amp_sim[i]} | diff : {abs(amp_raw[i]-amp_sim[i])}\")\n",
    "    # ax.set_xlabel('Time (ms)')       \n",
    "    # ax.set_ylabel(f'IKr')      \n",
    "    # ax.plot(times, test_real  , c='k', label='orginal')  \n",
    "    # ax.plot(times, test_raw  , c='k', label='orginal', linewidth=6)  \n",
    "    ax.plot(times, ifft_raw, c='y', label='fft_raw', linewidth=3)  \n",
    "    # ax.plot(sim_result[\"time\"], sim_result[\"IKr\"], c='b', label='ori_sim', linewidth=6)  \n",
    "    ax.plot(sim_result[\"time\"], ifft_sim.real, c='r', label='fft_sim', linewidth=3)  \n",
    "    # ax.plot(sim_result[\"time\"], ifft_sim_JK, c='r', label='fft_sim_JK', linewidth=1)\n",
    "    ax.legend()\n",
    "    ax.grid()\n",
    "#     fig.savefig(os.path.join(fft_save_dir, f\"{i}.jpg\"), dpi=64)        \n",
    "#     plt.show()\n",
    "print(\"Finish\")"
   ]
  },
  {
   "cell_type": "code",
   "execution_count": 20,
   "id": "5055bd63-999c-471d-977c-6009e654163e",
   "metadata": {},
   "outputs": [
    {
     "name": "stdout",
     "output_type": "stream",
     "text": [
      "(7,)\n",
      "(1000,)\n",
      "(1000,)\n",
      "(1000,)\n"
     ]
    },
    {
     "data": {
      "image/png": "[encoded data removed]",
      "text/plain": [
       "<Figure size 432x288 with 1 Axes>"
      ]
     },
     "metadata": {
      "needs_background": "light"
     },
     "output_type": "display_data"
    },
    {
     "name": "stderr",
     "output_type": "stream",
     "text": [
      "C:\\Anaconda3\\envs\\ml\\lib\\site-packages\\numpy\\core\\_asarray.py:83: ComplexWarning: Casting complex values to real discards the imaginary part\n",
      "  return array(a, dtype, copy=False, order=order)\n"
     ]
    },
    {
     "data": {
      "image/png": "[encoded data removed]",
      "text/plain": [
       "<Figure size 432x288 with 1 Axes>"
      ]
     },
     "metadata": {
      "needs_background": "light"
     },
     "output_type": "display_data"
    }
   ],
   "source": [
    "\n",
    "\n",
    "t = np.linspace(0, 1, 1000)\n",
    "s1 = 2*np.sin(2*np.pi*10*t) \n",
    "s2 = np.sin(2*np.pi*20*t)\n",
    "s3 = 0.5*np.sin(2*np.pi*30*t)\n",
    "s4 = 1.5*np.sin(2*np.pi*40*t)\n",
    "\n",
    "s = s1 + s2 + s3 + s4\n",
    "\n",
    "nCheck = 5\n",
    "\n",
    "check_li = np.arange(nCheck)\n",
    "check_li = np.array([0,1,2, 3,4,5,6])\n",
    "# check_li = check_li.reshape(check_li.shape[0], 1)\n",
    "print(check_li.shape)\n",
    "\n",
    "# amp, freq, fft_y = fast_fourier_transform(t, s, fs=1000, is_plot=False)\n",
    "# ifft1 = inv_fast_fourier_transform(fft_y, amp, freq, t, topn=check_li)\n",
    "# print(ifft1.shape)\n",
    "\n",
    "len_data = len(t)\n",
    "Y_raw = np.fft.fft(s)/len_data \n",
    "ifft2 = np.fft.ifft(Y_raw, n=1000)*len_data   # [0, 1,3,4,5,6,11, 12, 13, 17]\n",
    "print(ifft2.shape)\n",
    "\n",
    "freq = np.fft.fftfreq(s.size, d=0.001)\n",
    "print(freq.shape)\n",
    "\n",
    "Y_raw = scipy.fft.fft(s)/len_data \n",
    "ifft3 = scipy.fft.ifft(Y_raw, n=1000)*len_data   # [0, 1,3,4,5,6,11, 12, 13, 17]\n",
    "print(ifft3.shape)\n",
    "\n",
    "amp = abs(Y_raw)\n",
    "# print(amp, amp)\n",
    "# nfft = len(t)  # number of sample count.\n",
    "# nfft_half = math.trunc(nfft/2)  \n",
    "# # print(fft_s.shape)\n",
    "# # f0 = f[range(nfft_half)]      # only half size check for get hz.  \n",
    "# fft_s = np.fft.fft(s)/len(t) *2 \n",
    "# print(fft_s.shape)\n",
    "# y0 = fft_s[range(nfft_half)]       # one side.  \n",
    "# print(y0.shape)\n",
    "# amp = abs(y0)  # 벡터(복소수) norm 측정. 신호 강도. \n",
    "# idxy = np.argsort(-amp) \n",
    "# print(idxy.shape)\n",
    "# # print(idxy[:10000])\n",
    "# print(fft_s[10])\n",
    "# print(idxy[:10])\n",
    "# print(fft_s[idxy[:10]])\n",
    "# ifft_s2 = np.fft.ifft(fft_s[idxy[:]])*len(t) /2\n",
    "\n",
    "# plt.xlim(-100, 0)\n",
    "plt.plot( freq, amp, label='freq')\n",
    "plt.legend()\n",
    "plt.show()\n",
    "\n",
    "plt.xlim(0, 100)\n",
    "# plt.ylim(0, 1200, 200)\n",
    "# plt.plot(s, label='raw')\n",
    "# plt.plot(t, ifft1, label='ifft1')\n",
    "plt.plot(ifft2, label='ifft2')\n",
    "plt.legend()\n",
    "plt.show()"
   ]
  },
  {
   "cell_type": "code",
   "execution_count": null,
   "id": "9d904583-82c4-49d5-b219-efe5805f9d46",
   "metadata": {},
   "outputs": [],
   "source": []
  },
  {
   "cell_type": "code",
   "execution_count": 21,
   "id": "63463677-bcc0-4794-8b73-80e5028384e7",
   "metadata": {},
   "outputs": [],
   "source": [
    "# topn = 100\n",
    "# is_plot = False\n",
    "# fs = 5000\n",
    "\n",
    "# newy_raw = fast_fourier_transform(times, test_raw, topn=topn, fs=fs, is_plot=is_plot)\n",
    "# newy_modified = fast_fourier_transform(times, test_modified, topn=topn, fs=fs, is_plot=is_plot)\n",
    "# newy_sim = fast_fourier_transform(sim_result[\"time\"], sim_result[\"IKr\"], topn=topn, fs=fs, is_plot=is_plot)"
   ]
  },
  {
   "cell_type": "code",
   "execution_count": null,
   "id": "2c6159a2-e943-4655-83af-d25030969e71",
   "metadata": {},
   "outputs": [],
   "source": []
  },
  {
   "cell_type": "code",
   "execution_count": 22,
   "id": "dac691fb-76c3-45f8-9117-97888e2182b9",
   "metadata": {},
   "outputs": [],
   "source": [
    "# fig, ax = plt.subplots(1,1, figsize=(30,20))     \n",
    "# # ax.set_xlabel('Time (ms)')       \n",
    "# # ax.set_ylabel(f'IKr')      \n",
    "# ax.plot(times, test_raw  , c='k', label='orginal', linewidth=7)  \n",
    "# ax.plot(times, test_modified, c='y', label='modified', linewidth=4)  \n",
    "# ax.plot(sim_result[\"time\"], sim_result[\"IKr\"], c='r', label='sim', linewidth=1)  \n",
    "# ax.legend()\n",
    "# ax.grid()\n",
    "# plt.show()"
   ]
  },
  {
   "cell_type": "code",
   "execution_count": 23,
   "id": "7d791e70-bb08-4d86-b62e-f51cbd275a3d",
   "metadata": {},
   "outputs": [
    {
     "name": "stdout",
     "output_type": "stream",
     "text": [
      "(101, 1)\n"
     ]
    },
    {
     "ename": "TypeError",
     "evalue": "inv_fast_fourier_transform() got an unexpected keyword argument 'topn'",
     "output_type": "error",
     "traceback": [
      "\u001b[1;31m---------------------------------------------------------------------------\u001b[0m",
      "\u001b[1;31mTypeError\u001b[0m                                 Traceback (most recent call last)",
      "\u001b[1;32m<ipython-input-23-793da49b14ee>\u001b[0m in \u001b[0;36m<module>\u001b[1;34m\u001b[0m\n\u001b[0;32m      8\u001b[0m \u001b[1;33m\u001b[0m\u001b[0m\n\u001b[0;32m      9\u001b[0m     \u001b[0mamp\u001b[0m\u001b[1;33m,\u001b[0m \u001b[0mfreq\u001b[0m\u001b[1;33m,\u001b[0m \u001b[0mfft_y\u001b[0m \u001b[1;33m=\u001b[0m \u001b[0mfast_fourier_transform\u001b[0m\u001b[1;33m(\u001b[0m\u001b[0mtimes\u001b[0m\u001b[1;33m,\u001b[0m \u001b[0mtest_raw\u001b[0m\u001b[1;33m,\u001b[0m \u001b[0mfs\u001b[0m\u001b[1;33m=\u001b[0m\u001b[0mfs\u001b[0m\u001b[1;33m,\u001b[0m \u001b[0mis_plot\u001b[0m\u001b[1;33m=\u001b[0m\u001b[1;32mFalse\u001b[0m\u001b[1;33m)\u001b[0m\u001b[1;33m\u001b[0m\u001b[1;33m\u001b[0m\u001b[0m\n\u001b[1;32m---> 10\u001b[1;33m     \u001b[0mifft_raw\u001b[0m \u001b[1;33m=\u001b[0m \u001b[0minv_fast_fourier_transform\u001b[0m\u001b[1;33m(\u001b[0m\u001b[0mfft_y\u001b[0m\u001b[1;33m,\u001b[0m \u001b[0mamp\u001b[0m\u001b[1;33m,\u001b[0m \u001b[0mfreq\u001b[0m\u001b[1;33m,\u001b[0m \u001b[0mtimes\u001b[0m\u001b[1;33m,\u001b[0m \u001b[0mtopn\u001b[0m\u001b[1;33m=\u001b[0m\u001b[0mtopn\u001b[0m\u001b[1;33m)\u001b[0m\u001b[1;33m\u001b[0m\u001b[1;33m\u001b[0m\u001b[0m\n\u001b[0m\u001b[0;32m     11\u001b[0m \u001b[1;33m\u001b[0m\u001b[0m\n\u001b[0;32m     12\u001b[0m     \u001b[1;31m# print(sim_result[\"time\"].shape, sim_result[\"IKr\"].shape)\u001b[0m\u001b[1;33m\u001b[0m\u001b[1;33m\u001b[0m\u001b[1;33m\u001b[0m\u001b[0m\n",
      "\u001b[1;31mTypeError\u001b[0m: inv_fast_fourier_transform() got an unexpected keyword argument 'topn'"
     ]
    }
   ],
   "source": [
    "check_li = np.arange(1, 102)\n",
    "check_li = check_li.reshape(check_li.shape[0], 1)\n",
    "print(check_li.shape)\n",
    "for topn in check_li:\n",
    "#     topn = 3\n",
    "    is_plot = False\n",
    "    fs = 5000\n",
    "\n",
    "    amp, freq, fft_y = fast_fourier_transform(times, test_raw, fs=fs, is_plot=False)\n",
    "    ifft_raw = inv_fast_fourier_transform(fft_y, amp, freq, times, topn=topn)\n",
    "    \n",
    "    # print(sim_result[\"time\"].shape, sim_result[\"IKr\"].shape)\n",
    "    amp, freq, fft_y = fast_fourier_transform(sim_result[\"time\"], sim_result[\"IKr\"], fs=fs, is_plot=False)\n",
    "    ifft_sim = inv_fast_fourier_transform(fft_y, amp, freq, sim_result[\"time\"], topn=topn)\n",
    "    # print(ifft_sim.shape)\n",
    "#     fft_raw = fast_fourier_transform(times, test_raw, topn=topn, fs=fs, is_plot=is_plot)\n",
    "#     fft_sim = fast_fourier_transform(sim_result[\"time\"], sim_result[\"IKr\"], topn=topn, fs=fs, is_plot=is_plot)\n",
    "\n",
    "    fig, ax = plt.subplots(1,1, figsize=(30,20))     \n",
    "    ax.set_title(f\"{topn}\")\n",
    "    # ax.set_xlabel('Time (ms)')       \n",
    "    # ax.set_ylabel(f'IKr')      \n",
    "    # ax.plot(times, test_real  , c='k', label='orginal')  \n",
    "    # ax.plot(times, test_raw  , c='k', label='orginal', linewidth=7)  \n",
    "    ax.plot(times, ifft_raw, c='y', label='fft_raw', linewidth=5)  \n",
    "    # ax.plot(times, newy_modified, c='y', label='fft_modified', linewidth=4)  \n",
    "    # ax.plot(sim_result[\"time\"], sim_result[\"IKr\"], c='c', label='sim', linewidth=3)  \n",
    "    ax.plot(sim_result[\"time\"], ifft_sim, c='r', label='fft_sim', linewidth=1)  \n",
    "    ax.legend()\n",
    "    ax.grid()\n",
    "    fig.savefig(os.path.join('./fft_results_fre', f\"{topn[0]}.jpg\"), dpi=100)        \n",
    "#     plt.show()"
   ]
  },
  {
   "cell_type": "markdown",
   "id": "bf243b3b-39aa-4008-9790-94cfd2bb0581",
   "metadata": {},
   "source": [
    "fig, ax = plt.subplots(1,1, figsize=(30,20))     \n",
    "# ax.set_xlabel('Time (ms)')       \n",
    "# ax.set_ylabel(f'IKr')      \n",
    "# ax.plot(times, test_raw  , c='k', label='orginal', linewidth=7)  \n",
    "ax.plot(sim_result[\"time\"], newy_sim, c='k', label='fft_sim', linewidth=5)  \n",
    "ax.plot(sim_result[\"time\"], sim_result[\"IKr\"], c='r', label='sim', linewidth=2)  \n",
    "ax.legend()\n",
    "ax.grid()\n",
    "plt.show()"
   ]
  },
  {
   "cell_type": "code",
   "execution_count": null,
   "id": "2eab7e50-beb5-4db7-bd09-072147653f5d",
   "metadata": {},
   "outputs": [],
   "source": [
    "# # outlier 찾기. 사분위수 사용. boxplot.  \n",
    "# ampsort = np.sort(amp)  \n",
    "# q1, q3 = np.percentile(ampsort, [27, 73])  \n",
    "# iqr = q3-q1  \n",
    "# upper_bound = q3+1.5*iqr  \n",
    "# print('q1=',q1, 'q3=',q3, 'upper_bound=', upper_bound)  \n",
    "# outer = ampsort[ampsort>upper_bound]  \n",
    "# print('outer cnt=', len(outer))  \n",
    "# topn = len(outer)  \n",
    "\n",
    "# # print(outer)\n"
   ]
  },
  {
   "cell_type": "markdown",
   "id": "12dc929d-bc69-48e4-a6ad-43a4ca700bc4",
   "metadata": {},
   "source": [
    "### Create a folder for results"
   ]
  },
  {
   "cell_type": "code",
   "execution_count": null,
   "id": "a104d982-35cc-417b-9817-32dde27070cc",
   "metadata": {},
   "outputs": [],
   "source": [
    "dir_name = f\"./modified_experimental_data_type{times_vc_params['method']}_w{gen_params['window']}_s{gen_params['step_size']}_{gen_params['window_type']}\"\n",
    "print(dir_name)\n",
    "create_folder(dir_name)"
   ]
  },
  {
   "cell_type": "markdown",
   "id": "0f1bb071-6fe4-4008-ad09-ceac08fb3eb4",
   "metadata": {},
   "source": [
    "### VC protocol"
   ]
  },
  {
   "cell_type": "code",
   "execution_count": null,
   "id": "b675a1fa-a6de-4511-a053-809d63487686",
   "metadata": {},
   "outputs": [],
   "source": [
    "voltages = np.array(VC_protocol.get_voltage_clamp_protocol(times))*1000"
   ]
  },
  {
   "cell_type": "markdown",
   "id": "7e825d54-3be4-4fc4-a5bc-63ea59a3380d",
   "metadata": {
    "tags": []
   },
   "source": [
    "### Save and show results"
   ]
  },
  {
   "cell_type": "code",
   "execution_count": null,
   "id": "8ab6cd7a-f8e8-492e-861c-f98ea7392f45",
   "metadata": {},
   "outputs": [],
   "source": [
    "def show_results(is_plot=True, index=0):\n",
    "        \n",
    "    raw = {}\n",
    "    raw['time'] = times\n",
    "    raw['IKr'] = xs[index]\n",
    "    raw['window'] = get_currents_with_constant_dt(gen_params, [times, xs[index]])\n",
    "    raw['params'] = ys[index]\n",
    "    # print(np.array(raw['window']).shape)\n",
    "    modified = {}\n",
    "    modified['time'] = times\n",
    "    modified['IKr'] = modified_currents[index]\n",
    "    modified['window'] = get_currents_with_constant_dt(gen_params, [times, modified_currents[index]])\n",
    "        \n",
    "    model_params = {                    \n",
    "        'ikr.g' : raw['params'][0],  # random.uniform(parameter_ranges[0][0], parameter_ranges[0][1]),\n",
    "        'ikr.p1' : raw['params'][1],\n",
    "        'ikr.p2' : raw['params'][2],\n",
    "        'ikr.p3' : raw['params'][3],\n",
    "        'ikr.p4' : raw['params'][4],\n",
    "        'ikr.p5' : raw['params'][5],\n",
    "        'ikr.p6' : raw['params'][6],\n",
    "        'ikr.p7' : raw['params'][7],\n",
    "        'ikr.p8' : raw['params'][8],                \n",
    "    } \n",
    "    sim.set_simulation_params(model_params)                \n",
    "\n",
    "    sim.pre_simulate(100, sim_type=1)\n",
    "    d = sim.simulate( gen_params['end_time'], log_times=gen_params['t_eval'], extra_log=gen_params['log_li'])                           \n",
    "    \n",
    "    sim_result= {}\n",
    "    sim_result[\"time\"] = d['engine.time']\n",
    "    sim_result[\"IKr\"] = d['ikr.IKr'] # + np.random.normal(0, std_avg , d['ikr.IKr'].shape) # add noise\n",
    "    sim_result[\"window\"] = get_currents_with_constant_dt(gen_params, [d['engine.time'], d['ikr.IKr']])\n",
    "    sim_result[\"open\"] = d['ikr.open']\n",
    "    sim_result[\"active\"] = d['ikr.open']\n",
    "    sim_result[\"params\"] = raw['params']\n",
    "    \n",
    "    fig, ax = plt.subplots(3,1, figsize=(20,10))    \n",
    "    # fig.suptitle(sim.name, fontsize=14)\n",
    "    # if name!='Time Start' and name!='Time End' and name!='Time Mid':\n",
    "    # ax.set_title('Simulation %d'%(simulationNo))    \n",
    "    # ax.set_ylim(ylim[0], ylim[1])\n",
    "    \n",
    "    ax[0].set_xlabel('Time (ms)')       \n",
    "    ax[0].set_ylabel(f'Voltage')      \n",
    "    ax[0].plot( times, voltages, label='VC', color='k')\n",
    "    \n",
    "    ax[1].set_xlabel('Time (ms)')       \n",
    "    ax[1].set_ylabel(f'IKr')      \n",
    "    ax[1].plot( raw['time'], raw['IKr'], label='raw', color='k', linewidth=5)         \n",
    "    ax[1].plot( modified['time'], modified['IKr'], label='modified', color='y', linewidth=3)         \n",
    "    ax[1].plot( sim_result['time'], sim_result['IKr'], label='sim', color='r', linewidth=1)\n",
    "    ax[1].legend()\n",
    "    ax[1].grid()\n",
    "    \n",
    "    # ax[2].set_xlabel('Time (ms)')       \n",
    "    ax[2].set_ylabel(f'IKr')      \n",
    "    ax[2].plot(  raw['window'], label='raw', color='k', linewidth=5)         \n",
    "    ax[2].plot(  modified['window'], label='modified', color='y', linewidth=3)         \n",
    "    ax[2].plot(  sim_result['window'], label='sim', color='r', linewidth=1)\n",
    "    ax[2].legend()\n",
    "    ax[2].grid()\n",
    "    \n",
    "    xrange = (0.895, 0.9)\n",
    "    # ax[0].set_xlim(xrange[1]-0.0002, xrange[1]+0.0002*50)\n",
    "    # ax[1].set_xlim(xrange[1]-0.0002, xrange[1]+0.0002*50)\n",
    "    # ax[-1].set_ylim(-5, 5)\n",
    "    plt.subplots_adjust(left=0.07, bottom=0.1, right=0.95, top=0.95, wspace=0.5, hspace=0.04)\n",
    "    \n",
    "    if is_plot:\n",
    "        plt.show()\n",
    "    else:\n",
    "        fig.savefig(os.path.join(dir_name, f\"{cells[index]}.jpg\"), dpi=100)        "
   ]
  },
  {
   "cell_type": "code",
   "execution_count": null,
   "id": "ab60dbc9-ed3d-4fc3-a15e-4107dba6986d",
   "metadata": {},
   "outputs": [],
   "source": [
    "start_time = time.time()\n",
    "\n",
    "for i in np.arange(1) : #np.random.randint(0, len(modified_current), size=5 ) # [1, 3, 4, 5, 6, 7]:    \n",
    "    show_results(is_plot=True, index=i)    \n",
    "    \n",
    "print(\"--- %s seconds ---\"%(time.time()-start_time))"
   ]
  },
  {
   "cell_type": "code",
   "execution_count": null,
   "id": "ab458a0e-c5d7-4e6a-95a0-e6c832c3fa59",
   "metadata": {},
   "outputs": [],
   "source": [
    "# start_time = time.time()\n",
    "\n",
    "# save_indices = np.arange(211) #np.random.randint(0, len(modified_current), size=5 ) # [1, 3, 4, 5, 6, 7]\n",
    "\n",
    "# pool = multiprocessing.Pool(processes=os.cpu_count())\n",
    "# func = partial(show_results, False)\n",
    "# pool.map(func, save_indices)\n",
    "# pool.close()\n",
    "# pool.join()\n",
    "\n",
    "# print(\"--- %s seconds ---\"%(time.time()-start_time))"
   ]
  },
  {
   "cell_type": "code",
   "execution_count": null,
   "id": "52700916-5814-4aeb-9095-64f4b7ac0c93",
   "metadata": {},
   "outputs": [],
   "source": []
  },
  {
   "cell_type": "code",
   "execution_count": null,
   "id": "6e6e4fcf-5e9b-4c31-a134-9545108b2a31",
   "metadata": {},
   "outputs": [],
   "source": []
  },
  {
   "cell_type": "code",
   "execution_count": null,
   "id": "39e06447-93cd-476a-bfb4-619731c55d5d",
   "metadata": {},
   "outputs": [],
   "source": []
  },
  {
   "cell_type": "code",
   "execution_count": null,
   "id": "170399e3-2a31-4a0e-84ef-4643e25a73a7",
   "metadata": {},
   "outputs": [],
   "source": []
  },
  {
   "cell_type": "code",
   "execution_count": null,
   "id": "f3e6f447-69db-4896-88c2-c6d6504584d1",
   "metadata": {},
   "outputs": [],
   "source": []
  }
 ],
 "metadata": {
  "kernelspec": {
   "display_name": "Python 3",
   "language": "python",
   "name": "python3"
  },
  "language_info": {
   "codemirror_mode": {
    "name": "ipython",
    "version": 3
   },
   "file_extension": ".py",
   "mimetype": "text/x-python",
   "name": "python",
   "nbconvert_exporter": "python",
   "pygments_lexer": "ipython3",
   "version": "3.8.10"
  }
 },
 "nbformat": 4,
 "nbformat_minor": 5
}
