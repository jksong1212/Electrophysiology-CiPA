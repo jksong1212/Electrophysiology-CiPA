{
 "cells": [
  {
   "cell_type": "code",
   "execution_count": 113,
   "id": "db5fa8d3-e1b5-438c-a6ad-9e3ca8c59895",
   "metadata": {},
   "outputs": [],
   "source": [
    "import numpy as np\n",
    "import pandas as pd\n",
    "import scipy.optimize as opt\n",
    "import matplotlib.pyplot as plt\n",
    "import seaborn as sns\n",
    "# %matplotlib inline"
   ]
  },
  {
   "cell_type": "code",
   "execution_count": 304,
   "id": "bcd56e51-e36f-4b01-9142-2f48543f8ede",
   "metadata": {},
   "outputs": [],
   "source": [
    "# def ll4(x,b,c,d,e):\n",
    "#     '''This function is basically a copy of the LL.4 function from the R drc package with\n",
    "#      - b: hill slope\n",
    "#      - c: min response\n",
    "#      - d: max response\n",
    "#      - e: EC50'''\n",
    "#     return (c+(d-c)/(1+np.exp(b*(np.log(x)-np.log(e)))))\n",
    "\n",
    "\n",
    "def ll4(conc, h, IC50):\n",
    "    # print(conc)\n",
    "    '''This function is basically a copy of the LL.4 function from the R drc package with\n",
    "     - h: hill slope\n",
    "     - a: min response\n",
    "     - b: max response\n",
    "     - IC50: IC50'''\n",
    "    # return a+(b-a)/(1+np.exp(h*(np.log(conc)-np.log(IC50))))\n",
    "    return 100.0/(1+(conc/IC50)**h)\n",
    "\n",
    "\n",
    "\n",
    "def pDose(x):\n",
    "    '''This is just a helper function, to compute easily log transformed concentrations used in drug discovery'''\n",
    "    return(-np.log10(1e-6*x))"
   ]
  },
  {
   "cell_type": "markdown",
   "id": "c036c325-5b3d-451a-9171-5e4173def609",
   "metadata": {},
   "source": [
    "### Generating data"
   ]
  },
  {
   "cell_type": "code",
   "execution_count": 305,
   "id": "59a2d850-cd37-4aaf-899b-b89f31ffb49f",
   "metadata": {},
   "outputs": [
    {
     "data": {
      "text/plain": [
       "array([ 2,  4,  6,  8, 10, 12, 14, 16, 18, 20, 30, 40, 50])"
      ]
     },
     "execution_count": 305,
     "metadata": {},
     "output_type": "execute_result"
    }
   ],
   "source": [
    "doses = np.append(np.arange(1,11), [15, 20, 25], axis=0)\n",
    "# doses = np.arange(1, 100)\n",
    "cmax = 2\n",
    "concs = doses*cmax\n",
    "concs"
   ]
  },
  {
   "cell_type": "code",
   "execution_count": 306,
   "id": "b0d1ec30-9a3b-4fb2-b0a3-78dea3c52ab4",
   "metadata": {},
   "outputs": [],
   "source": [
    "params = [\n",
    "    { 'compound': 'diltiazem',  'h': 0.714205489,   'IC50': 112.1303862 },\n",
    "    # { 'compound': 'A',  'b': 1,    'c': 0,   'd': 100,  'e': 0.4,   'startDose': 10,  'nDose': 8,  'dilution': 3 },\n",
    "    # { 'compound': 'B',  'b': 0.7,  'c': 0,   'd': 86,   'e': 1.3,   'startDose': 30,  'nDose': 8,  'dilution': 3 },\n",
    "    # { 'compound': 'C',  'b': 2,    'c': 24,  'd': 152,  'e': 0.02,  'startDose': 3,   'nDose': 8,  'dilution': 3 }\n",
    "]\n",
    "\n",
    "# dilution "
   ]
  },
  {
   "cell_type": "code",
   "execution_count": 307,
   "id": "88b19a5c-4133-44bc-a825-8019050d523c",
   "metadata": {},
   "outputs": [
    {
     "data": {
      "text/plain": [
       "13"
      ]
     },
     "execution_count": 307,
     "metadata": {},
     "output_type": "execute_result"
    }
   ],
   "source": [
    "len(rep.response)"
   ]
  },
  {
   "cell_type": "code",
   "execution_count": 308,
   "id": "d3f4aa78-2d84-43ee-b13b-3c57d60583b1",
   "metadata": {},
   "outputs": [
    {
     "data": {
      "text/plain": [
       "13.477373857272662"
      ]
     },
     "execution_count": 308,
     "metadata": {},
     "output_type": "execute_result"
    }
   ],
   "source": [
    "np.random.normal(len(rep.response)) "
   ]
  },
  {
   "cell_type": "code",
   "execution_count": 309,
   "id": "de71c7e1-f1d2-46b7-9b86-59401e4f467a",
   "metadata": {},
   "outputs": [
    {
     "data": {
      "text/html": [
       "<div>\n",
       "<style scoped>\n",
       "    .dataframe tbody tr th:only-of-type {\n",
       "        vertical-align: middle;\n",
       "    }\n",
       "\n",
       "    .dataframe tbody tr th {\n",
       "        vertical-align: top;\n",
       "    }\n",
       "\n",
       "    .dataframe thead th {\n",
       "        text-align: right;\n",
       "    }\n",
       "</style>\n",
       "<table border=\"1\" class=\"dataframe\">\n",
       "  <thead>\n",
       "    <tr style=\"text-align: right;\">\n",
       "      <th></th>\n",
       "      <th>compound</th>\n",
       "      <th>dose</th>\n",
       "      <th>logDose</th>\n",
       "      <th>response</th>\n",
       "    </tr>\n",
       "  </thead>\n",
       "  <tbody>\n",
       "    <tr>\n",
       "      <th>0</th>\n",
       "      <td>diltiazem</td>\n",
       "      <td>2</td>\n",
       "      <td>5.698970</td>\n",
       "      <td>94.663504</td>\n",
       "    </tr>\n",
       "    <tr>\n",
       "      <th>1</th>\n",
       "      <td>diltiazem</td>\n",
       "      <td>4</td>\n",
       "      <td>5.397940</td>\n",
       "      <td>91.534445</td>\n",
       "    </tr>\n",
       "    <tr>\n",
       "      <th>2</th>\n",
       "      <td>diltiazem</td>\n",
       "      <td>6</td>\n",
       "      <td>5.221849</td>\n",
       "      <td>89.003751</td>\n",
       "    </tr>\n",
       "    <tr>\n",
       "      <th>3</th>\n",
       "      <td>diltiazem</td>\n",
       "      <td>8</td>\n",
       "      <td>5.096910</td>\n",
       "      <td>86.825992</td>\n",
       "    </tr>\n",
       "    <tr>\n",
       "      <th>4</th>\n",
       "      <td>diltiazem</td>\n",
       "      <td>10</td>\n",
       "      <td>5.000000</td>\n",
       "      <td>84.893724</td>\n",
       "    </tr>\n",
       "    <tr>\n",
       "      <th>5</th>\n",
       "      <td>diltiazem</td>\n",
       "      <td>12</td>\n",
       "      <td>4.920819</td>\n",
       "      <td>83.146907</td>\n",
       "    </tr>\n",
       "    <tr>\n",
       "      <th>6</th>\n",
       "      <td>diltiazem</td>\n",
       "      <td>14</td>\n",
       "      <td>4.853872</td>\n",
       "      <td>81.547406</td>\n",
       "    </tr>\n",
       "    <tr>\n",
       "      <th>7</th>\n",
       "      <td>diltiazem</td>\n",
       "      <td>16</td>\n",
       "      <td>4.795880</td>\n",
       "      <td>80.068972</td>\n",
       "    </tr>\n",
       "    <tr>\n",
       "      <th>8</th>\n",
       "      <td>diltiazem</td>\n",
       "      <td>18</td>\n",
       "      <td>4.744727</td>\n",
       "      <td>78.692511</td>\n",
       "    </tr>\n",
       "    <tr>\n",
       "      <th>9</th>\n",
       "      <td>diltiazem</td>\n",
       "      <td>20</td>\n",
       "      <td>4.698970</td>\n",
       "      <td>77.403559</td>\n",
       "    </tr>\n",
       "    <tr>\n",
       "      <th>10</th>\n",
       "      <td>diltiazem</td>\n",
       "      <td>30</td>\n",
       "      <td>4.522879</td>\n",
       "      <td>71.943382</td>\n",
       "    </tr>\n",
       "    <tr>\n",
       "      <th>11</th>\n",
       "      <td>diltiazem</td>\n",
       "      <td>40</td>\n",
       "      <td>4.397940</td>\n",
       "      <td>67.616233</td>\n",
       "    </tr>\n",
       "    <tr>\n",
       "      <th>12</th>\n",
       "      <td>diltiazem</td>\n",
       "      <td>50</td>\n",
       "      <td>4.301030</td>\n",
       "      <td>64.033547</td>\n",
       "    </tr>\n",
       "  </tbody>\n",
       "</table>\n",
       "</div>"
      ],
      "text/plain": [
       "     compound  dose   logDose   response\n",
       "0   diltiazem     2  5.698970  94.663504\n",
       "1   diltiazem     4  5.397940  91.534445\n",
       "2   diltiazem     6  5.221849  89.003751\n",
       "3   diltiazem     8  5.096910  86.825992\n",
       "4   diltiazem    10  5.000000  84.893724\n",
       "5   diltiazem    12  4.920819  83.146907\n",
       "6   diltiazem    14  4.853872  81.547406\n",
       "7   diltiazem    16  4.795880  80.068972\n",
       "8   diltiazem    18  4.744727  78.692511\n",
       "9   diltiazem    20  4.698970  77.403559\n",
       "10  diltiazem    30  4.522879  71.943382\n",
       "11  diltiazem    40  4.397940  67.616233\n",
       "12  diltiazem    50  4.301030  64.033547"
      ]
     },
     "execution_count": 309,
     "metadata": {},
     "output_type": "execute_result"
    }
   ],
   "source": [
    "drData=[]\n",
    "for curve in params:        \n",
    "    \n",
    "    # generate base curve\n",
    "    curData = pd.DataFrame(\n",
    "        data={\n",
    "            'compound':curve['compound'], \n",
    "            # 'dose':curve['startDose']/np.power(curve['dilution'], range(curve['nDose']))\n",
    "            'dose': concs\n",
    "        }        \n",
    "    )    \n",
    "    \n",
    "    curData['logDose'] = pDose(curData.dose)\n",
    "    curData['response'] = curData.dose.apply(lambda x: ll4(x,*[curve[i] for i in ['h', 'IC50']]))        \n",
    "    \n",
    "    # generate replicates\n",
    "    repData = []\n",
    "    for i in range(3):\n",
    "        rep = copy.deepcopy(curData)\n",
    "        if i>0 and i%2==1:            \n",
    "            rep.response -= 0.25*np.random.normal(len(rep.response))                    \n",
    "        elif i>0 and i%2==0:            \n",
    "            rep.response += 0.25*np.random.normal(len(rep.response))        \n",
    "        # for j in range(len(rep.response)):\n",
    "        #     if rep.response[j] >100:\n",
    "        #         rep.response[j] = 100\n",
    "        # print(rep.response)\n",
    "        repData.append(rep.copy())    \n",
    "    repData = pd.concat(repData)    \n",
    "    drData.append(repData)    \n",
    "# assemble data\n",
    "drData = pd.concat(drData)\n",
    "\n",
    "drData.head(13)"
   ]
  },
  {
   "cell_type": "code",
   "execution_count": 328,
   "id": "3672084c-9fee-47e8-8990-c85e5e79cf63",
   "metadata": {},
   "outputs": [
    {
     "name": "stdout",
     "output_type": "stream",
     "text": [
      "[  0.7189244  112.45663074]\n"
     ]
    },
    {
     "data": {
      "text/plain": [
       "['diltiazem']"
      ]
     },
     "execution_count": 328,
     "metadata": {},
     "output_type": "execute_result"
    }
   ],
   "source": [
    "compoundData = drData.groupby(['compound'])\n",
    "fitData = []\n",
    "for name,group in compoundData:\n",
    "    fitCoefs, covMatrix = opt.curve_fit(ll4, group.dose, group.response, p0=(0.5, 100), bounds=([0, 1e-10], [10, 1e+10]), method='trf')\n",
    "    print(fitCoefs)\n",
    "    resids = group.response-group.dose.apply(lambda x: ll4(x,*fitCoefs))\n",
    "    curFit = dict(zip(['h', 'IC50'], fitCoefs))\n",
    "    curFit['compound']=name\n",
    "    curFit['residuals']=sum(resids**2)\n",
    "    fitData.append(curFit)\n",
    "fitCompound = [ item['compound'] for item in fitData]\n",
    "fitCompound"
   ]
  },
  {
   "cell_type": "code",
   "execution_count": 329,
   "id": "99319d1f-7c76-40fe-9818-b870dc471128",
   "metadata": {},
   "outputs": [
    {
     "data": {
      "text/html": [
       "<div>\n",
       "<style scoped>\n",
       "    .dataframe tbody tr th:only-of-type {\n",
       "        vertical-align: middle;\n",
       "    }\n",
       "\n",
       "    .dataframe tbody tr th {\n",
       "        vertical-align: top;\n",
       "    }\n",
       "\n",
       "    .dataframe thead th {\n",
       "        text-align: right;\n",
       "    }\n",
       "</style>\n",
       "<table border=\"1\" class=\"dataframe\">\n",
       "  <thead>\n",
       "    <tr style=\"text-align: right;\">\n",
       "      <th></th>\n",
       "      <th>h</th>\n",
       "      <th>IC50</th>\n",
       "      <th>residuals</th>\n",
       "    </tr>\n",
       "    <tr>\n",
       "      <th>compound</th>\n",
       "      <th></th>\n",
       "      <th></th>\n",
       "      <th></th>\n",
       "    </tr>\n",
       "  </thead>\n",
       "  <tbody>\n",
       "    <tr>\n",
       "      <th>diltiazem</th>\n",
       "      <td>0.718924</td>\n",
       "      <td>112.456631</td>\n",
       "      <td>238.877807</td>\n",
       "    </tr>\n",
       "  </tbody>\n",
       "</table>\n",
       "</div>"
      ],
      "text/plain": [
       "                  h        IC50   residuals\n",
       "compound                                   \n",
       "diltiazem  0.718924  112.456631  238.877807"
      ]
     },
     "execution_count": 329,
     "metadata": {},
     "output_type": "execute_result"
    }
   ],
   "source": [
    "fitTable = pd.DataFrame(fitData).set_index('compound')\n",
    "fitTable"
   ]
  },
  {
   "cell_type": "code",
   "execution_count": 330,
   "id": "a34d10a3-d4c2-4fdf-8fa2-7016465e14a4",
   "metadata": {},
   "outputs": [
    {
     "data": {
      "text/html": [
       "<div>\n",
       "<style scoped>\n",
       "    .dataframe tbody tr th:only-of-type {\n",
       "        vertical-align: middle;\n",
       "    }\n",
       "\n",
       "    .dataframe tbody tr th {\n",
       "        vertical-align: top;\n",
       "    }\n",
       "\n",
       "    .dataframe thead th {\n",
       "        text-align: right;\n",
       "    }\n",
       "</style>\n",
       "<table border=\"1\" class=\"dataframe\">\n",
       "  <thead>\n",
       "    <tr style=\"text-align: right;\">\n",
       "      <th></th>\n",
       "      <th>h</th>\n",
       "      <th>IC50</th>\n",
       "      <th>residuals</th>\n",
       "      <th>ref_h</th>\n",
       "      <th>ref_IC50</th>\n",
       "    </tr>\n",
       "    <tr>\n",
       "      <th>compound</th>\n",
       "      <th></th>\n",
       "      <th></th>\n",
       "      <th></th>\n",
       "      <th></th>\n",
       "      <th></th>\n",
       "    </tr>\n",
       "  </thead>\n",
       "  <tbody>\n",
       "    <tr>\n",
       "      <th>diltiazem</th>\n",
       "      <td>0.718924</td>\n",
       "      <td>112.456631</td>\n",
       "      <td>238.877807</td>\n",
       "      <td>0.714205</td>\n",
       "      <td>112.130386</td>\n",
       "    </tr>\n",
       "  </tbody>\n",
       "</table>\n",
       "</div>"
      ],
      "text/plain": [
       "                  h        IC50   residuals     ref_h    ref_IC50\n",
       "compound                                                         \n",
       "diltiazem  0.718924  112.456631  238.877807  0.714205  112.130386"
      ]
     },
     "execution_count": 330,
     "metadata": {},
     "output_type": "execute_result"
    }
   ],
   "source": [
    "fitTable = pd.DataFrame(fitData).set_index('compound')\n",
    "paramTable = pd.DataFrame(params).set_index('compound')[['h', 'IC50']]\n",
    "paramTable.columns = ['ref_'+i for i in paramTable.columns]\n",
    "fitTable.join(paramTable)"
   ]
  },
  {
   "cell_type": "code",
   "execution_count": 331,
   "id": "71bde635-41ef-484d-bf86-f0f2c5418484",
   "metadata": {},
   "outputs": [
    {
     "name": "stderr",
     "output_type": "stream",
     "text": [
      "/opt/conda/lib/python3.7/site-packages/seaborn/_decorators.py:43: FutureWarning: Pass the following variables as keyword args: x, y. From version 0.12, the only valid positional argument will be `data`, and passing other arguments without an explicit keyword will result in an error or misinterpretation.\n",
      "  FutureWarning\n"
     ]
    },
    {
     "data": {
      "image/png": "[encoded data removed]",
      "text/plain": [
       "<Figure size 441.875x360 with 1 Axes>"
      ]
     },
     "metadata": {
      "needs_background": "light"
     },
     "output_type": "display_data"
    }
   ],
   "source": [
    "refDose = np.linspace(min(drData.logDose)*0.9,max(drData.logDose)*1.1,256)\n",
    "refDose = (10**-refDose)*1e6\n",
    "sns.lmplot('logDose','response',data=drData,hue='compound',fit_reg=False)\n",
    "for fit in fitData:\n",
    "    # plt.plot([pDose(i) for i in refDose], [ll4(i,*[fit[i] for i in ['h','a','b','IC50']]) for i in refDose])\n",
    "    plt.plot([pDose(i) for i in refDose], [ll4(i,*[fit[i] for i in ['h', 'IC50']]) for i in refDose])"
   ]
  },
  {
   "cell_type": "code",
   "execution_count": null,
   "id": "902e4519-193c-4ccd-9e35-7d0ba5481f3b",
   "metadata": {},
   "outputs": [],
   "source": []
  },
  {
   "cell_type": "code",
   "execution_count": null,
   "id": "e2e1261a-bd8a-4c37-aac2-6ad7208f6404",
   "metadata": {},
   "outputs": [],
   "source": []
  },
  {
   "cell_type": "code",
   "execution_count": null,
   "id": "608d1f90-d3f9-422e-9142-da1f3e6e2e2f",
   "metadata": {},
   "outputs": [],
   "source": []
  },
  {
   "cell_type": "code",
   "execution_count": null,
   "id": "78948a11-4cfa-4f0b-a3fe-64f8b2015fdf",
   "metadata": {},
   "outputs": [],
   "source": []
  }
 ],
 "metadata": {
  "kernelspec": {
   "display_name": "Python 3 (ipykernel)",
   "language": "python",
   "name": "python3"
  },
  "language_info": {
   "codemirror_mode": {
    "name": "ipython",
    "version": 3
   },
   "file_extension": ".py",
   "mimetype": "text/x-python",
   "name": "python",
   "nbconvert_exporter": "python",
   "pygments_lexer": "ipython3",
   "version": "3.7.11"
  }
 },
 "nbformat": 4,
 "nbformat_minor": 5
}
