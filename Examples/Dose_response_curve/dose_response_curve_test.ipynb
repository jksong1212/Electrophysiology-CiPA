{
 "cells": [
  {
   "cell_type": "code",
   "execution_count": 14,
   "id": "db5fa8d3-e1b5-438c-a6ad-9e3ca8c59895",
   "metadata": {},
   "outputs": [],
   "source": [
    "import copy\n",
    "import numpy as np\n",
    "import pandas as pd\n",
    "import scipy.optimize as opt\n",
    "import matplotlib.pyplot as plt\n",
    "import seaborn as sns\n",
    "# %matplotlib inline"
   ]
  },
  {
   "cell_type": "code",
   "execution_count": 44,
   "id": "bcd56e51-e36f-4b01-9142-2f48543f8ede",
   "metadata": {},
   "outputs": [],
   "source": [
    "# def ll4(x,b,c,d,e):\n",
    "#     '''This function is basically a copy of the LL.4 function from the R drc package with\n",
    "#      - b: hill slope\n",
    "#      - c: min response\n",
    "#      - d: max response\n",
    "#      - e: EC50'''\n",
    "#     return (c+(d-c)/(1+np.exp(b*(np.log(x)-np.log(e)))))\n",
    "\n",
    "\n",
    "def ll4(conc, h, IC50):\n",
    "    # print(conc)\n",
    "    '''This function is basically a copy of the LL.4 function from the R drc package with\n",
    "     - h: hill slope\n",
    "     - a: min response\n",
    "     - b: max response\n",
    "     - IC50: IC50'''\n",
    "    # return a+(b-a)/(1+np.exp(h*(np.log(conc)-np.log(IC50))))\n",
    "    return 100- 100.0/(1+(conc/10**np.log10(IC50))**h)\n",
    "\n",
    "\n",
    "\n",
    "def pDose(x):\n",
    "    '''This is just a helper function, to compute easily log transformed concentrations used in drug discovery'''\n",
    "    return(-np.log10(1e-6*x))"
   ]
  },
  {
   "cell_type": "markdown",
   "id": "c036c325-5b3d-451a-9171-5e4173def609",
   "metadata": {},
   "source": [
    "### Generating data"
   ]
  },
  {
   "cell_type": "code",
   "execution_count": 16,
   "id": "59a2d850-cd37-4aaf-899b-b89f31ffb49f",
   "metadata": {},
   "outputs": [
    {
     "data": {
      "text/plain": [
       "array([ 2,  4,  6,  8, 10, 12, 14, 16, 18, 20, 30, 40, 50])"
      ]
     },
     "execution_count": 16,
     "metadata": {},
     "output_type": "execute_result"
    }
   ],
   "source": [
    "doses = np.append(np.arange(1,11), [15, 20, 25], axis=0)\n",
    "# doses = np.arange(1, 100)\n",
    "cmax = 2\n",
    "concs = doses*cmax\n",
    "concs"
   ]
  },
  {
   "cell_type": "code",
   "execution_count": 24,
   "id": "b0d1ec30-9a3b-4fb2-b0a3-78dea3c52ab4",
   "metadata": {},
   "outputs": [],
   "source": [
    "params = [\n",
    "    { 'compound': 'dofetilide',  'h': 0.7712,   'IC50': 18.82 }\n",
    "\n",
    "    # { 'compound': 'A',  'b': 1,    'c': 0,   'd': 100,  'e': 0.4,   'startDose': 10,  'nDose': 8,  'dilution': 3 },\n",
    "    # { 'compound': 'B',  'b': 0.7,  'c': 0,   'd': 86,   'e': 1.3,   'startDose': 30,  'nDose': 8,  'dilution': 3 },\n",
    "    # { 'compound': 'C',  'b': 2,    'c': 24,  'd': 152,  'e': 0.02,  'startDose': 3,   'nDose': 8,  'dilution': 3 }\n",
    "]\n",
    "\n",
    "# dilution "
   ]
  },
  {
   "cell_type": "code",
   "execution_count": 25,
   "id": "de71c7e1-f1d2-46b7-9b86-59401e4f467a",
   "metadata": {},
   "outputs": [
    {
     "data": {
      "text/html": [
       "<div>\n",
       "<style scoped>\n",
       "    .dataframe tbody tr th:only-of-type {\n",
       "        vertical-align: middle;\n",
       "    }\n",
       "\n",
       "    .dataframe tbody tr th {\n",
       "        vertical-align: top;\n",
       "    }\n",
       "\n",
       "    .dataframe thead th {\n",
       "        text-align: right;\n",
       "    }\n",
       "</style>\n",
       "<table border=\"1\" class=\"dataframe\">\n",
       "  <thead>\n",
       "    <tr style=\"text-align: right;\">\n",
       "      <th></th>\n",
       "      <th>compound</th>\n",
       "      <th>dose</th>\n",
       "      <th>logDose</th>\n",
       "      <th>response</th>\n",
       "    </tr>\n",
       "  </thead>\n",
       "  <tbody>\n",
       "    <tr>\n",
       "      <th>0</th>\n",
       "      <td>dofetilide</td>\n",
       "      <td>2</td>\n",
       "      <td>5.698970</td>\n",
       "      <td>84.926594</td>\n",
       "    </tr>\n",
       "    <tr>\n",
       "      <th>1</th>\n",
       "      <td>dofetilide</td>\n",
       "      <td>4</td>\n",
       "      <td>5.397940</td>\n",
       "      <td>76.750927</td>\n",
       "    </tr>\n",
       "    <tr>\n",
       "      <th>2</th>\n",
       "      <td>dofetilide</td>\n",
       "      <td>6</td>\n",
       "      <td>5.221849</td>\n",
       "      <td>70.715481</td>\n",
       "    </tr>\n",
       "    <tr>\n",
       "      <th>3</th>\n",
       "      <td>dofetilide</td>\n",
       "      <td>8</td>\n",
       "      <td>5.096910</td>\n",
       "      <td>65.920312</td>\n",
       "    </tr>\n",
       "    <tr>\n",
       "      <th>4</th>\n",
       "      <td>dofetilide</td>\n",
       "      <td>10</td>\n",
       "      <td>5.000000</td>\n",
       "      <td>61.955428</td>\n",
       "    </tr>\n",
       "    <tr>\n",
       "      <th>5</th>\n",
       "      <td>dofetilide</td>\n",
       "      <td>12</td>\n",
       "      <td>4.920819</td>\n",
       "      <td>58.590213</td>\n",
       "    </tr>\n",
       "    <tr>\n",
       "      <th>6</th>\n",
       "      <td>dofetilide</td>\n",
       "      <td>14</td>\n",
       "      <td>4.853872</td>\n",
       "      <td>55.679616</td>\n",
       "    </tr>\n",
       "    <tr>\n",
       "      <th>7</th>\n",
       "      <td>dofetilide</td>\n",
       "      <td>16</td>\n",
       "      <td>4.795880</td>\n",
       "      <td>53.125668</td>\n",
       "    </tr>\n",
       "    <tr>\n",
       "      <th>8</th>\n",
       "      <td>dofetilide</td>\n",
       "      <td>18</td>\n",
       "      <td>4.744727</td>\n",
       "      <td>50.858808</td>\n",
       "    </tr>\n",
       "    <tr>\n",
       "      <th>9</th>\n",
       "      <td>dofetilide</td>\n",
       "      <td>20</td>\n",
       "      <td>4.698970</td>\n",
       "      <td>48.827757</td>\n",
       "    </tr>\n",
       "    <tr>\n",
       "      <th>10</th>\n",
       "      <td>dofetilide</td>\n",
       "      <td>30</td>\n",
       "      <td>4.522879</td>\n",
       "      <td>41.105809</td>\n",
       "    </tr>\n",
       "    <tr>\n",
       "      <th>11</th>\n",
       "      <td>dofetilide</td>\n",
       "      <td>40</td>\n",
       "      <td>4.397940</td>\n",
       "      <td>35.859823</td>\n",
       "    </tr>\n",
       "    <tr>\n",
       "      <th>12</th>\n",
       "      <td>dofetilide</td>\n",
       "      <td>50</td>\n",
       "      <td>4.301030</td>\n",
       "      <td>32.005006</td>\n",
       "    </tr>\n",
       "  </tbody>\n",
       "</table>\n",
       "</div>"
      ],
      "text/plain": [
       "      compound  dose   logDose   response\n",
       "0   dofetilide     2  5.698970  84.926594\n",
       "1   dofetilide     4  5.397940  76.750927\n",
       "2   dofetilide     6  5.221849  70.715481\n",
       "3   dofetilide     8  5.096910  65.920312\n",
       "4   dofetilide    10  5.000000  61.955428\n",
       "5   dofetilide    12  4.920819  58.590213\n",
       "6   dofetilide    14  4.853872  55.679616\n",
       "7   dofetilide    16  4.795880  53.125668\n",
       "8   dofetilide    18  4.744727  50.858808\n",
       "9   dofetilide    20  4.698970  48.827757\n",
       "10  dofetilide    30  4.522879  41.105809\n",
       "11  dofetilide    40  4.397940  35.859823\n",
       "12  dofetilide    50  4.301030  32.005006"
      ]
     },
     "execution_count": 25,
     "metadata": {},
     "output_type": "execute_result"
    }
   ],
   "source": [
    "drData=[]\n",
    "for curve in params:        \n",
    "    \n",
    "    # generate base curve\n",
    "    curData = pd.DataFrame(\n",
    "        data={\n",
    "            'compound':curve['compound'], \n",
    "            # 'dose':curve['startDose']/np.power(curve['dilution'], range(curve['nDose']))\n",
    "            'dose': concs\n",
    "        }        \n",
    "    )    \n",
    "    \n",
    "    curData['logDose'] = pDose(curData.dose)\n",
    "    curData['response'] = curData.dose.apply(lambda x: ll4(x,*[curve[i] for i in ['h', 'IC50']]))        \n",
    "    \n",
    "    # generate replicates\n",
    "    repData = []\n",
    "    for i in range(3):\n",
    "        rep = copy.deepcopy(curData)\n",
    "        if i>0 and i%2==1:            \n",
    "            rep.response -= 0.25*np.random.normal(len(rep.response))                    \n",
    "        elif i>0 and i%2==0:            \n",
    "            rep.response += 0.25*np.random.normal(len(rep.response))        \n",
    "        # for j in range(len(rep.response)):\n",
    "        #     if rep.response[j] >100:\n",
    "        #         rep.response[j] = 100\n",
    "        # print(rep.response)\n",
    "        repData.append(rep.copy())    \n",
    "    repData = pd.concat(repData)    \n",
    "    drData.append(repData)    \n",
    "# assemble data\n",
    "drData = pd.concat(drData)\n",
    "\n",
    "drData.head(13)"
   ]
  },
  {
   "cell_type": "code",
   "execution_count": 26,
   "id": "3672084c-9fee-47e8-8990-c85e5e79cf63",
   "metadata": {},
   "outputs": [
    {
     "name": "stdout",
     "output_type": "stream",
     "text": [
      "[ 0.77178652 18.9310236 ]\n"
     ]
    },
    {
     "data": {
      "text/plain": [
       "['dofetilide']"
      ]
     },
     "execution_count": 26,
     "metadata": {},
     "output_type": "execute_result"
    }
   ],
   "source": [
    "compoundData = drData.groupby(['compound'])\n",
    "fitData = []\n",
    "for name,group in compoundData:\n",
    "    fitCoefs, covMatrix = opt.curve_fit(ll4, group.dose, group.response, p0=(0.5, 100), bounds=([0, 1e-10], [10, 1e+10]), method='trf')\n",
    "    print(fitCoefs)\n",
    "    resids = group.response-group.dose.apply(lambda x: ll4(x,*fitCoefs))\n",
    "    curFit = dict(zip(['h', 'IC50'], fitCoefs))\n",
    "    curFit['compound']=name\n",
    "    curFit['residuals']=sum(resids**2)\n",
    "    fitData.append(curFit)\n",
    "fitCompound = [ item['compound'] for item in fitData]\n",
    "fitCompound"
   ]
  },
  {
   "cell_type": "code",
   "execution_count": 27,
   "id": "99319d1f-7c76-40fe-9818-b870dc471128",
   "metadata": {},
   "outputs": [
    {
     "data": {
      "text/html": [
       "<div>\n",
       "<style scoped>\n",
       "    .dataframe tbody tr th:only-of-type {\n",
       "        vertical-align: middle;\n",
       "    }\n",
       "\n",
       "    .dataframe tbody tr th {\n",
       "        vertical-align: top;\n",
       "    }\n",
       "\n",
       "    .dataframe thead th {\n",
       "        text-align: right;\n",
       "    }\n",
       "</style>\n",
       "<table border=\"1\" class=\"dataframe\">\n",
       "  <thead>\n",
       "    <tr style=\"text-align: right;\">\n",
       "      <th></th>\n",
       "      <th>h</th>\n",
       "      <th>IC50</th>\n",
       "      <th>residuals</th>\n",
       "    </tr>\n",
       "    <tr>\n",
       "      <th>compound</th>\n",
       "      <th></th>\n",
       "      <th></th>\n",
       "      <th></th>\n",
       "    </tr>\n",
       "  </thead>\n",
       "  <tbody>\n",
       "    <tr>\n",
       "      <th>dofetilide</th>\n",
       "      <td>0.771787</td>\n",
       "      <td>18.931024</td>\n",
       "      <td>266.371974</td>\n",
       "    </tr>\n",
       "  </tbody>\n",
       "</table>\n",
       "</div>"
      ],
      "text/plain": [
       "                   h       IC50   residuals\n",
       "compound                                   \n",
       "dofetilide  0.771787  18.931024  266.371974"
      ]
     },
     "execution_count": 27,
     "metadata": {},
     "output_type": "execute_result"
    }
   ],
   "source": [
    "fitTable = pd.DataFrame(fitData).set_index('compound')\n",
    "fitTable"
   ]
  },
  {
   "cell_type": "code",
   "execution_count": 28,
   "id": "a34d10a3-d4c2-4fdf-8fa2-7016465e14a4",
   "metadata": {},
   "outputs": [
    {
     "data": {
      "text/html": [
       "<div>\n",
       "<style scoped>\n",
       "    .dataframe tbody tr th:only-of-type {\n",
       "        vertical-align: middle;\n",
       "    }\n",
       "\n",
       "    .dataframe tbody tr th {\n",
       "        vertical-align: top;\n",
       "    }\n",
       "\n",
       "    .dataframe thead th {\n",
       "        text-align: right;\n",
       "    }\n",
       "</style>\n",
       "<table border=\"1\" class=\"dataframe\">\n",
       "  <thead>\n",
       "    <tr style=\"text-align: right;\">\n",
       "      <th></th>\n",
       "      <th>h</th>\n",
       "      <th>IC50</th>\n",
       "      <th>residuals</th>\n",
       "      <th>ref_h</th>\n",
       "      <th>ref_IC50</th>\n",
       "    </tr>\n",
       "    <tr>\n",
       "      <th>compound</th>\n",
       "      <th></th>\n",
       "      <th></th>\n",
       "      <th></th>\n",
       "      <th></th>\n",
       "      <th></th>\n",
       "    </tr>\n",
       "  </thead>\n",
       "  <tbody>\n",
       "    <tr>\n",
       "      <th>dofetilide</th>\n",
       "      <td>0.771787</td>\n",
       "      <td>18.931024</td>\n",
       "      <td>266.371974</td>\n",
       "      <td>0.7712</td>\n",
       "      <td>18.82</td>\n",
       "    </tr>\n",
       "  </tbody>\n",
       "</table>\n",
       "</div>"
      ],
      "text/plain": [
       "                   h       IC50   residuals   ref_h  ref_IC50\n",
       "compound                                                     \n",
       "dofetilide  0.771787  18.931024  266.371974  0.7712     18.82"
      ]
     },
     "execution_count": 28,
     "metadata": {},
     "output_type": "execute_result"
    }
   ],
   "source": [
    "fitTable = pd.DataFrame(fitData).set_index('compound')\n",
    "paramTable = pd.DataFrame(params).set_index('compound')[['h', 'IC50']]\n",
    "paramTable.columns = ['ref_'+i for i in paramTable.columns]\n",
    "fitTable.join(paramTable)"
   ]
  },
  {
   "cell_type": "code",
   "execution_count": 29,
   "id": "71bde635-41ef-484d-bf86-f0f2c5418484",
   "metadata": {},
   "outputs": [
    {
     "name": "stderr",
     "output_type": "stream",
     "text": [
      "C:\\Anaconda3\\envs\\ml\\lib\\site-packages\\seaborn\\_decorators.py:36: FutureWarning: Pass the following variables as keyword args: x, y. From version 0.12, the only valid positional argument will be `data`, and passing other arguments without an explicit keyword will result in an error or misinterpretation.\n",
      "  warnings.warn(\n"
     ]
    },
    {
     "data": {
      "image/png": "[encoded data removed]",
      "text/plain": [
       "<Figure size 443.125x360 with 1 Axes>"
      ]
     },
     "metadata": {
      "needs_background": "light"
     },
     "output_type": "display_data"
    }
   ],
   "source": [
    "refDose = np.linspace(min(drData.logDose)*0.9,max(drData.logDose)*1.1,256)\n",
    "refDose = (10**-refDose)*1e6\n",
    "sns.lmplot('logDose','response',data=drData,hue='compound',fit_reg=False)\n",
    "for fit in fitData:\n",
    "    # plt.plot([pDose(i) for i in refDose], [ll4(i,*[fit[i] for i in ['h','a','b','IC50']]) for i in refDose])\n",
    "    plt.plot([pDose(i) for i in refDose], [ll4(i,*[fit[i] for i in ['h', 'IC50']]) for i in refDose])"
   ]
  },
  {
   "cell_type": "code",
   "execution_count": null,
   "id": "dd446ba5-7027-481d-8413-3d8733ab6e9d",
   "metadata": {},
   "outputs": [],
   "source": []
  },
  {
   "cell_type": "code",
   "execution_count": 107,
   "id": "0e2de2c0-174b-462a-a8e7-f2609cc5e35b",
   "metadata": {},
   "outputs": [
    {
     "name": "stdout",
     "output_type": "stream",
     "text": [
      "(12,) (12,)\n"
     ]
    }
   ],
   "source": [
    "concs =  np.array([1 ,1 ,1, 2, 2, 2, 3, 3, 3, 6, 6, 6]) \t\n",
    "blocks = np.array([4.3, 5.9, 3.9, 20.9, 16.9, 14.3, 26.9, 28.4, 14.3, 34.9, 24.1, 22.1])\n",
    "print(concs.shape, blocks.shape)"
   ]
  },
  {
   "cell_type": "code",
   "execution_count": 108,
   "id": "cfb6ce23-ba3a-4258-99d0-a2d0150612a4",
   "metadata": {},
   "outputs": [
    {
     "data": {
      "text/plain": [
       "array([1, 6])"
      ]
     },
     "execution_count": 108,
     "metadata": {},
     "output_type": "execute_result"
    }
   ],
   "source": [
    "xvals = np.array([1, 2, 3, 6])\n",
    "# xvals = np.array([xvals.min(), xvals.max(), plot_IC50/10, plot_IC50*10])\n",
    "xvals = np.array([xvals.min(), xvals.max()])\n",
    "xvals"
   ]
  },
  {
   "cell_type": "code",
   "execution_count": 109,
   "id": "1d50b932-9eea-4bef-93c9-16738de17c12",
   "metadata": {},
   "outputs": [
    {
     "data": {
      "text/plain": [
       "array([1.        , 1.01826335, 1.03686025, 1.0557968 , 1.07507919,\n",
       "       1.09471374, 1.11470688, 1.13506517, 1.15579526, 1.17690396,\n",
       "       1.19839817, 1.22028494, 1.24257143, 1.26526495, 1.28837293,\n",
       "       1.31190294, 1.33586268, 1.36026001, 1.38510292, 1.41039954,\n",
       "       1.43615817, 1.46238723, 1.48909532, 1.5162912 , 1.54398376,\n",
       "       1.57218208, 1.60089539, 1.63013311, 1.6599048 , 1.69022023,\n",
       "       1.72108932, 1.75252218, 1.78452911, 1.81712059, 1.85030731,\n",
       "       1.88410012, 1.91851011, 1.95354853, 1.98922688, 2.02555683,\n",
       "       2.06255029, 2.10021937, 2.13857641, 2.17763399, 2.21740489,\n",
       "       2.25790213, 2.299139  , 2.34112898, 2.38388584, 2.42742359,\n",
       "       2.47175648, 2.51689904, 2.56286606, 2.60967258, 2.65733395,\n",
       "       2.70586578, 2.75528396, 2.80560468, 2.85684443, 2.90901998,\n",
       "       2.96214844, 3.0162472 , 3.07133399, 3.12742684, 3.18454414,\n",
       "       3.24270459, 3.30192725, 3.36223151, 3.42363713, 3.48616422,\n",
       "       3.54983327, 3.61466512, 3.68068102, 3.7479026 , 3.81635186,\n",
       "       3.88605124, 3.95702357, 4.02929208, 4.10288046, 4.17781281,\n",
       "       4.25411368, 4.33180806, 4.4109214 , 4.49147961, 4.57350908,\n",
       "       4.65703669, 4.74208979, 4.82869625, 4.91688443, 5.00668322,\n",
       "       5.09812204, 5.19123084, 5.28604012, 5.38258093, 5.4808849 ,\n",
       "       5.58098424, 5.68291172, 5.78670074, 5.89238529, 6.        ])"
      ]
     },
     "execution_count": 109,
     "metadata": {},
     "output_type": "execute_result"
    }
   ],
   "source": [
    "plot_x = np.linspace(min(np.log10(xvals)), max(np.log10(xvals)),  100)\n",
    "plot_x = 10**plot_x\n",
    "plot_x"
   ]
  },
  {
   "cell_type": "code",
   "execution_count": 110,
   "id": "304216b8-6d87-417a-9a62-0fe73421b991",
   "metadata": {},
   "outputs": [
    {
     "data": {
      "text/plain": [
       "array([ 9.41989711,  9.53966772,  9.66079875,  9.78330152,  9.90718731,\n",
       "       10.03246741, 10.15915309, 10.28725558, 10.41678609, 10.54775582,\n",
       "       10.6801759 , 10.81405745, 10.94941154, 11.08624919, 11.22458139,\n",
       "       11.36441906, 11.50577306, 11.64865419, 11.79307321, 11.93904076,\n",
       "       12.08656745, 12.23566378, 12.3863402 , 12.53860703, 12.69247453,\n",
       "       12.84795284, 13.00505201, 13.16378197, 13.32415255, 13.48617345,\n",
       "       13.64985424, 13.81520439, 13.98223321, 14.15094986, 14.32136339,\n",
       "       14.49348266, 14.6673164 , 14.84287317, 15.02016136, 15.19918918,\n",
       "       15.37996466, 15.56249567, 15.74678985, 15.93285466, 16.12069736,\n",
       "       16.310325  , 16.50174439, 16.69496215, 16.88998465, 17.08681804,\n",
       "       17.2854682 , 17.4859408 , 17.68824123, 17.89237463, 18.09834586,\n",
       "       18.30615954, 18.51581996, 18.72733117, 18.94069691, 19.15592061,\n",
       "       19.37300541, 19.59195414, 19.8127693 , 20.03545308, 20.26000733,\n",
       "       20.48643357, 20.71473297, 20.94490636, 21.17695421, 21.41087664,\n",
       "       21.64667339, 21.88434382, 22.12388695, 22.36530138, 22.60858533,\n",
       "       22.85373663, 23.10075271, 23.3496306 , 23.60036689, 23.8529578 ,\n",
       "       24.10739909, 24.36368613, 24.62181382, 24.88177666, 25.14356869,\n",
       "       25.40718352, 25.67261432, 25.93985377, 26.20889415, 26.47972724,\n",
       "       26.75234438, 27.02673644, 27.30289381, 27.58080644, 27.86046379,\n",
       "       28.14185483, 28.42496807, 28.70979155, 28.99631282, 29.28451894])"
      ]
     },
     "execution_count": 110,
     "metadata": {},
     "output_type": "execute_result"
    }
   ],
   "source": [
    "plot_IC50 = 18.82\t\n",
    "plot_h = 0.7712\n",
    "plot_y = ll4(plot_x, plot_h, plot_IC50)\n",
    "plot_y"
   ]
  },
  {
   "cell_type": "code",
   "execution_count": 117,
   "id": "adb09870-4582-455d-9702-a578dc48c311",
   "metadata": {},
   "outputs": [
    {
     "data": {
      "image/png": "[encoded data removed]",
      "text/plain": [
       "<Figure size 864x576 with 1 Axes>"
      ]
     },
     "metadata": {
      "needs_background": "light"
     },
     "output_type": "display_data"
    }
   ],
   "source": [
    "drug_channel = \"dofetilide-Ito\"\n",
    "fig, ax = plt.subplots(1,1, figsize=(12,8))    \n",
    "ax.set_title(drug_channel, fontsize=20)\n",
    "ax.set_xlabel(f'Concentration (nM)')  \n",
    "ax.set_ylabel(f'Block (%)')  \n",
    "ax.set_ylim(0, 100)    \n",
    "ax.plot( plot_x, plot_y, label=drug_channel, color='k', linewidth=2)         \n",
    "ax.scatter(concs, blocks, s=64, color='g')\n",
    "ax.legend()\n",
    "ax.grid()\n",
    "plt.plot\n",
    "fig.savefig(f\"{drug_channel}.jpg\", dpi=100)"
   ]
  },
  {
   "cell_type": "code",
   "execution_count": null,
   "id": "83b82a25-635d-4f23-a705-2774ae33a528",
   "metadata": {},
   "outputs": [],
   "source": []
  },
  {
   "cell_type": "code",
   "execution_count": null,
   "id": "5f9dfbe3-aedc-4968-899d-3f9e19d16604",
   "metadata": {},
   "outputs": [],
   "source": []
  },
  {
   "cell_type": "code",
   "execution_count": 118,
   "id": "55cd0f78-915c-4620-87e0-5e73e430cacd",
   "metadata": {},
   "outputs": [
    {
     "name": "stdout",
     "output_type": "stream",
     "text": [
      "(16,) (16,)\n"
     ]
    }
   ],
   "source": [
    "concs =  np.array([5, 5, 5, 50, 50, 50, 150, 150, 150, 150, 500, 500, 500, 1000, 1000, 1000]) \t\n",
    "blocks = np.array([6.5, 4.3, 1.1, 22.6, 20.9, 19.4, 50.5, 28.9, 40.1, 35.9, 89.8, 67.2, 68.9, 99.6, 77.7, 79.7 ])\n",
    "print(concs.shape, blocks.shape)"
   ]
  },
  {
   "cell_type": "code",
   "execution_count": 119,
   "id": "00c6ae16-2105-47c1-816c-9e2d71e27fc2",
   "metadata": {},
   "outputs": [],
   "source": [
    "xvals = np.array([5, 50, 150, 500, 1000])\n",
    "# xvals = np.array([xvals.min(), xvals.max(), plot_IC50/10, plot_IC50*10])\n",
    "xvals = np.array([xvals.min(), xvals.max()])\n",
    "plot_x = np.linspace(min(np.log10(xvals)), max(np.log10(xvals)),  100)\n",
    "plot_x = 10**plot_x\n",
    "\n",
    "plot_IC50 = 201.8\t\n",
    "plot_h = 1.097\n",
    "plot_y = ll4(plot_x, plot_h, plot_IC50)"
   ]
  },
  {
   "cell_type": "code",
   "execution_count": 120,
   "id": "ff37a9dc-ed15-45ed-be52-346a29f3534d",
   "metadata": {},
   "outputs": [
    {
     "data": {
      "image/png": "[encoded data removed]",
      "text/plain": [
       "<Figure size 864x576 with 1 Axes>"
      ]
     },
     "metadata": {
      "needs_background": "light"
     },
     "output_type": "display_data"
    }
   ],
   "source": [
    "drug_channel = \"verapamil-ICaL\"\n",
    "fig, ax = plt.subplots(1,1, figsize=(12,8))    \n",
    "ax.set_title(drug_channel, fontsize=20)\n",
    "ax.set_xlabel(f'Concentration (nM)')  \n",
    "ax.set_ylabel(f'Block (%)')  \n",
    "ax.set_ylim(0, 100)    \n",
    "ax.plot( plot_x, plot_y, label=drug_channel, color='k', linewidth=2)         \n",
    "ax.scatter(concs, blocks, s=64, color='g')\n",
    "ax.legend()\n",
    "ax.grid()\n",
    "plt.plot\n",
    "fig.savefig(f\"{drug_channel}.jpg\", dpi=100)"
   ]
  },
  {
   "cell_type": "code",
   "execution_count": null,
   "id": "c33accf6-9208-4e9c-bbe7-3d462bd27707",
   "metadata": {},
   "outputs": [],
   "source": []
  },
  {
   "cell_type": "code",
   "execution_count": null,
   "id": "d35df7d1-6291-4340-a154-6d8095672c29",
   "metadata": {},
   "outputs": [],
   "source": []
  }
 ],
 "metadata": {
  "kernelspec": {
   "display_name": "Python 3",
   "language": "python",
   "name": "python3"
  },
  "language_info": {
   "codemirror_mode": {
    "name": "ipython",
    "version": 3
   },
   "file_extension": ".py",
   "mimetype": "text/x-python",
   "name": "python",
   "nbconvert_exporter": "python",
   "pygments_lexer": "ipython3",
   "version": "3.8.10"
  }
 },
 "nbformat": 4,
 "nbformat_minor": 5
}
