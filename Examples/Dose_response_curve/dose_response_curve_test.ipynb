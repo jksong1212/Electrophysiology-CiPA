{
 "cells": [
  {
   "cell_type": "code",
   "execution_count": 1,
   "id": "db5fa8d3-e1b5-438c-a6ad-9e3ca8c59895",
   "metadata": {},
   "outputs": [],
   "source": [
    "import numpy as np\n",
    "import pandas as pd\n",
    "import scipy.optimize as opt\n",
    "import matplotlib.pyplot as plt\n",
    "import seaborn as sns\n",
    "# %matplotlib inline"
   ]
  },
  {
   "cell_type": "code",
   "execution_count": 2,
   "id": "bcd56e51-e36f-4b01-9142-2f48543f8ede",
   "metadata": {},
   "outputs": [],
   "source": [
    "def ll4(x,b,c,d,e):\n",
    "    '''This function is basically a copy of the LL.4 function from the R drc package with\n",
    "     - b: hill slope\n",
    "     - c: min response\n",
    "     - d: max response\n",
    "     - e: EC50'''\n",
    "    return(c+(d-c)/(1+np.exp(b*(np.log(x)-np.log(e)))))\n",
    "\n",
    "def pDose(x):\n",
    "    '''This is just a helper function, to compute easily log transformed concentrations used in drug discovery'''\n",
    "    return(-np.log10(1e-6*x))"
   ]
  },
  {
   "cell_type": "markdown",
   "id": "c036c325-5b3d-451a-9171-5e4173def609",
   "metadata": {},
   "source": [
    "### Generating data"
   ]
  },
  {
   "cell_type": "code",
   "execution_count": 3,
   "id": "b0d1ec30-9a3b-4fb2-b0a3-78dea3c52ab4",
   "metadata": {},
   "outputs": [],
   "source": [
    "params = [\n",
    "    { 'compound': 'A',  'b': 1,    'c': 0,   'd': 100,  'e': 0.4,   'startDose': 10,  'nDose': 8,  'dilution': 3 },\n",
    "    { 'compound': 'B',  'b': 0.7,  'c': 0,   'd': 86,   'e': 1.3,   'startDose': 30,  'nDose': 8,  'dilution': 3 },\n",
    "    { 'compound': 'C',  'b': 2,    'c': 24,  'd': 152,  'e': 0.02,  'startDose': 3,   'nDose': 8,  'dilution': 3 }\n",
    "]"
   ]
  },
  {
   "cell_type": "code",
   "execution_count": 4,
   "id": "de71c7e1-f1d2-46b7-9b86-59401e4f467a",
   "metadata": {},
   "outputs": [
    {
     "data": {
      "text/html": [
       "<div>\n",
       "<style scoped>\n",
       "    .dataframe tbody tr th:only-of-type {\n",
       "        vertical-align: middle;\n",
       "    }\n",
       "\n",
       "    .dataframe tbody tr th {\n",
       "        vertical-align: top;\n",
       "    }\n",
       "\n",
       "    .dataframe thead th {\n",
       "        text-align: right;\n",
       "    }\n",
       "</style>\n",
       "<table border=\"1\" class=\"dataframe\">\n",
       "  <thead>\n",
       "    <tr style=\"text-align: right;\">\n",
       "      <th></th>\n",
       "      <th>compound</th>\n",
       "      <th>dose</th>\n",
       "      <th>logDose</th>\n",
       "      <th>response</th>\n",
       "    </tr>\n",
       "  </thead>\n",
       "  <tbody>\n",
       "    <tr>\n",
       "      <th>0</th>\n",
       "      <td>A</td>\n",
       "      <td>10.000000</td>\n",
       "      <td>5.000000</td>\n",
       "      <td>6.068649</td>\n",
       "    </tr>\n",
       "    <tr>\n",
       "      <th>1</th>\n",
       "      <td>A</td>\n",
       "      <td>3.333333</td>\n",
       "      <td>5.477121</td>\n",
       "      <td>12.936781</td>\n",
       "    </tr>\n",
       "    <tr>\n",
       "      <th>2</th>\n",
       "      <td>A</td>\n",
       "      <td>1.111111</td>\n",
       "      <td>5.954243</td>\n",
       "      <td>28.693084</td>\n",
       "    </tr>\n",
       "    <tr>\n",
       "      <th>3</th>\n",
       "      <td>A</td>\n",
       "      <td>0.370370</td>\n",
       "      <td>6.431364</td>\n",
       "      <td>54.145572</td>\n",
       "    </tr>\n",
       "    <tr>\n",
       "      <th>4</th>\n",
       "      <td>A</td>\n",
       "      <td>0.123457</td>\n",
       "      <td>6.908485</td>\n",
       "      <td>78.637590</td>\n",
       "    </tr>\n",
       "  </tbody>\n",
       "</table>\n",
       "</div>"
      ],
      "text/plain": [
       "  compound       dose   logDose   response\n",
       "0        A  10.000000  5.000000   6.068649\n",
       "1        A   3.333333  5.477121  12.936781\n",
       "2        A   1.111111  5.954243  28.693084\n",
       "3        A   0.370370  6.431364  54.145572\n",
       "4        A   0.123457  6.908485  78.637590"
      ]
     },
     "execution_count": 4,
     "metadata": {},
     "output_type": "execute_result"
    }
   ],
   "source": [
    "drData=[]\n",
    "for curve in params:        \n",
    "    # generate base curve\n",
    "    curData = pd.DataFrame(\n",
    "        data={\n",
    "            'compound':curve['compound'], \n",
    "            'dose':curve['startDose']/np.power(curve['dilution'], range(curve['nDose']))\n",
    "        }\n",
    "    )    \n",
    "    curData['logDose'] = pDose(curData.dose)\n",
    "    curData['response'] = curData.dose.apply(lambda x: ll4(x,*[curve[i] for i in ['b','c','d','e']]))        \n",
    "    \n",
    "    # generate replicates\n",
    "    repData = []\n",
    "    for i in range(5):\n",
    "        rep = curData        \n",
    "        rep.response += 0.25*np.random.normal(len(rep.response))\n",
    "        repData.append(rep.copy())    \n",
    "    repData = pd.concat(repData)    \n",
    "    drData.append(repData)    \n",
    "# assemble data\n",
    "drData = pd.concat(drData)\n",
    "\n",
    "drData.head()"
   ]
  },
  {
   "cell_type": "code",
   "execution_count": 5,
   "id": "3672084c-9fee-47e8-8990-c85e5e79cf63",
   "metadata": {},
   "outputs": [
    {
     "name": "stderr",
     "output_type": "stream",
     "text": [
      "/opt/conda/lib/python3.7/site-packages/ipykernel_launcher.py:7: RuntimeWarning: invalid value encountered in log\n",
      "  import sys\n"
     ]
    },
    {
     "data": {
      "text/plain": [
       "['A', 'B', 'C']"
      ]
     },
     "execution_count": 5,
     "metadata": {},
     "output_type": "execute_result"
    }
   ],
   "source": [
    "compoundData = drData.groupby(['compound'])\n",
    "fitData = []\n",
    "for name,group in compoundData:\n",
    "    fitCoefs, covMatrix = opt.curve_fit(ll4, group.dose, group.response)\n",
    "    resids = group.response-group.dose.apply(lambda x: ll4(x,*fitCoefs))\n",
    "    curFit = dict(zip(['b','c','d','e'],fitCoefs))\n",
    "    curFit['compound']=name\n",
    "    curFit['residuals']=sum(resids**2)\n",
    "    fitData.append(curFit)\n",
    "fitCompound = [ item['compound'] for item in fitData]\n",
    "fitCompound"
   ]
  },
  {
   "cell_type": "code",
   "execution_count": 6,
   "id": "99319d1f-7c76-40fe-9818-b870dc471128",
   "metadata": {},
   "outputs": [
    {
     "data": {
      "text/html": [
       "<div>\n",
       "<style scoped>\n",
       "    .dataframe tbody tr th:only-of-type {\n",
       "        vertical-align: middle;\n",
       "    }\n",
       "\n",
       "    .dataframe tbody tr th {\n",
       "        vertical-align: top;\n",
       "    }\n",
       "\n",
       "    .dataframe thead th {\n",
       "        text-align: right;\n",
       "    }\n",
       "</style>\n",
       "<table border=\"1\" class=\"dataframe\">\n",
       "  <thead>\n",
       "    <tr style=\"text-align: right;\">\n",
       "      <th></th>\n",
       "      <th>b</th>\n",
       "      <th>c</th>\n",
       "      <th>d</th>\n",
       "      <th>e</th>\n",
       "      <th>residuals</th>\n",
       "    </tr>\n",
       "    <tr>\n",
       "      <th>compound</th>\n",
       "      <th></th>\n",
       "      <th></th>\n",
       "      <th></th>\n",
       "      <th></th>\n",
       "      <th></th>\n",
       "    </tr>\n",
       "  </thead>\n",
       "  <tbody>\n",
       "    <tr>\n",
       "      <th>A</th>\n",
       "      <td>1.0</td>\n",
       "      <td>6.199025</td>\n",
       "      <td>106.199025</td>\n",
       "      <td>0.40</td>\n",
       "      <td>331.591722</td>\n",
       "    </tr>\n",
       "    <tr>\n",
       "      <th>B</th>\n",
       "      <td>0.7</td>\n",
       "      <td>6.238549</td>\n",
       "      <td>92.238549</td>\n",
       "      <td>1.30</td>\n",
       "      <td>370.108183</td>\n",
       "    </tr>\n",
       "    <tr>\n",
       "      <th>C</th>\n",
       "      <td>2.0</td>\n",
       "      <td>29.811215</td>\n",
       "      <td>157.811215</td>\n",
       "      <td>0.02</td>\n",
       "      <td>273.142535</td>\n",
       "    </tr>\n",
       "  </tbody>\n",
       "</table>\n",
       "</div>"
      ],
      "text/plain": [
       "            b          c           d     e   residuals\n",
       "compound                                              \n",
       "A         1.0   6.199025  106.199025  0.40  331.591722\n",
       "B         0.7   6.238549   92.238549  1.30  370.108183\n",
       "C         2.0  29.811215  157.811215  0.02  273.142535"
      ]
     },
     "execution_count": 6,
     "metadata": {},
     "output_type": "execute_result"
    }
   ],
   "source": [
    "fitTable = pd.DataFrame(fitData).set_index('compound')\n",
    "fitTable"
   ]
  },
  {
   "cell_type": "code",
   "execution_count": 7,
   "id": "a34d10a3-d4c2-4fdf-8fa2-7016465e14a4",
   "metadata": {},
   "outputs": [
    {
     "data": {
      "text/html": [
       "<div>\n",
       "<style scoped>\n",
       "    .dataframe tbody tr th:only-of-type {\n",
       "        vertical-align: middle;\n",
       "    }\n",
       "\n",
       "    .dataframe tbody tr th {\n",
       "        vertical-align: top;\n",
       "    }\n",
       "\n",
       "    .dataframe thead th {\n",
       "        text-align: right;\n",
       "    }\n",
       "</style>\n",
       "<table border=\"1\" class=\"dataframe\">\n",
       "  <thead>\n",
       "    <tr style=\"text-align: right;\">\n",
       "      <th></th>\n",
       "      <th>b</th>\n",
       "      <th>c</th>\n",
       "      <th>d</th>\n",
       "      <th>e</th>\n",
       "      <th>residuals</th>\n",
       "      <th>ref_b</th>\n",
       "      <th>ref_c</th>\n",
       "      <th>ref_d</th>\n",
       "      <th>ref_e</th>\n",
       "    </tr>\n",
       "    <tr>\n",
       "      <th>compound</th>\n",
       "      <th></th>\n",
       "      <th></th>\n",
       "      <th></th>\n",
       "      <th></th>\n",
       "      <th></th>\n",
       "      <th></th>\n",
       "      <th></th>\n",
       "      <th></th>\n",
       "      <th></th>\n",
       "    </tr>\n",
       "  </thead>\n",
       "  <tbody>\n",
       "    <tr>\n",
       "      <th>A</th>\n",
       "      <td>1.0</td>\n",
       "      <td>6.199025</td>\n",
       "      <td>106.199025</td>\n",
       "      <td>0.40</td>\n",
       "      <td>331.591722</td>\n",
       "      <td>1.0</td>\n",
       "      <td>0</td>\n",
       "      <td>100</td>\n",
       "      <td>0.40</td>\n",
       "    </tr>\n",
       "    <tr>\n",
       "      <th>B</th>\n",
       "      <td>0.7</td>\n",
       "      <td>6.238549</td>\n",
       "      <td>92.238549</td>\n",
       "      <td>1.30</td>\n",
       "      <td>370.108183</td>\n",
       "      <td>0.7</td>\n",
       "      <td>0</td>\n",
       "      <td>86</td>\n",
       "      <td>1.30</td>\n",
       "    </tr>\n",
       "    <tr>\n",
       "      <th>C</th>\n",
       "      <td>2.0</td>\n",
       "      <td>29.811215</td>\n",
       "      <td>157.811215</td>\n",
       "      <td>0.02</td>\n",
       "      <td>273.142535</td>\n",
       "      <td>2.0</td>\n",
       "      <td>24</td>\n",
       "      <td>152</td>\n",
       "      <td>0.02</td>\n",
       "    </tr>\n",
       "  </tbody>\n",
       "</table>\n",
       "</div>"
      ],
      "text/plain": [
       "            b          c           d     e   residuals  ref_b  ref_c  ref_d  \\\n",
       "compound                                                                      \n",
       "A         1.0   6.199025  106.199025  0.40  331.591722    1.0      0    100   \n",
       "B         0.7   6.238549   92.238549  1.30  370.108183    0.7      0     86   \n",
       "C         2.0  29.811215  157.811215  0.02  273.142535    2.0     24    152   \n",
       "\n",
       "          ref_e  \n",
       "compound         \n",
       "A          0.40  \n",
       "B          1.30  \n",
       "C          0.02  "
      ]
     },
     "execution_count": 7,
     "metadata": {},
     "output_type": "execute_result"
    }
   ],
   "source": [
    "fitTable = pd.DataFrame(fitData).set_index('compound')\n",
    "paramTable = pd.DataFrame(params).set_index('compound')[['b','c','d','e']]\n",
    "paramTable.columns = ['ref_'+i for i in paramTable.columns]\n",
    "fitTable.join(paramTable)"
   ]
  },
  {
   "cell_type": "code",
   "execution_count": 8,
   "id": "71bde635-41ef-484d-bf86-f0f2c5418484",
   "metadata": {},
   "outputs": [
    {
     "name": "stderr",
     "output_type": "stream",
     "text": [
      "/opt/conda/lib/python3.7/site-packages/seaborn/_decorators.py:43: FutureWarning: Pass the following variables as keyword args: x, y. From version 0.12, the only valid positional argument will be `data`, and passing other arguments without an explicit keyword will result in an error or misinterpretation.\n",
      "  FutureWarning\n"
     ]
    },
    {
     "data": {
      "image/png": "[encoded data removed]",
      "text/plain": [
       "<Figure size 420.5x360 with 1 Axes>"
      ]
     },
     "metadata": {
      "needs_background": "light"
     },
     "output_type": "display_data"
    }
   ],
   "source": [
    "refDose = np.linspace(min(drData.logDose)*0.9,max(drData.logDose)*1.1,256)\n",
    "refDose = (10**-refDose)*1e6\n",
    "sns.lmplot('logDose','response',data=drData,hue='compound',fit_reg=False)\n",
    "for fit in fitData:\n",
    "    plt.plot([pDose(i) for i in refDose], [ll4(i,*[fit[i] for i in ['b','c','d','e']]) for i in refDose])"
   ]
  },
  {
   "cell_type": "code",
   "execution_count": null,
   "id": "902e4519-193c-4ccd-9e35-7d0ba5481f3b",
   "metadata": {},
   "outputs": [],
   "source": []
  },
  {
   "cell_type": "code",
   "execution_count": null,
   "id": "e2e1261a-bd8a-4c37-aac2-6ad7208f6404",
   "metadata": {},
   "outputs": [],
   "source": []
  },
  {
   "cell_type": "code",
   "execution_count": null,
   "id": "608d1f90-d3f9-422e-9142-da1f3e6e2e2f",
   "metadata": {},
   "outputs": [],
   "source": []
  },
  {
   "cell_type": "code",
   "execution_count": null,
   "id": "78948a11-4cfa-4f0b-a3fe-64f8b2015fdf",
   "metadata": {},
   "outputs": [],
   "source": []
  }
 ],
 "metadata": {
  "kernelspec": {
   "display_name": "Python 3 (ipykernel)",
   "language": "python",
   "name": "python3"
  },
  "language_info": {
   "codemirror_mode": {
    "name": "ipython",
    "version": 3
   },
   "file_extension": ".py",
   "mimetype": "text/x-python",
   "name": "python",
   "nbconvert_exporter": "python",
   "pygments_lexer": "ipython3",
   "version": "3.7.11"
  }
 },
 "nbformat": 4,
 "nbformat_minor": 5
}
